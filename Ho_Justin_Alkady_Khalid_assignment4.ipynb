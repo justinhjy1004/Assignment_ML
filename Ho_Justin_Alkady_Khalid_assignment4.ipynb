{
 "cells": [
  {
   "cell_type": "markdown",
   "metadata": {},
   "source": [
    "# Multi-Layer Perceptron\n",
    "In this Jupyter Notebook, we code a Multi-Layer Perceptron (MLP) for classification and regression tasks using Stochastic Gradient Descent for training the model. The MLP would be able to perform multiclass as well as binary classification. <br>\n",
    "\n",
    "The model would also allow customization of activation function used, as well as training schedule for optimization purposes. The MLP is designed with a single hidden layer architecture. <br>\n",
    "\n",
    "This notebook is dvided into three sections\n",
    "1. Section 1 - Helper functions and multiclass classification\n",
    "1. Section 2 - Binary classification\n",
    "1. Section 3 - Regression"
   ]
  },
  {
   "cell_type": "code",
   "execution_count": 3,
   "metadata": {},
   "outputs": [],
   "source": [
    "import numpy as np\n",
    "import pandas as pd\n",
    "import matplotlib.pyplot as plt\n",
    "import random\n",
    "import itertools\n",
    "import math\n",
    "from math import exp\n",
    "from sklearn import datasets\n",
    "from sklearn.utils import shuffle\n",
    "from sklearn.model_selection import train_test_split\n",
    "from sklearn.preprocessing import StandardScaler\n",
    "from sklearn.metrics import confusion_matrix, precision_score, recall_score, f1_score, classification_report\n",
    "from sklearn.metrics import accuracy_score\n",
    "from sklearn.metrics import multilabel_confusion_matrix\n",
    "from sklearn.metrics import precision_recall_fscore_support"
   ]
  },
  {
   "cell_type": "markdown",
   "metadata": {},
   "source": [
    "## Section 1"
   ]
  },
  {
   "cell_type": "markdown",
   "metadata": {},
   "source": [
    "### 1. Implement the following function that creates a weight matrix and initializes it with small random real numbers."
   ]
  },
  {
   "cell_type": "code",
   "execution_count": 4,
   "metadata": {},
   "outputs": [],
   "source": [
    "def initializeWeights(input_neurons,output_neurons):\n",
    "    W = np.random.randn(output_neurons,input_neurons) * 0.01\n",
    "    return W"
   ]
  },
  {
   "cell_type": "markdown",
   "metadata": {},
   "source": [
    "### 2. Implement the logistic sigmoid activation function."
   ]
  },
  {
   "cell_type": "code",
   "execution_count": 5,
   "metadata": {},
   "outputs": [],
   "source": [
    "def logistic(z):\n",
    "    return 1/(1+np.exp(-z))"
   ]
  },
  {
   "cell_type": "markdown",
   "metadata": {},
   "source": [
    "### 3. Implement the ReLU (rectified linear unit) activation function."
   ]
  },
  {
   "cell_type": "code",
   "execution_count": 6,
   "metadata": {},
   "outputs": [],
   "source": [
    "def relu(z):\n",
    "    return np.maximum(0,z) "
   ]
  },
  {
   "cell_type": "markdown",
   "metadata": {},
   "source": [
    "### 4. Implement the tanh (hyperbolic tangent) activation function."
   ]
  },
  {
   "cell_type": "code",
   "execution_count": 7,
   "metadata": {},
   "outputs": [],
   "source": [
    "def tanh(z):\n",
    "    return np.tanh(z)"
   ]
  },
  {
   "cell_type": "markdown",
   "metadata": {},
   "source": [
    "### 5. Implement a MLP Classifier model class for performing multi-class classification.\n",
    "\n",
    "### The MLP Classifier has a single hidden layer. It should have the following four methods.The model uses the back-propagation algorithm for learning the weights of the features/neurons. Note the that “fit” method should implement the Stochastic Gradient Descent algorithm for optimizing the weight update process."
   ]
  },
  {
   "cell_type": "code",
   "execution_count": 8,
   "metadata": {},
   "outputs": [],
   "source": [
    "'''\n",
    "Helper functions for the derivative of activation functions\n",
    "'''\n",
    "def d_logistic(z):\n",
    "    dz = logistic(z) * (1 - logistic(z))\n",
    "    return dz\n",
    "\n",
    "def d_tanh(z):\n",
    "    dz = (1-np.power(z,2))\n",
    "    return dz\n",
    "\n",
    "def d_relu(z):\n",
    "    dz = np.where(z==0,0,1)\n",
    "    return dz\n",
    "    "
   ]
  },
  {
   "cell_type": "code",
   "execution_count": 9,
   "metadata": {},
   "outputs": [],
   "source": [
    "'''\n",
    "Helper function for one_hot_labels\n",
    "Input:\n",
    "    Y - target vector\n",
    "Output:\n",
    "    one_hot_matrix\n",
    "'''\n",
    "def one_hot_labels(Y):\n",
    "    \n",
    "    # Get unique labels in Y and number of observations\n",
    "    unique_labels = np.unique(Y)\n",
    "    n = len(Y)\n",
    "    \n",
    "    # Create one hot matrix\n",
    "    labels = np.array(list(unique_labels)).reshape(len(unique_labels),1)\n",
    "    one_hot_matrix = np.apply_along_axis(lambda x: np.full((n,),x),1,labels)\n",
    "    one_hot_matrix = np.apply_along_axis(lambda x: (x==Y).astype(int),1,one_hot_matrix).T\n",
    "    \n",
    "    return one_hot_matrix"
   ]
  },
  {
   "cell_type": "code",
   "execution_count": 10,
   "metadata": {},
   "outputs": [],
   "source": [
    "'''\n",
    "Helper function for softmax calculation\n",
    "Given matrix A (output from hidden layer), outputs probabilties   \n",
    "'''\n",
    "def softmax(A):\n",
    "    A = np.apply_along_axis(np.exp,0,A)\n",
    "    A = np.apply_along_axis(lambda x: x/(sum(x)),1,A)\n",
    "    return A"
   ]
  },
  {
   "cell_type": "code",
   "execution_count": 11,
   "metadata": {},
   "outputs": [],
   "source": [
    "'''\n",
    "Helper function that determines the number of input layers\n",
    "and the number of layers\n",
    "Input:\n",
    "    X - feature matrix\n",
    "    Y - one_hot_matrix\n",
    "    n_h - number of hidden layers\n",
    "Output:\n",
    "    n_o - tuple containing the values\n",
    "'''\n",
    "def size_of_layers(X,Y,n_h):\n",
    "    n_i = X.shape[1]\n",
    "    n_o = Y.shape[1]\n",
    "    \n",
    "    return n_i, n_h, n_o"
   ]
  },
  {
   "cell_type": "code",
   "execution_count": 16,
   "metadata": {},
   "outputs": [],
   "source": [
    "'''\n",
    "Helper function to initialize parameters of the MLP\n",
    "This assumes a single hidden layer architecture\n",
    "Bias is included\n",
    "Input:\n",
    "    n_i - size of input layer (# of X_train columns)\n",
    "    n_h - size of hidden layer neurons\n",
    "    n_o - size of output layer neurons (# number of classes)\n",
    "Output:\n",
    "    parameters - Dictionary of Parameters\n",
    "'''\n",
    "def initializeParameters(n_i, n_h, n_o):\n",
    "    # Weights of each layer\n",
    "    W_i = initializeWeights(n_i,n_h)\n",
    "    W_h = initializeWeights(n_h,n_o)\n",
    "    \n",
    "    # Bias of each layer\n",
    "    b_i = np.zeros((n_h,1))\n",
    "    b_h = np.zeros((n_o,1))\n",
    "    \n",
    "    parameters = {\n",
    "        'W_input': W_i,\n",
    "        'b_input': b_i,\n",
    "        'W_hidden': W_h,\n",
    "        'b_hidden': b_h\n",
    "    }\n",
    "    \n",
    "    return parameters"
   ]
  },
  {
   "cell_type": "code",
   "execution_count": 17,
   "metadata": {},
   "outputs": [],
   "source": [
    "Y = one_hot_labels(y)"
   ]
  },
  {
   "cell_type": "code",
   "execution_count": 18,
   "metadata": {},
   "outputs": [],
   "source": [
    "n_i, n_h, n_o = size_of_layers(X,Y,4)\n",
    "params = initializeParameters(n_i, n_h, n_o)"
   ]
  },
  {
   "cell_type": "code",
   "execution_count": 19,
   "metadata": {},
   "outputs": [],
   "source": [
    "'''\n",
    "Forward propagation function given parameters, feature matrix and\n",
    "activation function and function to calculate probabilities\n",
    "Returns value after passing through hidden layer A2 and caching for backprop\n",
    "\n",
    "Input:\n",
    "    parameters - parameters\n",
    "    X - feature matrix\n",
    "    activation_function\n",
    "    classifier - sigmoid or softmax for output layer\n",
    "Output:\n",
    "    A_h - output of hidden layer\n",
    "    cache\n",
    "'''\n",
    "def forward_propagation(parameters, X, activation_function, classifier=softmax):\n",
    "    # Parameters definition\n",
    "    W_i = parameters['W_input']\n",
    "    b_i = parameters['b_input']\n",
    "    W_h = parameters['W_hidden']\n",
    "    b_h = parameters['b_hidden']\n",
    "    \n",
    "    # Computation of Input Layer\n",
    "    Z_i = np.dot(W_i,X.T) + b_i\n",
    "    A_i = activation_function(Z_i)\n",
    "    \n",
    "    # Computation of Hidden Layer\n",
    "    Z_h = np.dot(W_h,A_i) + b_h\n",
    "    A_h = classifier(Z_h.T)\n",
    "    \n",
    "    # Caching \n",
    "    cache = {\n",
    "        'Z_i': Z_i,\n",
    "        'A_i': A_i,\n",
    "        'Z_h': Z_h,\n",
    "        'A_h': A_h\n",
    "    }\n",
    "    \n",
    "    return A_h, cache\n",
    "    "
   ]
  },
  {
   "cell_type": "code",
   "execution_count": 21,
   "metadata": {},
   "outputs": [],
   "source": [
    "'''\n",
    "Helper function to calculate the cross entropy cost function\n",
    "Input:\n",
    "    pred - predicted values\n",
    "    Y - actual values\n",
    "Output:\n",
    "    cost\n",
    "'''\n",
    "def cost(pred, Y):\n",
    "    cost = np.multiply(Y, np.log(pred)) + np.multiply((1-Y), np.log(pred))\n",
    "    cost = -np.sum(cost)/Y.shape[0]\n",
    "    return cost"
   ]
  },
  {
   "cell_type": "code",
   "execution_count": 22,
   "metadata": {},
   "outputs": [],
   "source": [
    "'''\n",
    "Helper function to select a sample with correct shape from X (feature matrix)\n",
    "Input:\n",
    "    X\n",
    "Output:\n",
    "    i - index\n",
    "    x - vector of sample\n",
    "'''\n",
    "def select_sample(X):\n",
    "    \n",
    "    m,n = X.shape\n",
    "    i = random.randint(0,m)\n",
    "    \n",
    "    return i, X[i].reshape(1,n)"
   ]
  },
  {
   "cell_type": "code",
   "execution_count": 23,
   "metadata": {},
   "outputs": [],
   "source": [
    "'''\n",
    "Calculation of backward propagation and passing down \n",
    "gradients.\n",
    "Input:\n",
    "    parameters \n",
    "    cache \n",
    "    X - can be vector or matrix\n",
    "    Y - dependent of type of X\n",
    "    d_activation - derivative of the activation fx used\n",
    "Output\n",
    "    grad - dictionary of gradients\n",
    "'''\n",
    "def back_propagation(parameters, cache, X, Y, d_activation):\n",
    "\n",
    "    # Parameters of model\n",
    "    W_i = parameters['W_input']\n",
    "    b_i = parameters['b_input']\n",
    "    W_h = parameters['W_hidden']\n",
    "    b_h = parameters['b_hidden']\n",
    "\n",
    "    # Retrieve Cached Calculations\n",
    "    A_i = cache['A_i']\n",
    "    A_h = cache['A_h']\n",
    "    Z_i = cache['Z_i']\n",
    "    Z_h = cache['Z_h']\n",
    "\n",
    "    # Calculation of gradients \n",
    "    dz_h = A_h - Y\n",
    "    dw_h = np.dot(A_i,dz_h).T\n",
    "    db_h = np.sum(dz_h)\n",
    "    dz_i = np.dot(dz_h,W_h) * d_activation(A_i).T\n",
    "    dw_i = np.dot(dz_i.T,s)\n",
    "    db_i = np.sum(dz_i)\n",
    "    \n",
    "    # Gradient Descent\n",
    "    grad = {\n",
    "        'dw_h' : dw_h,\n",
    "        'db_h' : db_h,\n",
    "        'dw_i' : dw_i,\n",
    "        'db_i' : db_i\n",
    "    }\n",
    "    \n",
    "    return grad\n"
   ]
  },
  {
   "cell_type": "code",
   "execution_count": 26,
   "metadata": {},
   "outputs": [],
   "source": [
    "def gradient_descent(parameters, gradient, learning_rate):\n",
    "    # Parameters of model\n",
    "    W_i = parameters['W_input']\n",
    "    b_i = parameters['b_input']\n",
    "    W_h = parameters['W_hidden']\n",
    "    b_h = parameters['b_hidden']\n",
    "    \n",
    "    # Gradient to update\n",
    "    dw_h = gradient['dw_h']\n",
    "    db_h = gradient['db_h']\n",
    "    dw_i = gradient['dw_i']\n",
    "    db_i = gradient['db_i']\n",
    "    \n",
    "    # Update\n",
    "    W_i = W_i - learning_rate*dw_i\n",
    "    b_i = b_i - learning_rate*db_i\n",
    "    W_h = W_h - learning_rate*dw_h\n",
    "    b_h = b_h - learning_rate*db_h\n",
    "    \n",
    "    parameters = {\n",
    "        'W_input': W_i,\n",
    "        'b_input': b_i,\n",
    "        'W_hidden': W_h,\n",
    "        'b_hidden': b_h\n",
    "    }\n",
    "    \n",
    "    return parameters"
   ]
  },
  {
   "cell_type": "markdown",
   "metadata": {},
   "source": [
    "### TESTING GROUND"
   ]
  },
  {
   "cell_type": "code",
   "execution_count": 38,
   "metadata": {},
   "outputs": [],
   "source": [
    "# Convert into one-hot labels for Y\n",
    "Y = one_hot_labels(y)\n",
    "\n",
    "# Obtain size of layers setting 4 hidden neurons\n",
    "n_i, n_h, n_o = size_of_layers(X,Y,4)\n",
    "# Initialize parameters\n",
    "params = initializeParameters(n_i, n_h, n_o)\n",
    "\n",
    "# Get number of samples included and randomly select a value\n",
    "i,s = select_sample(X)\n",
    "\n",
    "A_h, cache = forward_propagation(params, s, relu, classifier=softmax)\n",
    "\n",
    "grad = back_propagation(params, cache, s, Y[i], d_relu)\n",
    "\n",
    "# Parameters of model\n",
    "W_i = params['W_input']\n",
    "b_i = params['b_input']\n",
    "W_h = params['W_hidden']\n",
    "b_h = params['b_hidden']\n",
    "\n",
    "# Retrieve Cached Calculations\n",
    "A_i = cache['A_i']\n",
    "A_h = cache['A_h']\n",
    "Z_i = cache['Z_i']\n",
    "Z_h = cache['Z_h']"
   ]
  },
  {
   "cell_type": "code",
   "execution_count": 41,
   "metadata": {},
   "outputs": [],
   "source": [
    "epochs = 100\n",
    "learning_rate = 0.001\n",
    "\n",
    "training_cost = []\n",
    "\n",
    "for e in range(epochs):\n",
    "    # select sample for SGD\n",
    "    i,s = select_sample(X)\n",
    "\n",
    "    # Run forward prop\n",
    "    A_h, cache = forward_propagation(params, s, relu, classifier=softmax)\n",
    "    \n",
    "    training_cost.append(cost(A_h,Y))\n",
    "    \n",
    "    # obtain backprop from gradient descent\n",
    "    grad = back_propagation(params, cache, s, Y[i], d_relu)\n",
    "    \n",
    "    params =  gradient_descent(params, grad, learning_rate)\n",
    "    "
   ]
  },
  {
   "cell_type": "code",
   "execution_count": 42,
   "metadata": {},
   "outputs": [
    {
     "data": {
      "text/plain": [
       "[23.090769228079992,\n",
       " 23.035626361955412,\n",
       " 23.1553869836875,\n",
       " 23.032289289386622,\n",
       " 23.032955817992672,\n",
       " 23.036734272356245,\n",
       " 24.602968856342276,\n",
       " 23.047171771747262,\n",
       " 23.13237215252103,\n",
       " 23.029637816809633,\n",
       " 23.10301597393142,\n",
       " 23.025875524611333,\n",
       " 23.03512361518619,\n",
       " 24.085104826893343,\n",
       " 23.080500332950667,\n",
       " 24.253238838640534,\n",
       " 23.068830380091708,\n",
       " 23.346516214848933,\n",
       " 23.222723645535595,\n",
       " 23.02617355455827,\n",
       " 23.27960359166309,\n",
       " 23.495060589043295,\n",
       " 23.05165503595681,\n",
       " 23.15099510066276,\n",
       " 23.07256930762801,\n",
       " 23.048500521067425,\n",
       " 23.040444044306856,\n",
       " 23.062168507973055,\n",
       " 23.027217428879982,\n",
       " 23.034835840614832,\n",
       " 23.056642866640203,\n",
       " 23.02778553828076,\n",
       " 23.09671689506662,\n",
       " 23.0368890679229,\n",
       " 23.035577773201133,\n",
       " 23.028449866779173,\n",
       " 23.10411244083284,\n",
       " 23.070717607208326,\n",
       " 23.041748580324857,\n",
       " 23.030923880985114,\n",
       " 23.11797553455881,\n",
       " 23.02588254507033,\n",
       " 23.214793383436444,\n",
       " 24.130153485644037,\n",
       " 23.027274931265282,\n",
       " 23.13615384531266,\n",
       " 23.027873735389527,\n",
       " 23.508815272559694,\n",
       " 24.112709682367694,\n",
       " 23.19971192717736,\n",
       " 23.034502888200194,\n",
       " 23.033749120138683,\n",
       " 23.06612807504763,\n",
       " 23.462355868087716,\n",
       " 24.08522054932834,\n",
       " 23.143031074248167,\n",
       " 23.834302667901564,\n",
       " 23.044061676434957,\n",
       " 23.037225996236643,\n",
       " 23.08268492403173,\n",
       " 23.107716668401974,\n",
       " 23.02844357013834,\n",
       " 23.061004915328027,\n",
       " 23.038054708914423,\n",
       " 23.09132310131471,\n",
       " 23.305876618307018,\n",
       " 23.12004224711545,\n",
       " 23.08924256285061,\n",
       " 23.081939210525213,\n",
       " 23.143094695835376,\n",
       " 23.089832012209964,\n",
       " 23.185456497730936,\n",
       " 23.03743313243087,\n",
       " 23.033003451452664,\n",
       " 23.035484092721127,\n",
       " 24.633270091187555,\n",
       " 23.11977337382921,\n",
       " 23.107722352591022,\n",
       " 23.060028200153024,\n",
       " 23.04719604377329,\n",
       " 23.26938194452422,\n",
       " 23.12698565793425,\n",
       " 23.044591605391194,\n",
       " 23.054044596813153,\n",
       " 23.184258556869185,\n",
       " 23.052817900764655,\n",
       " 23.251605530938843,\n",
       " 23.6701712938789,\n",
       " 23.822317624778023,\n",
       " 23.048303272205256,\n",
       " 23.329091431445455,\n",
       " 23.268374955171584,\n",
       " 25.860011842434293,\n",
       " 23.263993609350976,\n",
       " 23.268830229106612,\n",
       " 24.232508823690882,\n",
       " 23.160945070524484,\n",
       " 26.717249552901432,\n",
       " 23.038528224391786,\n",
       " 23.0296412454218]"
      ]
     },
     "execution_count": 42,
     "metadata": {},
     "output_type": "execute_result"
    }
   ],
   "source": [
    "training_cost"
   ]
  },
  {
   "cell_type": "code",
   "execution_count": 228,
   "metadata": {},
   "outputs": [],
   "source": [
    "# Calculation of gradients \n",
    "dz_h = A_h - Y[i]\n",
    "dw_h = np.dot(A_i,dz_h).T\n",
    "db_h = np.sum(dz_h)\n",
    "dz_i = np.dot(dz_h,W_h) * d_relu(A_i).T\n",
    "dw_i = np.dot(dz_i.T,s)\n",
    "db_i = np.sum(dz_i)"
   ]
  },
  {
   "cell_type": "code",
   "execution_count": 37,
   "metadata": {},
   "outputs": [
    {
     "ename": "NameError",
     "evalue": "name 'W' is not defined",
     "output_type": "error",
     "traceback": [
      "\u001b[0;31m---------------------------------------------------------------------------\u001b[0m",
      "\u001b[0;31mNameError\u001b[0m                                 Traceback (most recent call last)",
      "\u001b[0;32m<ipython-input-37-f9e8b9556f03>\u001b[0m in \u001b[0;36m<module>\u001b[0;34m\u001b[0m\n\u001b[0;32m----> 1\u001b[0;31m \u001b[0mW\u001b[0m\u001b[0;34m\u001b[0m\u001b[0;34m\u001b[0m\u001b[0m\n\u001b[0m",
      "\u001b[0;31mNameError\u001b[0m: name 'W' is not defined"
     ]
    }
   ],
   "source": [
    "W"
   ]
  },
  {
   "cell_type": "code",
   "execution_count": 232,
   "metadata": {},
   "outputs": [
    {
     "data": {
      "text/plain": [
       "(10, 4)"
      ]
     },
     "execution_count": 232,
     "metadata": {},
     "output_type": "execute_result"
    }
   ],
   "source": [
    "dw_h.shape"
   ]
  },
  {
   "cell_type": "code",
   "execution_count": 233,
   "metadata": {},
   "outputs": [
    {
     "data": {
      "text/plain": [
       "(10, 4)"
      ]
     },
     "execution_count": 233,
     "metadata": {},
     "output_type": "execute_result"
    }
   ],
   "source": [
    "W_h.shape"
   ]
  },
  {
   "cell_type": "code",
   "execution_count": 234,
   "metadata": {},
   "outputs": [
    {
     "data": {
      "text/plain": [
       "(4, 64)"
      ]
     },
     "execution_count": 234,
     "metadata": {},
     "output_type": "execute_result"
    }
   ],
   "source": [
    "dw_i.shape"
   ]
  },
  {
   "cell_type": "code",
   "execution_count": 235,
   "metadata": {},
   "outputs": [
    {
     "data": {
      "text/plain": [
       "(4, 64)"
      ]
     },
     "execution_count": 235,
     "metadata": {},
     "output_type": "execute_result"
    }
   ],
   "source": [
    "W_i.shape"
   ]
  },
  {
   "cell_type": "code",
   "execution_count": null,
   "metadata": {},
   "outputs": [],
   "source": []
  },
  {
   "cell_type": "markdown",
   "metadata": {},
   "source": [
    "### 6. Read the handwritten digits datasetusing the sklearn.datasets.load_digits function for performing multi-class classification."
   ]
  },
  {
   "cell_type": "code",
   "execution_count": 31,
   "metadata": {},
   "outputs": [],
   "source": [
    "digits = datasets.load_digits()\n",
    "X = digits.data\n",
    "y = digits.target"
   ]
  },
  {
   "cell_type": "code",
   "execution_count": 32,
   "metadata": {},
   "outputs": [
    {
     "data": {
      "text/plain": [
       "(1797, 64)"
      ]
     },
     "execution_count": 32,
     "metadata": {},
     "output_type": "execute_result"
    }
   ],
   "source": [
    "X.shape"
   ]
  },
  {
   "cell_type": "markdown",
   "metadata": {},
   "source": [
    "### 7. Partition the data into train and test set. Use the “Partition” function from your previous assignment or from sklearn."
   ]
  },
  {
   "cell_type": "code",
   "execution_count": 33,
   "metadata": {},
   "outputs": [],
   "source": [
    "X_train,X_test,y_train,y_test = train_test_split(X,y,test_size=0.2)"
   ]
  },
  {
   "cell_type": "markdown",
   "metadata": {},
   "source": [
    "### 8. Standardize the features."
   ]
  },
  {
   "cell_type": "code",
   "execution_count": 34,
   "metadata": {},
   "outputs": [],
   "source": [
    "scaler = StandardScaler()\n",
    "scaler.fit(X_train)\n",
    "X_train = scaler.transform(X_train)\n",
    "X_test = scaler.transform(X_test)"
   ]
  },
  {
   "cell_type": "markdown",
   "metadata": {},
   "source": [
    "### 9. Hyperparameter tuning based on certain fixed-values hyperparameters."
   ]
  },
  {
   "cell_type": "code",
   "execution_count": null,
   "metadata": {},
   "outputs": [],
   "source": []
  },
  {
   "cell_type": "markdown",
   "metadata": {},
   "source": [
    "### 10. Report on performance of model."
   ]
  },
  {
   "cell_type": "code",
   "execution_count": null,
   "metadata": {},
   "outputs": [],
   "source": []
  },
  {
   "cell_type": "markdown",
   "metadata": {},
   "source": [
    "## Section 2"
   ]
  },
  {
   "cell_type": "markdown",
   "metadata": {},
   "source": [
    "### 11. Implement binary classification module in theMLPClassifier. Then, performbinary classification on the handwritten digits dataset to recognize the digits “5” and “not-5”."
   ]
  },
  {
   "cell_type": "code",
   "execution_count": null,
   "metadata": {},
   "outputs": [],
   "source": []
  },
  {
   "cell_type": "markdown",
   "metadata": {},
   "source": [
    "### (i) Hyperparameter tuning based on certain fixed-values hyperparameters"
   ]
  },
  {
   "cell_type": "code",
   "execution_count": null,
   "metadata": {},
   "outputs": [],
   "source": []
  },
  {
   "cell_type": "markdown",
   "metadata": {},
   "source": [
    "### (ii) Report performance on model."
   ]
  },
  {
   "cell_type": "code",
   "execution_count": null,
   "metadata": {},
   "outputs": [],
   "source": []
  },
  {
   "cell_type": "markdown",
   "metadata": {},
   "source": [
    "## Section 3 (Extra Credit)"
   ]
  },
  {
   "cell_type": "markdown",
   "metadata": {},
   "source": [
    "### 12. Implement a Multi-Layer Perceptron regressor model (a MLP Regressor class) with a single hidden layer. The model implements the backpropagation algorithm. To optimize the process of updating the weight matrices, it uses the Stochastic Gradient Descent (SGD) algorithm with momentum."
   ]
  },
  {
   "cell_type": "code",
   "execution_count": null,
   "metadata": {},
   "outputs": [],
   "source": []
  },
  {
   "cell_type": "markdown",
   "metadata": {},
   "source": [
    "### (i) Hyperparameter tuning based on certain fixed-values hyperparameters"
   ]
  },
  {
   "cell_type": "code",
   "execution_count": null,
   "metadata": {},
   "outputs": [],
   "source": []
  },
  {
   "cell_type": "markdown",
   "metadata": {},
   "source": [
    "### (ii) Report performance on model."
   ]
  },
  {
   "cell_type": "code",
   "execution_count": null,
   "metadata": {},
   "outputs": [],
   "source": []
  }
 ],
 "metadata": {
  "kernelspec": {
   "display_name": "Python 3",
   "language": "python",
   "name": "python3"
  },
  "language_info": {
   "codemirror_mode": {
    "name": "ipython",
    "version": 3
   },
   "file_extension": ".py",
   "mimetype": "text/x-python",
   "name": "python",
   "nbconvert_exporter": "python",
   "pygments_lexer": "ipython3",
   "version": "3.8.5"
  }
 },
 "nbformat": 4,
 "nbformat_minor": 4
}
