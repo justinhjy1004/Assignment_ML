{
 "cells": [
  {
   "cell_type": "markdown",
   "metadata": {},
   "source": [
    "# Logistic Regression"
   ]
  },
  {
   "cell_type": "markdown",
   "metadata": {},
   "source": [
    "This is the third programming assignment for CSCE478/878 Introduction to Machine Learning on Logistic Regression. This notebook is divided into 2 main sections, and 3 subsections each\n",
    "1. **Part A Logistic Regression - Binary Classification**\n",
    "    1. Model Code\n",
    "    1. Load, Partition and Scale Data\n",
    "    1. Model Evaluation\n",
    "1. **Part B Logistic Regression - Multiclass Classification**\n",
    "    1. Model Code\n",
    "    1. Load, Partition and Scale Data\n",
    "    1. Model Evaluation"
   ]
  },
  {
   "cell_type": "code",
   "execution_count": 65,
   "metadata": {},
   "outputs": [],
   "source": [
    "import numpy as np\n",
    "import pandas as pd\n",
    "import matplotlib.pyplot as plt\n",
    "import random\n",
    "import itertools\n",
    "import math\n",
    "from math import exp\n",
    "from sklearn import datasets\n",
    "from sklearn.utils import shuffle\n",
    "from sklearn.model_selection import train_test_split\n",
    "from sklearn.preprocessing import StandardScaler\n",
    "from sklearn.metrics import confusion_matrix, precision_score, recall_score, f1_score, classification_report"
   ]
  },
  {
   "cell_type": "markdown",
   "metadata": {},
   "source": [
    "## Part A-I Model Code Logistic Regression - Binary Classification"
   ]
  },
  {
   "cell_type": "markdown",
   "metadata": {},
   "source": [
    "### 1. Implement the following function that computes the sigmoid score of samples."
   ]
  },
  {
   "cell_type": "code",
   "execution_count": 27,
   "metadata": {},
   "outputs": [],
   "source": [
    "def sigmoid(score):\n",
    "    prob=1/(1+np.exp(-score))\n",
    "    return prob"
   ]
  },
  {
   "cell_type": "markdown",
   "metadata": {},
   "source": [
    "### 2. Implement the following function to compute the binary cross-entropy loss\n",
    " "
   ]
  },
  {
   "cell_type": "code",
   "execution_count": 28,
   "metadata": {},
   "outputs": [],
   "source": [
    "def binary_cross_entropy(Y,Y_proba):\n",
    "    loss=-(np.dot(Y,np.log(Y_proba))+np.dot((1-Y),np.log((1-Y_proba))))/Y.shape[0]\n",
    "    return loss\n",
    "    "
   ]
  },
  {
   "cell_type": "markdown",
   "metadata": {},
   "source": [
    "###  3. Implement the following function to compute the l2 regularized binary cross-entropy loss."
   ]
  },
  {
   "cell_type": "code",
   "execution_count": 42,
   "metadata": {},
   "outputs": [],
   "source": [
    "def binary_cross_entropy_loss_l2(Y,Y_proba,theta,lambd):\n",
    "    loss=-(np.dot(Y,np.log(Y_proba))+np.dot((1-Y),np.log((1-Y_proba))))/Y.shape[0] + 0.5*lambd*np.dot(theta[1:],theta[1:])/Y.shape[0] \n",
    "    return loss\n",
    "    "
   ]
  },
  {
   "cell_type": "markdown",
   "metadata": {},
   "source": [
    "### 4. Implement the following function to compute the l1 regularized binary cross-entropy loss."
   ]
  },
  {
   "cell_type": "code",
   "execution_count": 43,
   "metadata": {},
   "outputs": [],
   "source": [
    "def binary_cross_entropy_loss_l1(Y,Y_proba,theta,lambd):\n",
    "    loss=-(np.dot(Y,np.log(Y_proba))+np.dot((1-Y),np.log((1-Y_proba))))/Y.shape[0] + lambd*np.sum(abs(theta[1:]))/Y.shape[0] \n",
    "    return loss"
   ]
  },
  {
   "cell_type": "markdown",
   "metadata": {},
   "source": [
    "### 5 Implement a Logistic_Regression_Binary model class. It should have the following three methods. Note the that “fit” method should implement the batch gradient descent algorithm (based on the 1st order derivative of the loss)."
   ]
  },
  {
   "cell_type": "code",
   "execution_count": 100,
   "metadata": {},
   "outputs": [],
   "source": [
    "class Logistic_Regression_Binary():\n",
    "    def __init__(self, learning_rate=0.01, epochs=100, tol=None, regularizer=None, lambd=0.0, early_stopping=False,validation_fraction=0.1,plotLearningCurve=True, **kwargs):\n",
    "        self.learning_rate = learning_rate\n",
    "        self.epochs = epochs\n",
    "        self.tol = tol\n",
    "        self.regularizer = regularizer\n",
    "        self.lambd = lambd\n",
    "        self.w = None\n",
    "        self.loss_train = []\n",
    "        self.loss_validation = []\n",
    "        self.early_stopping = early_stopping\n",
    "        self.early_stopping_iterations = []\n",
    "        self.tolerance_iterations = []\n",
    "        self.validation_fraction = 0.1\n",
    "        self.plotLearningCurve= plotLearningCurve\n",
    "       \n",
    "        return\n",
    "    \n",
    "    def fit(self, X, y):\n",
    "        \n",
    "        # Add x_0 = 1 for all for intercept and concat data\n",
    "        x_0 = np.ones((X.shape[0],1))\n",
    "        X = np.concatenate((x_0,X), axis=1)\n",
    "        \n",
    "        # Initialize all weights to 0\n",
    "        self.w = np.zeros((X.shape[1],))\n",
    "        \n",
    "        if self.plotLearningCurve is True or self.early_stopping is True:\n",
    "            prev_cost= 0\n",
    "            prev_validation_cost=100000\n",
    "            X_train,X_validation,y_train,y_validation =train_test_split(X,y,test_size=self.validation_fraction,shuffle=True)\n",
    "            \n",
    "            # Number of training samples\n",
    "            m = len(X_train)\n",
    "            \n",
    "           # Run batch gradient descent up to self.epoch times\n",
    "            for i in range(self.epochs):\n",
    "                if self.regularizer == \"l2\":\n",
    "                    new_cost= binary_cross_entropy_loss_l2(y_train,sigmoid(X_train.dot(self.w)),self.w,self.lambd)\n",
    "                    self.loss_train.append(new_cost)\n",
    "                    \n",
    "                    new_validation_cost = binary_cross_entropy_loss_l2(y_validation,sigmoid(X_validation.dot(self.w)),self.w,self.lambd)\n",
    "                    self.loss_validation.append(new_validation_cost)\n",
    "                \n",
    "                elif self.regularizer == 'l1':\n",
    "                    new_cost= binary_cross_entropy_loss_l1(y_train,sigmoid(X_train.dot(self.w)),self.w,self.lambd)\n",
    "                    self.loss_train.append(new_cost)\n",
    "                    \n",
    "                    new_validation_cost = binary_cross_entropy_loss_l1(y_validation,sigmoid(X_validation.dot(self.w)),self.w,self.lambd)\n",
    "                    self.loss_validation.append(new_validation_cost)\n",
    "                else:\n",
    "                    # Calculate loss with current weights\n",
    "                    new_cost = binary_cross_entropy(y_train,sigmoid(X_train.dot(self.w)))\n",
    "                    self.loss_train.append(new_cost)\n",
    "                    \n",
    "                    # Calculate loss of validation data\n",
    "                    new_validation_cost = binary_cross_entropy(y_validation,sigmoid(X_validation.dot(self.w)))\n",
    "                    self.loss_validation.append(new_validation_cost)\n",
    "            \n",
    "              # Break if absolute cost of previous cost and current cost is smaller than self.tol\n",
    "                if self.tol is not None:\n",
    "                    if abs(prev_cost - new_cost) > self.tol:\n",
    "                        prev_cost = new_cost\n",
    "                    else:\n",
    "                        self.tolerance_iterations = i # number of iterations for satisfying the tolerance\n",
    "                        print('Early stopping because the tolerance is met')\n",
    "                        break\n",
    "                    \n",
    "               # Break if validation loss is increasing (overfitting)\n",
    "                if self.early_stopping is True:\n",
    "                    if new_validation_cost < prev_validation_cost:\n",
    "                        prev_validation_cost = new_validation_cost\n",
    "                    else:\n",
    "                        self.early_stopping_iterations = i # number of iterations for early stopping\n",
    "                        print('Early stopping because the validation loss is not decreasing')\n",
    "                        break\n",
    "                    \n",
    "               # Calculate gradient   \n",
    "                grad = (X_train.T.dot(sigmoid(X_train.dot(self.w))-y_train))\n",
    "            \n",
    "               # Apply Regularization term to gradient\n",
    "                if self.regularizer == \"l2\":\n",
    "                    regularized_term = self.lambd*self.w\n",
    "                    regularized_term[0] = 0 # Exclude the bias term\n",
    "                    grad = grad + regularized_term\n",
    "                \n",
    "                elif self.regularizer == 'l1':\n",
    "                    regularized_term = self.lambd * np.sign(self.w)\n",
    "                    regularized_term[0] = 0 # Exclude the bias term\n",
    "                    grad = grad + regularized_term\n",
    "            \n",
    "                # Update weights\n",
    "                    self.w = self.w - (self.learning_rate/m)*grad\n",
    "      \n",
    "        else:\n",
    "            # Number of training samples\n",
    "            m = len(X)\n",
    "            \n",
    "            prev_cost= 0\n",
    "            \n",
    "           # Run batch gradient descent up to self.epoch times\n",
    "            for i in range(self.epochs):\n",
    "                if self.regularizer == \"l2\":\n",
    "                    new_cost= binary_cross_entropy_loss_l2(y,sigmoid(X.dot(self.w)),self.w,self.lambd)\n",
    "                \n",
    "                elif self.regularizer == 'l1':\n",
    "                    new_cost= binary_cross_entropy_loss_l1(y,sigmoid(X.dot(self.w)),self.w,self.lambd)\n",
    "              \n",
    "                else:\n",
    "                    # Calculate loss with current weights\n",
    "                    new_cost = binary_cross_entropy(y,sigmoid(X.dot(self.w)))\n",
    "            \n",
    "              # Break if absolute cost of previous cost and current cost is smaller than self.tol\n",
    "                if self.tol is not None:\n",
    "                    if abs(prev_cost - new_cost) > self.tol:\n",
    "                        prev_cost = new_cost\n",
    "                    else:\n",
    "                        self.tolerance_iterations = i # number of iterations for satisfying the tolerance\n",
    "                        print('Early stopping because the tolerance is met')\n",
    "                        break\n",
    "                    \n",
    "               # Calculate gradient   \n",
    "                grad = (X.T.dot(sigmoid(X.dot(self.w))-y))\n",
    "            \n",
    "               # Apply Regularization term to gradient\n",
    "                if self.regularizer == \"l2\":\n",
    "                    regularized_term = self.lambd*self.w\n",
    "                    regularized_term[0] = 0 # Exclude the bias term\n",
    "                    grad = grad + regularized_term\n",
    "                \n",
    "                elif self.regularizer == 'l1':\n",
    "                    regularized_term = self.lambd * np.sign(self.w)\n",
    "                    regularized_term[0] = 0 # Exclude the bias term\n",
    "                    grad = grad + regularized_term\n",
    "            \n",
    "                # Update weights\n",
    "                    self.w = self.w - (self.learning_rate/m)*grad\n",
    "        \n",
    "        if self.plotLearningCurve is True:                  \n",
    "            # Plotting Learning Curve            \n",
    "            epochs_xaxis=np.linspace(1.0,len(self.loss_train),num=len(self.loss_train))\n",
    "            plt.figure(figsize=(12, 9), dpi=80)\n",
    "            plt.plot(epochs_xaxis,self.loss_train, label = \"Training\")\n",
    "            plt.plot(epochs_xaxis,self.loss_validation, label = \"Validation\")\n",
    "            plt.xlabel(\"Epochs\")\n",
    "            plt.ylabel(\"Loss\")\n",
    "            plt.title(\"Learning Curve\")\n",
    "            plt.legend()\n",
    "            plt.show()        \n",
    "                \n",
    "    def predict(self, X):\n",
    "        \n",
    "        x_0 = np.ones((X.shape[0],1))\n",
    "        X = np.concatenate((x_0,X), axis=1)\n",
    "        \n",
    "        pred = sigmoid(X.dot(self.w))\n",
    "        \n",
    "        # Assign 1 for p(x) > 0.5, else 0\n",
    "        pred = np.array(list(map(lambda x: 1 if x>0.5 else 0, pred)))\n",
    "        \n",
    "        return pred\n"
   ]
  },
  {
   "cell_type": "markdown",
   "metadata": {},
   "source": [
    "## Part A-II: Load, Partition, and Scale Data"
   ]
  },
  {
   "cell_type": "markdown",
   "metadata": {},
   "source": [
    "### 6. Read the Iris data using the sklearn.datasets.load_iris function. Create a data matrix X (numpy ndarray) and 1D column vector Y (numpy 1D array) containing the binary labels. Create Y by putting the value 1 if the target value Iris-Virginica, else put 0."
   ]
  },
  {
   "cell_type": "code",
   "execution_count": 32,
   "metadata": {},
   "outputs": [],
   "source": [
    "iris = datasets.load_iris()\n",
    "X = iris.data\n",
    "y = iris.target"
   ]
  },
  {
   "cell_type": "code",
   "execution_count": 33,
   "metadata": {},
   "outputs": [],
   "source": [
    "y = np.array(list(map(lambda x: 1 if x==2 else 0, y)))"
   ]
  },
  {
   "cell_type": "markdown",
   "metadata": {},
   "source": [
    "### 7. Shuffle the rows of X. You may use a sklearn function."
   ]
  },
  {
   "cell_type": "code",
   "execution_count": 34,
   "metadata": {},
   "outputs": [],
   "source": [
    "X,y = shuffle(X,y)"
   ]
  },
  {
   "cell_type": "markdown",
   "metadata": {},
   "source": [
    "### 8. Partition the data into train and test set. Use the partition function from your previous assignment or from sklearn."
   ]
  },
  {
   "cell_type": "code",
   "execution_count": 35,
   "metadata": {},
   "outputs": [],
   "source": [
    "X_train,X_test,y_train,y_test = train_test_split(X,y)"
   ]
  },
  {
   "cell_type": "markdown",
   "metadata": {},
   "source": [
    "### 9. Standardize the train and test set. Use the standardization function from your previous assignment or from sklearn."
   ]
  },
  {
   "cell_type": "code",
   "execution_count": 59,
   "metadata": {},
   "outputs": [],
   "source": [
    "scaler = StandardScaler()\n",
    "scaler.fit(X_train)\n",
    "X_train = scaler.transform(X_train)\n",
    "scaler.fit(X_test)\n",
    "X_test = scaler.transform(X_test)"
   ]
  },
  {
   "cell_type": "code",
   "execution_count": 90,
   "metadata": {},
   "outputs": [
    {
     "data": {
      "image/png": "[encoded data removed]",
      "text/plain": [
       "<Figure size 960x720 with 1 Axes>"
      ]
     },
     "metadata": {
      "needs_background": "light"
     },
     "output_type": "display_data"
    }
   ],
   "source": [
    "m1 = Logistic_Regression_Binary(learning_rate = 0.01, epochs = 1000, regularizer = 'l1', lambd = 1,early_stopping=True,plotLearningCurve=True)\n",
    "m1.fit(X_train,y_train)"
   ]
  },
  {
   "cell_type": "code",
   "execution_count": 91,
   "metadata": {},
   "outputs": [
    {
     "name": "stdout",
     "output_type": "stream",
     "text": [
      "\n",
      "Train Accuracy:  0.9107142857142857\n",
      "\n",
      "Train Confusion Matrix:\n",
      "[[69  8]\n",
      " [ 2 33]]\n",
      "\n",
      "Test Accuracy:  0.9210526315789473\n",
      "\n",
      "Test Confusion Matrix:\n",
      "[[21  2]\n",
      " [ 1 14]]\n",
      "\n",
      "Test Precision = 0.875000\n",
      "Test Recall = 0.933333\n",
      "Test F1 Score = 0.903226\n",
      "\n",
      "Classification Report:\n",
      "              precision    recall  f1-score   support\n",
      "\n",
      "           0       0.95      0.91      0.93        23\n",
      "           1       0.88      0.93      0.90        15\n",
      "\n",
      "    accuracy                           0.92        38\n",
      "   macro avg       0.91      0.92      0.92        38\n",
      "weighted avg       0.92      0.92      0.92        38\n",
      "\n"
     ]
    }
   ],
   "source": [
    "y_train_predicted = m1.predict(X_train)\n",
    "\n",
    "\n",
    "accuracy_score_train = np.mean(y_train_predicted == y_train)\n",
    "print(\"\\nTrain Accuracy: \", accuracy_score_train)\n",
    "\n",
    "print(\"\\nTrain Confusion Matrix:\")\n",
    "print(confusion_matrix(y_train, y_train_predicted))\n",
    "\n",
    "y_test_predicted = m1.predict(X_test)\n",
    "\n",
    "\n",
    "accuracy_score_test = np.mean(y_test_predicted == y_test)\n",
    "print(\"\\nTest Accuracy: \", accuracy_score_test)\n",
    "\n",
    "\n",
    "print(\"\\nTest Confusion Matrix:\")\n",
    "print(confusion_matrix(y_test, y_test_predicted))\n",
    "\n",
    "\n",
    "precision_test = precision_score(y_test, y_test_predicted) \n",
    "print(\"\\nTest Precision = %f\" % precision_test)\n",
    "\n",
    "recall_test = recall_score(y_test, y_test_predicted)\n",
    "print(\"Test Recall = %f\" % recall_test)\n",
    "\n",
    "\n",
    "f1_test = f1_score(y_test, y_test_predicted)\n",
    "print(\"Test F1 Score = %f\" % f1_test)\n",
    "\n",
    "\n",
    "print(\"\\nClassification Report:\")\n",
    "print(classification_report(y_test, y_test_predicted))"
   ]
  },
  {
   "cell_type": "code",
   "execution_count": 92,
   "metadata": {},
   "outputs": [
    {
     "name": "stdout",
     "output_type": "stream",
     "text": [
      "[-1.02032355  0.47691873  0.05127962  0.69586895  0.93709589]\n",
      "[0 0 0 1 0 0 1 0 0 1 0 0 1 1 0 1 0 0 1 1 0 1 0 0 0 0 0 0 0 1 1 0 1 1 1 0 0\n",
      " 1 0 1 0 1 0 0 0 0 0 0 1 0 1 0 1 0 0 0 0 0 0 0 0 0 0 1 0 1 1 1 0 1 0 1 0 0\n",
      " 0 0 0 0 1 0 1 0 0 0 1 0 1 0 1 0 0 0 0 0 0 1 1 0 0 1 0 1 1 0 1 0 1 1 0 1 0\n",
      " 1]\n"
     ]
    }
   ],
   "source": [
    "print(m1.w)\n",
    "print(y_train_predicted)"
   ]
  },
  {
   "cell_type": "code",
   "execution_count": 50,
   "metadata": {},
   "outputs": [],
   "source": [
    "\n",
    "import numpy as np\n",
    "import matplotlib.pyplot as plt\n",
    "\n",
    "from sklearn.datasets import load_iris\n",
    "from sklearn.preprocessing import StandardScaler\n",
    "from sklearn.linear_model import LogisticRegression\n",
    "from sklearn.metrics import confusion_matrix, precision_score, recall_score, f1_score, classification_report\n",
    "from sklearn.model_selection import train_test_split, GridSearchCV, cross_val_score"
   ]
  },
  {
   "cell_type": "markdown",
   "metadata": {},
   "source": [
    "## Part A-III: Model Evaluation"
   ]
  },
  {
   "cell_type": "markdown",
   "metadata": {},
   "source": [
    "### 10. Model selection via Hyperparameter tuning: Use the kFold function from previous assignment or from sklearn to evaluate the performance of your model over each combination of parameters from the following sets. You may vary the range of values, if needed, and also for more experimentation."
   ]
  },
  {
   "cell_type": "code",
   "execution_count": 95,
   "metadata": {},
   "outputs": [],
   "source": [
    "def accuracy_calc(true, pred):\n",
    "    match = map(lambda x,y: x == y, list(true), list(pred))\n",
    "    match = map(lambda x: 1 if x else 0, list(match))\n",
    "    accuracy = np.mean(list(match))\n",
    "    generalization_error=1-accuracy\n",
    "    return accuracy,generalization_error\n",
    "\n",
    "def sFold(estimator,X,y,scoring,cv):\n",
    "    size = len(X)\n",
    "    size_fold = int(size/cv)\n",
    "    range_index = [j for j in range(0,len(X))]\n",
    "    score=[]\n",
    "    #Partitioning of the data\n",
    "    for i in range(cv):\n",
    "        init=0+i*size_fold\n",
    "        fin=(i+1)*size_fold\n",
    "        partition_range_index = [j for j in range(init,fin)]\n",
    "        \n",
    "        #Feature and label data of the Fold\n",
    "        X_partition = X[partition_range_index]\n",
    "        y_partition = y[partition_range_index]\n",
    "        \n",
    "        #Feature and label data of  1-Fold        \n",
    "        remainder_index = list(set(range_index).difference(set(partition_range_index)))\n",
    "        X_remainder=X[remainder_index]\n",
    "        y_remainder=y[remainder_index]\n",
    "        \n",
    "        #Fit the model to the 1-Fold data\n",
    "        estimator.fit(X_remainder, y_remainder) \n",
    "        \n",
    "        #Test the model on the fold data\n",
    "        pred=estimator.predict(X_partition)\n",
    "      \n",
    "        if scoring=='accuracy':\n",
    "            acc,gen_error=accuracy_calc(y_partition,pred)\n",
    "            score.append(acc) \n",
    "            \n",
    "    avg_score = np.mean(score)    \n",
    "    return avg_score,score"
   ]
  },
  {
   "cell_type": "code",
   "execution_count": 107,
   "metadata": {},
   "outputs": [
    {
     "name": "stdout",
     "output_type": "stream",
     "text": [
      "Early stopping because the validation loss is not decreasing\n",
      "Early stopping because the validation loss is not decreasing\n",
      "Early stopping because the validation loss is not decreasing\n",
      "Early stopping because the validation loss is not decreasing\n",
      "Early stopping because the validation loss is not decreasing\n",
      "Early stopping because the validation loss is not decreasing\n",
      "Early stopping because the validation loss is not decreasing\n",
      "Early stopping because the validation loss is not decreasing\n",
      "Early stopping because the validation loss is not decreasing\n",
      "Early stopping because the validation loss is not decreasing\n",
      "Early stopping because the validation loss is not decreasing\n",
      "Early stopping because the validation loss is not decreasing\n",
      "Early stopping because the validation loss is not decreasing\n",
      "Early stopping because the validation loss is not decreasing\n",
      "Early stopping because the validation loss is not decreasing\n",
      "Early stopping because the validation loss is not decreasing\n",
      "Early stopping because the validation loss is not decreasing\n",
      "Early stopping because the validation loss is not decreasing\n",
      "Early stopping because the validation loss is not decreasing\n",
      "Early stopping because the validation loss is not decreasing\n",
      "Early stopping because the validation loss is not decreasing\n",
      "Early stopping because the validation loss is not decreasing\n",
      "Early stopping because the validation loss is not decreasing\n",
      "Early stopping because the validation loss is not decreasing\n",
      "Early stopping because the validation loss is not decreasing\n",
      "Early stopping because the validation loss is not decreasing\n",
      "Early stopping because the validation loss is not decreasing\n",
      "Early stopping because the validation loss is not decreasing\n",
      "Early stopping because the validation loss is not decreasing\n",
      "Early stopping because the validation loss is not decreasing\n",
      "Early stopping because the validation loss is not decreasing\n",
      "Early stopping because the validation loss is not decreasing\n",
      "Early stopping because the validation loss is not decreasing\n",
      "Early stopping because the validation loss is not decreasing\n",
      "Early stopping because the validation loss is not decreasing\n",
      "Early stopping because the validation loss is not decreasing\n",
      "Early stopping because the validation loss is not decreasing\n",
      "Early stopping because the validation loss is not decreasing\n",
      "Early stopping because the validation loss is not decreasing\n",
      "Early stopping because the validation loss is not decreasing\n",
      "Early stopping because the validation loss is not decreasing\n",
      "Early stopping because the validation loss is not decreasing\n",
      "Early stopping because the validation loss is not decreasing\n",
      "Early stopping because the validation loss is not decreasing\n",
      "Early stopping because the validation loss is not decreasing\n",
      "Early stopping because the validation loss is not decreasing\n",
      "Early stopping because the validation loss is not decreasing\n",
      "Early stopping because the validation loss is not decreasing\n",
      "Early stopping because the validation loss is not decreasing\n",
      "Early stopping because the validation loss is not decreasing\n",
      "Early stopping because the validation loss is not decreasing\n",
      "Early stopping because the validation loss is not decreasing\n",
      "Early stopping because the validation loss is not decreasing\n",
      "Early stopping because the validation loss is not decreasing\n",
      "Early stopping because the validation loss is not decreasing\n",
      "Early stopping because the validation loss is not decreasing\n",
      "Early stopping because the validation loss is not decreasing\n",
      "Early stopping because the validation loss is not decreasing\n",
      "Early stopping because the validation loss is not decreasing\n",
      "Early stopping because the validation loss is not decreasing\n",
      "Early stopping because the validation loss is not decreasing\n",
      "Early stopping because the validation loss is not decreasing\n",
      "Early stopping because the validation loss is not decreasing\n",
      "Early stopping because the validation loss is not decreasing\n",
      "Early stopping because the validation loss is not decreasing\n",
      "Early stopping because the validation loss is not decreasing\n",
      "Early stopping because the validation loss is not decreasing\n",
      "Early stopping because the validation loss is not decreasing\n",
      "Early stopping because the validation loss is not decreasing\n",
      "Early stopping because the validation loss is not decreasing\n",
      "Early stopping because the validation loss is not decreasing\n",
      "Early stopping because the validation loss is not decreasing\n",
      "Early stopping because the validation loss is not decreasing\n",
      "Early stopping because the validation loss is not decreasing\n",
      "Early stopping because the validation loss is not decreasing\n",
      "Early stopping because the validation loss is not decreasing\n",
      "Early stopping because the validation loss is not decreasing\n",
      "Early stopping because the validation loss is not decreasing\n",
      "Early stopping because the validation loss is not decreasing\n",
      "Early stopping because the validation loss is not decreasing\n",
      "Early stopping because the validation loss is not decreasing\n",
      "Early stopping because the validation loss is not decreasing\n",
      "Early stopping because the validation loss is not decreasing\n",
      "Early stopping because the validation loss is not decreasing\n",
      "Early stopping because the validation loss is not decreasing\n",
      "Early stopping because the validation loss is not decreasing\n",
      "Early stopping because the validation loss is not decreasing\n",
      "Early stopping because the validation loss is not decreasing\n",
      "Early stopping because the validation loss is not decreasing\n",
      "Early stopping because the validation loss is not decreasing\n",
      "Early stopping because the validation loss is not decreasing\n",
      "Early stopping because the validation loss is not decreasing\n",
      "Early stopping because the validation loss is not decreasing\n",
      "Early stopping because the validation loss is not decreasing\n",
      "Early stopping because the validation loss is not decreasing\n",
      "Early stopping because the validation loss is not decreasing\n",
      "Early stopping because the validation loss is not decreasing\n",
      "Early stopping because the validation loss is not decreasing\n",
      "Early stopping because the validation loss is not decreasing\n",
      "Early stopping because the validation loss is not decreasing\n",
      "Early stopping because the validation loss is not decreasing\n",
      "Early stopping because the validation loss is not decreasing\n",
      "Early stopping because the validation loss is not decreasing\n",
      "Early stopping because the validation loss is not decreasing\n",
      "Early stopping because the validation loss is not decreasing\n",
      "Early stopping because the validation loss is not decreasing\n",
      "Early stopping because the validation loss is not decreasing\n",
      "Early stopping because the validation loss is not decreasing\n",
      "Early stopping because the validation loss is not decreasing\n",
      "Early stopping because the validation loss is not decreasing\n",
      "Early stopping because the validation loss is not decreasing\n",
      "Early stopping because the validation loss is not decreasing\n",
      "Early stopping because the validation loss is not decreasing\n",
      "Early stopping because the validation loss is not decreasing\n",
      "Early stopping because the validation loss is not decreasing\n",
      "Early stopping because the validation loss is not decreasing\n",
      "Early stopping because the validation loss is not decreasing\n",
      "Early stopping because the validation loss is not decreasing\n",
      "Early stopping because the validation loss is not decreasing\n",
      "Early stopping because the validation loss is not decreasing\n",
      "Early stopping because the validation loss is not decreasing\n",
      "Early stopping because the validation loss is not decreasing\n",
      "Early stopping because the validation loss is not decreasing\n",
      "Early stopping because the validation loss is not decreasing\n",
      "Early stopping because the validation loss is not decreasing\n",
      "Early stopping because the validation loss is not decreasing\n",
      "Early stopping because the validation loss is not decreasing\n",
      "Early stopping because the validation loss is not decreasing\n",
      "Early stopping because the validation loss is not decreasing\n",
      "Early stopping because the validation loss is not decreasing\n",
      "Early stopping because the validation loss is not decreasing\n",
      "Early stopping because the validation loss is not decreasing\n",
      "Early stopping because the validation loss is not decreasing\n",
      "Early stopping because the validation loss is not decreasing\n",
      "Early stopping because the validation loss is not decreasing\n",
      "Early stopping because the validation loss is not decreasing\n",
      "Early stopping because the validation loss is not decreasing\n",
      "Early stopping because the validation loss is not decreasing\n",
      "Early stopping because the validation loss is not decreasing\n",
      "Early stopping because the validation loss is not decreasing\n",
      "Early stopping because the validation loss is not decreasing\n"
     ]
    },
    {
     "name": "stdout",
     "output_type": "stream",
     "text": [
      "Early stopping because the validation loss is not decreasing\n",
      "Early stopping because the validation loss is not decreasing\n",
      "Early stopping because the validation loss is not decreasing\n",
      "Early stopping because the validation loss is not decreasing\n",
      "Early stopping because the validation loss is not decreasing\n",
      "Early stopping because the validation loss is not decreasing\n",
      "Early stopping because the validation loss is not decreasing\n",
      "Early stopping because the validation loss is not decreasing\n",
      "Early stopping because the validation loss is not decreasing\n",
      "Early stopping because the validation loss is not decreasing\n",
      "Early stopping because the validation loss is not decreasing\n",
      "Early stopping because the validation loss is not decreasing\n",
      "Early stopping because the validation loss is not decreasing\n",
      "Early stopping because the validation loss is not decreasing\n",
      "Early stopping because the validation loss is not decreasing\n",
      "Early stopping because the validation loss is not decreasing\n",
      "Early stopping because the validation loss is not decreasing\n",
      "Early stopping because the validation loss is not decreasing\n",
      "Early stopping because the validation loss is not decreasing\n",
      "Early stopping because the validation loss is not decreasing\n",
      "Early stopping because the validation loss is not decreasing\n",
      "Early stopping because the validation loss is not decreasing\n",
      "Early stopping because the validation loss is not decreasing\n",
      "Early stopping because the validation loss is not decreasing\n",
      "Early stopping because the validation loss is not decreasing\n",
      "Early stopping because the validation loss is not decreasing\n",
      "Early stopping because the validation loss is not decreasing\n",
      "Early stopping because the validation loss is not decreasing\n",
      "Early stopping because the validation loss is not decreasing\n",
      "Early stopping because the validation loss is not decreasing\n",
      "Early stopping because the validation loss is not decreasing\n",
      "Early stopping because the validation loss is not decreasing\n",
      "Early stopping because the validation loss is not decreasing\n",
      "Early stopping because the validation loss is not decreasing\n",
      "Early stopping because the validation loss is not decreasing\n",
      "Early stopping because the validation loss is not decreasing\n",
      "Early stopping because the validation loss is not decreasing\n",
      "Early stopping because the validation loss is not decreasing\n",
      "Early stopping because the validation loss is not decreasing\n",
      "Early stopping because the validation loss is not decreasing\n",
      "Early stopping because the validation loss is not decreasing\n",
      "Early stopping because the validation loss is not decreasing\n",
      "Early stopping because the validation loss is not decreasing\n",
      "Early stopping because the validation loss is not decreasing\n",
      "Early stopping because the validation loss is not decreasing\n",
      "Early stopping because the validation loss is not decreasing\n",
      "Early stopping because the validation loss is not decreasing\n",
      "Early stopping because the validation loss is not decreasing\n",
      "Early stopping because the validation loss is not decreasing\n",
      "Early stopping because the validation loss is not decreasing\n",
      "Early stopping because the validation loss is not decreasing\n",
      "Early stopping because the validation loss is not decreasing\n",
      "Early stopping because the validation loss is not decreasing\n",
      "Early stopping because the validation loss is not decreasing\n",
      "Early stopping because the validation loss is not decreasing\n",
      "Early stopping because the validation loss is not decreasing\n",
      "Early stopping because the validation loss is not decreasing\n",
      "Early stopping because the validation loss is not decreasing\n",
      "Early stopping because the validation loss is not decreasing\n",
      "Early stopping because the validation loss is not decreasing\n",
      "Early stopping because the validation loss is not decreasing\n",
      "Early stopping because the validation loss is not decreasing\n",
      "Early stopping because the validation loss is not decreasing\n",
      "Early stopping because the validation loss is not decreasing\n",
      "Early stopping because the validation loss is not decreasing\n",
      "Early stopping because the validation loss is not decreasing\n",
      "Early stopping because the validation loss is not decreasing\n",
      "Early stopping because the validation loss is not decreasing\n",
      "Early stopping because the validation loss is not decreasing\n",
      "Early stopping because the validation loss is not decreasing\n",
      "Early stopping because the validation loss is not decreasing\n",
      "Early stopping because the validation loss is not decreasing\n",
      "Early stopping because the validation loss is not decreasing\n",
      "Early stopping because the validation loss is not decreasing\n",
      "Early stopping because the validation loss is not decreasing\n",
      "Early stopping because the validation loss is not decreasing\n",
      "Early stopping because the validation loss is not decreasing\n",
      "Early stopping because the validation loss is not decreasing\n",
      "Early stopping because the validation loss is not decreasing\n",
      "Early stopping because the validation loss is not decreasing\n",
      "Early stopping because the validation loss is not decreasing\n",
      "Early stopping because the validation loss is not decreasing\n",
      "Early stopping because the validation loss is not decreasing\n",
      "Early stopping because the validation loss is not decreasing\n",
      "Early stopping because the validation loss is not decreasing\n",
      "Early stopping because the validation loss is not decreasing\n",
      "Early stopping because the validation loss is not decreasing\n",
      "Early stopping because the validation loss is not decreasing\n",
      "Early stopping because the validation loss is not decreasing\n",
      "Early stopping because the validation loss is not decreasing\n",
      "Early stopping because the validation loss is not decreasing\n",
      "Early stopping because the validation loss is not decreasing\n",
      "Early stopping because the validation loss is not decreasing\n",
      "Early stopping because the validation loss is not decreasing\n",
      "Early stopping because the validation loss is not decreasing\n",
      "Early stopping because the validation loss is not decreasing\n",
      "Early stopping because the validation loss is not decreasing\n",
      "Early stopping because the validation loss is not decreasing\n",
      "Early stopping because the validation loss is not decreasing\n",
      "Early stopping because the validation loss is not decreasing\n",
      "Early stopping because the validation loss is not decreasing\n",
      "Early stopping because the validation loss is not decreasing\n",
      "Early stopping because the validation loss is not decreasing\n",
      "Early stopping because the validation loss is not decreasing\n",
      "Early stopping because the validation loss is not decreasing\n",
      "Early stopping because the validation loss is not decreasing\n",
      "Early stopping because the validation loss is not decreasing\n",
      "Early stopping because the validation loss is not decreasing\n",
      "Early stopping because the validation loss is not decreasing\n",
      "Early stopping because the validation loss is not decreasing\n",
      "Early stopping because the validation loss is not decreasing\n",
      "Early stopping because the validation loss is not decreasing\n",
      "Early stopping because the validation loss is not decreasing\n",
      "Early stopping because the validation loss is not decreasing\n",
      "Early stopping because the validation loss is not decreasing\n",
      "Early stopping because the validation loss is not decreasing\n",
      "Early stopping because the validation loss is not decreasing\n",
      "Early stopping because the validation loss is not decreasing\n",
      "Early stopping because the validation loss is not decreasing\n",
      "Early stopping because the validation loss is not decreasing\n",
      "Early stopping because the validation loss is not decreasing\n",
      "Early stopping because the validation loss is not decreasing\n",
      "Early stopping because the validation loss is not decreasing\n",
      "Early stopping because the validation loss is not decreasing\n",
      "Early stopping because the validation loss is not decreasing\n",
      "Early stopping because the validation loss is not decreasing\n",
      "Early stopping because the validation loss is not decreasing\n",
      "Early stopping because the validation loss is not decreasing\n",
      "Early stopping because the validation loss is not decreasing\n",
      "Early stopping because the validation loss is not decreasing\n",
      "Early stopping because the validation loss is not decreasing\n",
      "Early stopping because the validation loss is not decreasing\n",
      "Early stopping because the validation loss is not decreasing\n",
      "Early stopping because the validation loss is not decreasing\n",
      "Early stopping because the validation loss is not decreasing\n",
      "Early stopping because the validation loss is not decreasing\n"
     ]
    },
    {
     "name": "stdout",
     "output_type": "stream",
     "text": [
      "Early stopping because the validation loss is not decreasing\n",
      "Early stopping because the validation loss is not decreasing\n",
      "Early stopping because the validation loss is not decreasing\n",
      "Early stopping because the validation loss is not decreasing\n",
      "Early stopping because the validation loss is not decreasing\n",
      "Early stopping because the validation loss is not decreasing\n",
      "Early stopping because the validation loss is not decreasing\n",
      "Early stopping because the validation loss is not decreasing\n",
      "Early stopping because the validation loss is not decreasing\n",
      "Early stopping because the validation loss is not decreasing\n",
      "Early stopping because the validation loss is not decreasing\n",
      "Early stopping because the validation loss is not decreasing\n",
      "Early stopping because the validation loss is not decreasing\n",
      "Early stopping because the validation loss is not decreasing\n",
      "Early stopping because the validation loss is not decreasing\n",
      "Early stopping because the validation loss is not decreasing\n",
      "Early stopping because the validation loss is not decreasing\n",
      "Early stopping because the validation loss is not decreasing\n",
      "Early stopping because the validation loss is not decreasing\n",
      "Early stopping because the validation loss is not decreasing\n",
      "Early stopping because the validation loss is not decreasing\n",
      "Early stopping because the validation loss is not decreasing\n",
      "Early stopping because the validation loss is not decreasing\n",
      "Early stopping because the validation loss is not decreasing\n",
      "Early stopping because the validation loss is not decreasing\n",
      "Early stopping because the validation loss is not decreasing\n",
      "Early stopping because the validation loss is not decreasing\n",
      "Early stopping because the validation loss is not decreasing\n",
      "Early stopping because the validation loss is not decreasing\n",
      "Early stopping because the validation loss is not decreasing\n",
      "Early stopping because the validation loss is not decreasing\n",
      "Early stopping because the validation loss is not decreasing\n",
      "Early stopping because the validation loss is not decreasing\n",
      "Early stopping because the validation loss is not decreasing\n",
      "Early stopping because the validation loss is not decreasing\n",
      "Early stopping because the validation loss is not decreasing\n",
      "Early stopping because the validation loss is not decreasing\n",
      "Early stopping because the validation loss is not decreasing\n",
      "Early stopping because the validation loss is not decreasing\n",
      "Early stopping because the validation loss is not decreasing\n",
      "Early stopping because the validation loss is not decreasing\n",
      "Early stopping because the validation loss is not decreasing\n",
      "Early stopping because the validation loss is not decreasing\n",
      "Early stopping because the validation loss is not decreasing\n",
      "Early stopping because the validation loss is not decreasing\n",
      "Early stopping because the validation loss is not decreasing\n",
      "Early stopping because the validation loss is not decreasing\n",
      "Early stopping because the validation loss is not decreasing\n",
      "Early stopping because the validation loss is not decreasing\n",
      "Early stopping because the validation loss is not decreasing\n",
      "Early stopping because the validation loss is not decreasing\n",
      "Early stopping because the validation loss is not decreasing\n",
      "Early stopping because the validation loss is not decreasing\n",
      "Early stopping because the validation loss is not decreasing\n",
      "Early stopping because the validation loss is not decreasing\n",
      "Early stopping because the validation loss is not decreasing\n",
      "Early stopping because the validation loss is not decreasing\n",
      "Early stopping because the validation loss is not decreasing\n",
      "Early stopping because the validation loss is not decreasing\n",
      "Early stopping because the validation loss is not decreasing\n",
      "Early stopping because the validation loss is not decreasing\n",
      "Early stopping because the validation loss is not decreasing\n",
      "Early stopping because the validation loss is not decreasing\n",
      "Early stopping because the validation loss is not decreasing\n",
      "Early stopping because the validation loss is not decreasing\n",
      "Early stopping because the validation loss is not decreasing\n",
      "Early stopping because the validation loss is not decreasing\n",
      "Early stopping because the validation loss is not decreasing\n",
      "Early stopping because the validation loss is not decreasing\n",
      "Early stopping because the validation loss is not decreasing\n",
      "Early stopping because the validation loss is not decreasing\n",
      "Early stopping because the validation loss is not decreasing\n",
      "Early stopping because the validation loss is not decreasing\n",
      "Early stopping because the validation loss is not decreasing\n",
      "Early stopping because the validation loss is not decreasing\n",
      "Early stopping because the validation loss is not decreasing\n",
      "Early stopping because the validation loss is not decreasing\n",
      "Early stopping because the validation loss is not decreasing\n",
      "Early stopping because the validation loss is not decreasing\n",
      "Early stopping because the validation loss is not decreasing\n",
      "Early stopping because the validation loss is not decreasing\n",
      "Early stopping because the validation loss is not decreasing\n",
      "Early stopping because the validation loss is not decreasing\n",
      "Early stopping because the validation loss is not decreasing\n",
      "Early stopping because the validation loss is not decreasing\n",
      "Early stopping because the validation loss is not decreasing\n",
      "Early stopping because the validation loss is not decreasing\n",
      "Early stopping because the validation loss is not decreasing\n",
      "Early stopping because the validation loss is not decreasing\n",
      "Early stopping because the validation loss is not decreasing\n",
      "Early stopping because the validation loss is not decreasing\n",
      "Early stopping because the validation loss is not decreasing\n",
      "Early stopping because the validation loss is not decreasing\n",
      "Early stopping because the validation loss is not decreasing\n",
      "Early stopping because the validation loss is not decreasing\n",
      "Early stopping because the validation loss is not decreasing\n",
      "Early stopping because the validation loss is not decreasing\n",
      "Early stopping because the validation loss is not decreasing\n",
      "Early stopping because the validation loss is not decreasing\n",
      "Early stopping because the validation loss is not decreasing\n",
      "Early stopping because the validation loss is not decreasing\n",
      "Early stopping because the validation loss is not decreasing\n",
      "Early stopping because the validation loss is not decreasing\n",
      "Early stopping because the validation loss is not decreasing\n",
      "Early stopping because the validation loss is not decreasing\n",
      "Early stopping because the validation loss is not decreasing\n",
      "Early stopping because the validation loss is not decreasing\n",
      "Early stopping because the validation loss is not decreasing\n",
      "Early stopping because the validation loss is not decreasing\n",
      "Early stopping because the validation loss is not decreasing\n",
      "Early stopping because the validation loss is not decreasing\n",
      "Early stopping because the validation loss is not decreasing\n",
      "Early stopping because the validation loss is not decreasing\n",
      "Early stopping because the validation loss is not decreasing\n",
      "Early stopping because the validation loss is not decreasing\n",
      "Early stopping because the validation loss is not decreasing\n",
      "Early stopping because the validation loss is not decreasing\n",
      "Early stopping because the validation loss is not decreasing\n",
      "Early stopping because the validation loss is not decreasing\n",
      "Early stopping because the validation loss is not decreasing\n",
      "Early stopping because the validation loss is not decreasing\n",
      "Early stopping because the validation loss is not decreasing\n",
      "Early stopping because the validation loss is not decreasing\n",
      "Early stopping because the validation loss is not decreasing\n",
      "Early stopping because the validation loss is not decreasing\n",
      "Early stopping because the validation loss is not decreasing\n",
      "Early stopping because the validation loss is not decreasing\n",
      "Early stopping because the validation loss is not decreasing\n",
      "Early stopping because the validation loss is not decreasing\n",
      "Early stopping because the validation loss is not decreasing\n",
      "Early stopping because the validation loss is not decreasing\n",
      "Early stopping because the validation loss is not decreasing\n",
      "Early stopping because the validation loss is not decreasing\n",
      "Early stopping because the validation loss is not decreasing\n",
      "Early stopping because the validation loss is not decreasing\n",
      "Early stopping because the validation loss is not decreasing\n",
      "Early stopping because the validation loss is not decreasing\n"
     ]
    },
    {
     "name": "stdout",
     "output_type": "stream",
     "text": [
      "Early stopping because the validation loss is not decreasing\n",
      "Early stopping because the validation loss is not decreasing\n",
      "Early stopping because the validation loss is not decreasing\n",
      "Early stopping because the validation loss is not decreasing\n",
      "Early stopping because the validation loss is not decreasing\n",
      "Early stopping because the validation loss is not decreasing\n",
      "Early stopping because the validation loss is not decreasing\n",
      "Early stopping because the validation loss is not decreasing\n",
      "Early stopping because the validation loss is not decreasing\n",
      "Early stopping because the validation loss is not decreasing\n",
      "Early stopping because the validation loss is not decreasing\n",
      "Early stopping because the validation loss is not decreasing\n",
      "Early stopping because the validation loss is not decreasing\n",
      "Early stopping because the validation loss is not decreasing\n",
      "Early stopping because the validation loss is not decreasing\n",
      "Early stopping because the validation loss is not decreasing\n",
      "Early stopping because the validation loss is not decreasing\n",
      "Early stopping because the validation loss is not decreasing\n",
      "Early stopping because the validation loss is not decreasing\n",
      "Early stopping because the validation loss is not decreasing\n",
      "Early stopping because the validation loss is not decreasing\n",
      "Early stopping because the validation loss is not decreasing\n",
      "Early stopping because the validation loss is not decreasing\n",
      "Early stopping because the validation loss is not decreasing\n",
      "Early stopping because the validation loss is not decreasing\n",
      "Early stopping because the validation loss is not decreasing\n",
      "Early stopping because the validation loss is not decreasing\n",
      "Early stopping because the validation loss is not decreasing\n",
      "Early stopping because the validation loss is not decreasing\n",
      "Early stopping because the validation loss is not decreasing\n",
      "Early stopping because the validation loss is not decreasing\n",
      "Early stopping because the validation loss is not decreasing\n",
      "Early stopping because the validation loss is not decreasing\n",
      "Early stopping because the validation loss is not decreasing\n",
      "Early stopping because the validation loss is not decreasing\n",
      "Early stopping because the validation loss is not decreasing\n",
      "Early stopping because the validation loss is not decreasing\n",
      "Early stopping because the validation loss is not decreasing\n",
      "Early stopping because the validation loss is not decreasing\n",
      "Early stopping because the validation loss is not decreasing\n",
      "Early stopping because the validation loss is not decreasing\n",
      "Early stopping because the validation loss is not decreasing\n",
      "Early stopping because the validation loss is not decreasing\n",
      "Early stopping because the validation loss is not decreasing\n",
      "Early stopping because the validation loss is not decreasing\n",
      "Early stopping because the validation loss is not decreasing\n",
      "Early stopping because the validation loss is not decreasing\n",
      "Early stopping because the validation loss is not decreasing\n",
      "Early stopping because the validation loss is not decreasing\n",
      "Early stopping because the validation loss is not decreasing\n",
      "Early stopping because the validation loss is not decreasing\n",
      "Early stopping because the validation loss is not decreasing\n",
      "Early stopping because the validation loss is not decreasing\n",
      "Early stopping because the validation loss is not decreasing\n",
      "Early stopping because the validation loss is not decreasing\n",
      "Early stopping because the validation loss is not decreasing\n",
      "Early stopping because the validation loss is not decreasing\n",
      "Early stopping because the validation loss is not decreasing\n",
      "Early stopping because the validation loss is not decreasing\n",
      "Early stopping because the validation loss is not decreasing\n",
      "Early stopping because the validation loss is not decreasing\n",
      "Early stopping because the validation loss is not decreasing\n",
      "Early stopping because the validation loss is not decreasing\n",
      "Early stopping because the validation loss is not decreasing\n",
      "Early stopping because the validation loss is not decreasing\n",
      "Early stopping because the validation loss is not decreasing\n",
      "Early stopping because the validation loss is not decreasing\n",
      "Early stopping because the validation loss is not decreasing\n",
      "Early stopping because the validation loss is not decreasing\n",
      "Early stopping because the validation loss is not decreasing\n",
      "Early stopping because the validation loss is not decreasing\n",
      "Early stopping because the validation loss is not decreasing\n",
      "Early stopping because the validation loss is not decreasing\n",
      "Early stopping because the validation loss is not decreasing\n",
      "Early stopping because the validation loss is not decreasing\n",
      "Early stopping because the validation loss is not decreasing\n",
      "Early stopping because the validation loss is not decreasing\n",
      "Early stopping because the validation loss is not decreasing\n",
      "Early stopping because the validation loss is not decreasing\n",
      "Early stopping because the validation loss is not decreasing\n",
      "Early stopping because the validation loss is not decreasing\n",
      "Early stopping because the validation loss is not decreasing\n",
      "Early stopping because the validation loss is not decreasing\n",
      "Early stopping because the validation loss is not decreasing\n",
      "Early stopping because the validation loss is not decreasing\n",
      "Early stopping because the validation loss is not decreasing\n",
      "Early stopping because the validation loss is not decreasing\n",
      "Early stopping because the validation loss is not decreasing\n",
      "Early stopping because the validation loss is not decreasing\n",
      "Early stopping because the validation loss is not decreasing\n",
      "Early stopping because the validation loss is not decreasing\n",
      "Early stopping because the validation loss is not decreasing\n",
      "Early stopping because the validation loss is not decreasing\n",
      "Early stopping because the validation loss is not decreasing\n",
      "Early stopping because the validation loss is not decreasing\n",
      "Early stopping because the validation loss is not decreasing\n",
      "Early stopping because the validation loss is not decreasing\n",
      "Early stopping because the validation loss is not decreasing\n",
      "Early stopping because the validation loss is not decreasing\n",
      "Early stopping because the validation loss is not decreasing\n",
      "Early stopping because the validation loss is not decreasing\n",
      "Early stopping because the validation loss is not decreasing\n",
      "Early stopping because the validation loss is not decreasing\n",
      "Early stopping because the validation loss is not decreasing\n",
      "Early stopping because the validation loss is not decreasing\n",
      "Early stopping because the validation loss is not decreasing\n",
      "Early stopping because the validation loss is not decreasing\n",
      "Early stopping because the validation loss is not decreasing\n",
      "Early stopping because the validation loss is not decreasing\n",
      "Early stopping because the validation loss is not decreasing\n",
      "Early stopping because the validation loss is not decreasing\n",
      "Early stopping because the validation loss is not decreasing\n",
      "Early stopping because the validation loss is not decreasing\n",
      "Early stopping because the validation loss is not decreasing\n",
      "Early stopping because the validation loss is not decreasing\n",
      "Early stopping because the validation loss is not decreasing\n",
      "Early stopping because the validation loss is not decreasing\n",
      "Early stopping because the validation loss is not decreasing\n",
      "Early stopping because the validation loss is not decreasing\n",
      "Early stopping because the validation loss is not decreasing\n",
      "Early stopping because the validation loss is not decreasing\n",
      "Early stopping because the validation loss is not decreasing\n",
      "Early stopping because the validation loss is not decreasing\n",
      "Early stopping because the validation loss is not decreasing\n",
      "Early stopping because the validation loss is not decreasing\n",
      "Early stopping because the validation loss is not decreasing\n",
      "Early stopping because the validation loss is not decreasing\n",
      "Early stopping because the validation loss is not decreasing\n",
      "Early stopping because the validation loss is not decreasing\n",
      "Early stopping because the validation loss is not decreasing\n",
      "Early stopping because the validation loss is not decreasing\n",
      "Early stopping because the validation loss is not decreasing\n",
      "Early stopping because the validation loss is not decreasing\n",
      "Early stopping because the validation loss is not decreasing\n",
      "Early stopping because the validation loss is not decreasing\n",
      "{'Lambda_1.0_Learning Rate_0.1_Regularizer_l1_Epochs_1000': (0.9, [0.7272727272727273, 0.8181818181818182, 0.8181818181818182, 0.9090909090909091, 1.0, 0.9090909090909091, 0.9090909090909091, 0.9090909090909091, 1.0, 1.0]), 'Lambda_1.0_Learning Rate_0.1_Regularizer_l2_Epochs_1000': (0.6909090909090909, [0.8181818181818182, 0.5454545454545454, 0.9090909090909091, 0.5454545454545454, 0.7272727272727273, 0.9090909090909091, 0.6363636363636364, 0.7272727272727273, 0.7272727272727273, 0.36363636363636365]), 'Lambda_1.0_Learning Rate_0.01_Regularizer_l1_Epochs_1000': (0.909090909090909, [0.7272727272727273, 0.9090909090909091, 0.8181818181818182, 0.8181818181818182, 1.0, 0.9090909090909091, 1.0, 0.9090909090909091, 1.0, 1.0]), 'Lambda_1.0_Learning Rate_0.01_Regularizer_l2_Epochs_1000': (0.6909090909090909, [0.8181818181818182, 0.5454545454545454, 0.9090909090909091, 0.5454545454545454, 0.7272727272727273, 0.9090909090909091, 0.6363636363636364, 0.7272727272727273, 0.7272727272727273, 0.36363636363636365]), 'Lambda_1.0_Learning Rate_0.001_Regularizer_l1_Epochs_1000': (0.8181818181818181, [0.7272727272727273, 0.8181818181818182, 0.7272727272727273, 0.7272727272727273, 1.0, 0.7272727272727273, 0.9090909090909091, 0.9090909090909091, 0.8181818181818182, 0.8181818181818182]), 'Lambda_1.0_Learning Rate_0.001_Regularizer_l2_Epochs_1000': (0.6909090909090909, [0.8181818181818182, 0.5454545454545454, 0.9090909090909091, 0.5454545454545454, 0.7272727272727273, 0.9090909090909091, 0.6363636363636364, 0.7272727272727273, 0.7272727272727273, 0.36363636363636365]), 'Lambda_1.0_Learning Rate_0.1_Regularizer_l1_Epochs_10000': (0.8636363636363636, [0.7272727272727273, 1.0, 0.7272727272727273, 0.8181818181818182, 1.0, 0.9090909090909091, 0.9090909090909091, 0.7272727272727273, 0.8181818181818182, 1.0]), 'Lambda_1.0_Learning Rate_0.1_Regularizer_l2_Epochs_10000': (0.6909090909090909, [0.8181818181818182, 0.5454545454545454, 0.9090909090909091, 0.5454545454545454, 0.7272727272727273, 0.9090909090909091, 0.6363636363636364, 0.7272727272727273, 0.7272727272727273, 0.36363636363636365]), 'Lambda_1.0_Learning Rate_0.01_Regularizer_l1_Epochs_10000': (0.890909090909091, [0.7272727272727273, 0.8181818181818182, 0.8181818181818182, 0.8181818181818182, 1.0, 0.9090909090909091, 0.9090909090909091, 0.9090909090909091, 1.0, 1.0]), 'Lambda_1.0_Learning Rate_0.01_Regularizer_l2_Epochs_10000': (0.6909090909090909, [0.8181818181818182, 0.5454545454545454, 0.9090909090909091, 0.5454545454545454, 0.7272727272727273, 0.9090909090909091, 0.6363636363636364, 0.7272727272727273, 0.7272727272727273, 0.36363636363636365]), 'Lambda_1.0_Learning Rate_0.001_Regularizer_l1_Epochs_10000': (0.8909090909090909, [0.7272727272727273, 0.8181818181818182, 0.8181818181818182, 0.8181818181818182, 1.0, 0.9090909090909091, 1.0, 0.9090909090909091, 1.0, 0.9090909090909091]), 'Lambda_1.0_Learning Rate_0.001_Regularizer_l2_Epochs_10000': (0.6909090909090909, [0.8181818181818182, 0.5454545454545454, 0.9090909090909091, 0.5454545454545454, 0.7272727272727273, 0.9090909090909091, 0.6363636363636364, 0.7272727272727273, 0.7272727272727273, 0.36363636363636365]), 'Lambda_0_Learning Rate_0.1_Regularizer_l1_Epochs_1000': (0.9545454545454547, [0.8181818181818182, 1.0, 0.9090909090909091, 0.9090909090909091, 1.0, 1.0, 0.9090909090909091, 1.0, 1.0, 1.0]), 'Lambda_0_Learning Rate_0.1_Regularizer_l2_Epochs_1000': (0.6909090909090909, [0.8181818181818182, 0.5454545454545454, 0.9090909090909091, 0.5454545454545454, 0.7272727272727273, 0.9090909090909091, 0.6363636363636364, 0.7272727272727273, 0.7272727272727273, 0.36363636363636365]), 'Lambda_0_Learning Rate_0.01_Regularizer_l1_Epochs_1000': (0.9, [0.7272727272727273, 0.8181818181818182, 0.8181818181818182, 0.8181818181818182, 1.0, 0.9090909090909091, 1.0, 0.9090909090909091, 1.0, 1.0]), 'Lambda_0_Learning Rate_0.01_Regularizer_l2_Epochs_1000': (0.6909090909090909, [0.8181818181818182, 0.5454545454545454, 0.9090909090909091, 0.5454545454545454, 0.7272727272727273, 0.9090909090909091, 0.6363636363636364, 0.7272727272727273, 0.7272727272727273, 0.36363636363636365]), 'Lambda_0_Learning Rate_0.001_Regularizer_l1_Epochs_1000': (0.809090909090909, [0.7272727272727273, 0.8181818181818182, 0.7272727272727273, 0.7272727272727273, 0.9090909090909091, 0.7272727272727273, 0.9090909090909091, 0.9090909090909091, 0.8181818181818182, 0.8181818181818182]), 'Lambda_0_Learning Rate_0.001_Regularizer_l2_Epochs_1000': (0.6909090909090909, [0.8181818181818182, 0.5454545454545454, 0.9090909090909091, 0.5454545454545454, 0.7272727272727273, 0.9090909090909091, 0.6363636363636364, 0.7272727272727273, 0.7272727272727273, 0.36363636363636365]), 'Lambda_0_Learning Rate_0.1_Regularizer_l1_Epochs_10000': (0.9636363636363636, [0.9090909090909091, 1.0, 0.8181818181818182, 1.0, 1.0, 1.0, 0.9090909090909091, 1.0, 1.0, 1.0]), 'Lambda_0_Learning Rate_0.1_Regularizer_l2_Epochs_10000': (0.6909090909090909, [0.8181818181818182, 0.5454545454545454, 0.9090909090909091, 0.5454545454545454, 0.7272727272727273, 0.9090909090909091, 0.6363636363636364, 0.7272727272727273, 0.7272727272727273, 0.36363636363636365]), 'Lambda_0_Learning Rate_0.01_Regularizer_l1_Epochs_10000': (0.9636363636363636, [0.8181818181818182, 1.0, 0.9090909090909091, 1.0, 1.0, 1.0, 0.9090909090909091, 1.0, 1.0, 1.0]), 'Lambda_0_Learning Rate_0.01_Regularizer_l2_Epochs_10000': (0.6909090909090909, [0.8181818181818182, 0.5454545454545454, 0.9090909090909091, 0.5454545454545454, 0.7272727272727273, 0.9090909090909091, 0.6363636363636364, 0.7272727272727273, 0.7272727272727273, 0.36363636363636365]), 'Lambda_0_Learning Rate_0.001_Regularizer_l1_Epochs_10000': (0.9, [0.7272727272727273, 0.9090909090909091, 0.8181818181818182, 0.8181818181818182, 1.0, 0.9090909090909091, 0.9090909090909091, 0.9090909090909091, 1.0, 1.0]), 'Lambda_0_Learning Rate_0.001_Regularizer_l2_Epochs_10000': (0.6909090909090909, [0.8181818181818182, 0.5454545454545454, 0.9090909090909091, 0.5454545454545454, 0.7272727272727273, 0.9090909090909091, 0.6363636363636364, 0.7272727272727273, 0.7272727272727273, 0.36363636363636365]), 'Lambda_0.1_Learning Rate_0.1_Regularizer_l1_Epochs_1000': (0.9545454545454547, [0.8181818181818182, 1.0, 0.9090909090909091, 0.9090909090909091, 1.0, 1.0, 0.9090909090909091, 1.0, 1.0, 1.0]), 'Lambda_0.1_Learning Rate_0.1_Regularizer_l2_Epochs_1000': (0.6909090909090909, [0.8181818181818182, 0.5454545454545454, 0.9090909090909091, 0.5454545454545454, 0.7272727272727273, 0.9090909090909091, 0.6363636363636364, 0.7272727272727273, 0.7272727272727273, 0.36363636363636365]), 'Lambda_0.1_Learning Rate_0.01_Regularizer_l1_Epochs_1000': (0.890909090909091, [0.7272727272727273, 0.8181818181818182, 0.8181818181818182, 0.8181818181818182, 1.0, 0.9090909090909091, 1.0, 0.9090909090909091, 0.9090909090909091, 1.0]), 'Lambda_0.1_Learning Rate_0.01_Regularizer_l2_Epochs_1000': (0.6909090909090909, [0.8181818181818182, 0.5454545454545454, 0.9090909090909091, 0.5454545454545454, 0.7272727272727273, 0.9090909090909091, 0.6363636363636364, 0.7272727272727273, 0.7272727272727273, 0.36363636363636365]), 'Lambda_0.1_Learning Rate_0.001_Regularizer_l1_Epochs_1000': (0.8181818181818181, [0.7272727272727273, 0.8181818181818182, 0.7272727272727273, 0.7272727272727273, 1.0, 0.7272727272727273, 0.9090909090909091, 0.9090909090909091, 0.8181818181818182, 0.8181818181818182]), 'Lambda_0.1_Learning Rate_0.001_Regularizer_l2_Epochs_1000': (0.6909090909090909, [0.8181818181818182, 0.5454545454545454, 0.9090909090909091, 0.5454545454545454, 0.7272727272727273, 0.9090909090909091, 0.6363636363636364, 0.7272727272727273, 0.7272727272727273, 0.36363636363636365]), 'Lambda_0.1_Learning Rate_0.1_Regularizer_l1_Epochs_10000': (0.9636363636363636, [0.9090909090909091, 1.0, 0.9090909090909091, 0.9090909090909091, 1.0, 1.0, 0.9090909090909091, 1.0, 1.0, 1.0]), 'Lambda_0.1_Learning Rate_0.1_Regularizer_l2_Epochs_10000': (0.6909090909090909, [0.8181818181818182, 0.5454545454545454, 0.9090909090909091, 0.5454545454545454, 0.7272727272727273, 0.9090909090909091, 0.6363636363636364, 0.7272727272727273, 0.7272727272727273, 0.36363636363636365]), 'Lambda_0.1_Learning Rate_0.01_Regularizer_l1_Epochs_10000': (0.9545454545454547, [0.8181818181818182, 1.0, 0.9090909090909091, 0.9090909090909091, 1.0, 1.0, 0.9090909090909091, 1.0, 1.0, 1.0]), 'Lambda_0.1_Learning Rate_0.01_Regularizer_l2_Epochs_10000': (0.6909090909090909, [0.8181818181818182, 0.5454545454545454, 0.9090909090909091, 0.5454545454545454, 0.7272727272727273, 0.9090909090909091, 0.6363636363636364, 0.7272727272727273, 0.7272727272727273, 0.36363636363636365]), 'Lambda_0.1_Learning Rate_0.001_Regularizer_l1_Epochs_10000': (0.9181818181818182, [0.7272727272727273, 1.0, 0.8181818181818182, 0.8181818181818182, 1.0, 0.9090909090909091, 1.0, 0.9090909090909091, 1.0, 1.0]), 'Lambda_0.1_Learning Rate_0.001_Regularizer_l2_Epochs_10000': (0.6909090909090909, [0.8181818181818182, 0.5454545454545454, 0.9090909090909091, 0.5454545454545454, 0.7272727272727273, 0.9090909090909091, 0.6363636363636364, 0.7272727272727273, 0.7272727272727273, 0.36363636363636365]), 'Lambda_0.01_Learning Rate_0.1_Regularizer_l1_Epochs_1000': (0.9545454545454547, [0.8181818181818182, 1.0, 0.9090909090909091, 0.9090909090909091, 1.0, 1.0, 0.9090909090909091, 1.0, 1.0, 1.0]), 'Lambda_0.01_Learning Rate_0.1_Regularizer_l2_Epochs_1000': (0.6909090909090909, [0.8181818181818182, 0.5454545454545454, 0.9090909090909091, 0.5454545454545454, 0.7272727272727273, 0.9090909090909091, 0.6363636363636364, 0.7272727272727273, 0.7272727272727273, 0.36363636363636365]), 'Lambda_0.01_Learning Rate_0.01_Regularizer_l1_Epochs_1000': (0.8818181818181818, [0.7272727272727273, 0.8181818181818182, 0.8181818181818182, 0.8181818181818182, 1.0, 0.9090909090909091, 0.9090909090909091, 0.9090909090909091, 0.9090909090909091, 1.0]), 'Lambda_0.01_Learning Rate_0.01_Regularizer_l2_Epochs_1000': (0.6909090909090909, [0.8181818181818182, 0.5454545454545454, 0.9090909090909091, 0.5454545454545454, 0.7272727272727273, 0.9090909090909091, 0.6363636363636364, 0.7272727272727273, 0.7272727272727273, 0.36363636363636365]), 'Lambda_0.01_Learning Rate_0.001_Regularizer_l1_Epochs_1000': (0.8181818181818181, [0.7272727272727273, 0.8181818181818182, 0.7272727272727273, 0.7272727272727273, 1.0, 0.7272727272727273, 0.9090909090909091, 0.9090909090909091, 0.8181818181818182, 0.8181818181818182]), 'Lambda_0.01_Learning Rate_0.001_Regularizer_l2_Epochs_1000': (0.6909090909090909, [0.8181818181818182, 0.5454545454545454, 0.9090909090909091, 0.5454545454545454, 0.7272727272727273, 0.9090909090909091, 0.6363636363636364, 0.7272727272727273, 0.7272727272727273, 0.36363636363636365]), 'Lambda_0.01_Learning Rate_0.1_Regularizer_l1_Epochs_10000': (0.9636363636363636, [0.9090909090909091, 1.0, 0.9090909090909091, 0.9090909090909091, 1.0, 1.0, 0.9090909090909091, 1.0, 1.0, 1.0]), 'Lambda_0.01_Learning Rate_0.1_Regularizer_l2_Epochs_10000': (0.6909090909090909, [0.8181818181818182, 0.5454545454545454, 0.9090909090909091, 0.5454545454545454, 0.7272727272727273, 0.9090909090909091, 0.6363636363636364, 0.7272727272727273, 0.7272727272727273, 0.36363636363636365]), 'Lambda_0.01_Learning Rate_0.01_Regularizer_l1_Epochs_10000': (0.9454545454545455, [0.8181818181818182, 0.9090909090909091, 0.9090909090909091, 0.9090909090909091, 1.0, 1.0, 0.9090909090909091, 1.0, 1.0, 1.0]), 'Lambda_0.01_Learning Rate_0.01_Regularizer_l2_Epochs_10000': (0.6909090909090909, [0.8181818181818182, 0.5454545454545454, 0.9090909090909091, 0.5454545454545454, 0.7272727272727273, 0.9090909090909091, 0.6363636363636364, 0.7272727272727273, 0.7272727272727273, 0.36363636363636365]), 'Lambda_0.01_Learning Rate_0.001_Regularizer_l1_Epochs_10000': (0.8818181818181818, [0.7272727272727273, 0.8181818181818182, 0.8181818181818182, 0.8181818181818182, 1.0, 0.9090909090909091, 0.9090909090909091, 0.9090909090909091, 0.9090909090909091, 1.0]), 'Lambda_0.01_Learning Rate_0.001_Regularizer_l2_Epochs_10000': (0.6909090909090909, [0.8181818181818182, 0.5454545454545454, 0.9090909090909091, 0.5454545454545454, 0.7272727272727273, 0.9090909090909091, 0.6363636363636364, 0.7272727272727273, 0.7272727272727273, 0.36363636363636365]), 'Lambda_0.001_Learning Rate_0.1_Regularizer_l1_Epochs_1000': (0.9454545454545455, [0.8181818181818182, 0.9090909090909091, 0.9090909090909091, 0.9090909090909091, 1.0, 1.0, 0.9090909090909091, 1.0, 1.0, 1.0]), 'Lambda_0.001_Learning Rate_0.1_Regularizer_l2_Epochs_1000': (0.6909090909090909, [0.8181818181818182, 0.5454545454545454, 0.9090909090909091, 0.5454545454545454, 0.7272727272727273, 0.9090909090909091, 0.6363636363636364, 0.7272727272727273, 0.7272727272727273, 0.36363636363636365]), 'Lambda_0.001_Learning Rate_0.01_Regularizer_l1_Epochs_1000': (0.890909090909091, [0.7272727272727273, 0.8181818181818182, 0.8181818181818182, 0.8181818181818182, 1.0, 0.9090909090909091, 1.0, 0.9090909090909091, 0.9090909090909091, 1.0]), 'Lambda_0.001_Learning Rate_0.01_Regularizer_l2_Epochs_1000': (0.6909090909090909, [0.8181818181818182, 0.5454545454545454, 0.9090909090909091, 0.5454545454545454, 0.7272727272727273, 0.9090909090909091, 0.6363636363636364, 0.7272727272727273, 0.7272727272727273, 0.36363636363636365]), 'Lambda_0.001_Learning Rate_0.001_Regularizer_l1_Epochs_1000': (0.8181818181818181, [0.7272727272727273, 0.8181818181818182, 0.7272727272727273, 0.7272727272727273, 1.0, 0.7272727272727273, 0.9090909090909091, 0.9090909090909091, 0.8181818181818182, 0.8181818181818182]), 'Lambda_0.001_Learning Rate_0.001_Regularizer_l2_Epochs_1000': (0.6909090909090909, [0.8181818181818182, 0.5454545454545454, 0.9090909090909091, 0.5454545454545454, 0.7272727272727273, 0.9090909090909091, 0.6363636363636364, 0.7272727272727273, 0.7272727272727273, 0.36363636363636365]), 'Lambda_0.001_Learning Rate_0.1_Regularizer_l1_Epochs_10000': (0.9727272727272727, [0.9090909090909091, 1.0, 0.9090909090909091, 1.0, 1.0, 1.0, 0.9090909090909091, 1.0, 1.0, 1.0]), 'Lambda_0.001_Learning Rate_0.1_Regularizer_l2_Epochs_10000': (0.6909090909090909, [0.8181818181818182, 0.5454545454545454, 0.9090909090909091, 0.5454545454545454, 0.7272727272727273, 0.9090909090909091, 0.6363636363636364, 0.7272727272727273, 0.7272727272727273, 0.36363636363636365]), 'Lambda_0.001_Learning Rate_0.01_Regularizer_l1_Epochs_10000': (0.9545454545454547, [0.8181818181818182, 1.0, 0.9090909090909091, 0.9090909090909091, 1.0, 1.0, 0.9090909090909091, 1.0, 1.0, 1.0]), 'Lambda_0.001_Learning Rate_0.01_Regularizer_l2_Epochs_10000': (0.6909090909090909, [0.8181818181818182, 0.5454545454545454, 0.9090909090909091, 0.5454545454545454, 0.7272727272727273, 0.9090909090909091, 0.6363636363636364, 0.7272727272727273, 0.7272727272727273, 0.36363636363636365]), 'Lambda_0.001_Learning Rate_0.001_Regularizer_l1_Epochs_10000': (0.9, [0.7272727272727273, 0.9090909090909091, 0.8181818181818182, 0.8181818181818182, 1.0, 0.9090909090909091, 1.0, 0.9090909090909091, 0.9090909090909091, 1.0]), 'Lambda_0.001_Learning Rate_0.001_Regularizer_l2_Epochs_10000': (0.6909090909090909, [0.8181818181818182, 0.5454545454545454, 0.9090909090909091, 0.5454545454545454, 0.7272727272727273, 0.9090909090909091, 0.6363636363636364, 0.7272727272727273, 0.7272727272727273, 0.36363636363636365]), 'Lambda_0.0001_Learning Rate_0.1_Regularizer_l1_Epochs_1000': (0.9545454545454547, [0.8181818181818182, 1.0, 0.9090909090909091, 0.9090909090909091, 1.0, 1.0, 0.9090909090909091, 1.0, 1.0, 1.0]), 'Lambda_0.0001_Learning Rate_0.1_Regularizer_l2_Epochs_1000': (0.6909090909090909, [0.8181818181818182, 0.5454545454545454, 0.9090909090909091, 0.5454545454545454, 0.7272727272727273, 0.9090909090909091, 0.6363636363636364, 0.7272727272727273, 0.7272727272727273, 0.36363636363636365]), 'Lambda_0.0001_Learning Rate_0.01_Regularizer_l1_Epochs_1000': (0.890909090909091, [0.7272727272727273, 0.8181818181818182, 0.8181818181818182, 0.8181818181818182, 1.0, 0.9090909090909091, 1.0, 0.9090909090909091, 0.9090909090909091, 1.0]), 'Lambda_0.0001_Learning Rate_0.01_Regularizer_l2_Epochs_1000': (0.6909090909090909, [0.8181818181818182, 0.5454545454545454, 0.9090909090909091, 0.5454545454545454, 0.7272727272727273, 0.9090909090909091, 0.6363636363636364, 0.7272727272727273, 0.7272727272727273, 0.36363636363636365]), 'Lambda_0.0001_Learning Rate_0.001_Regularizer_l1_Epochs_1000': (0.8181818181818181, [0.7272727272727273, 0.8181818181818182, 0.7272727272727273, 0.7272727272727273, 1.0, 0.7272727272727273, 0.9090909090909091, 0.9090909090909091, 0.8181818181818182, 0.8181818181818182]), 'Lambda_0.0001_Learning Rate_0.001_Regularizer_l2_Epochs_1000': (0.6909090909090909, [0.8181818181818182, 0.5454545454545454, 0.9090909090909091, 0.5454545454545454, 0.7272727272727273, 0.9090909090909091, 0.6363636363636364, 0.7272727272727273, 0.7272727272727273, 0.36363636363636365]), 'Lambda_0.0001_Learning Rate_0.1_Regularizer_l1_Epochs_10000': (0.9818181818181818, [0.9090909090909091, 1.0, 0.9090909090909091, 1.0, 1.0, 1.0, 1.0, 1.0, 1.0, 1.0]), 'Lambda_0.0001_Learning Rate_0.1_Regularizer_l2_Epochs_10000': (0.6909090909090909, [0.8181818181818182, 0.5454545454545454, 0.9090909090909091, 0.5454545454545454, 0.7272727272727273, 0.9090909090909091, 0.6363636363636364, 0.7272727272727273, 0.7272727272727273, 0.36363636363636365]), 'Lambda_0.0001_Learning Rate_0.01_Regularizer_l1_Epochs_10000': (0.9545454545454547, [0.8181818181818182, 1.0, 0.9090909090909091, 0.9090909090909091, 1.0, 1.0, 0.9090909090909091, 1.0, 1.0, 1.0]), 'Lambda_0.0001_Learning Rate_0.01_Regularizer_l2_Epochs_10000': (0.6909090909090909, [0.8181818181818182, 0.5454545454545454, 0.9090909090909091, 0.5454545454545454, 0.7272727272727273, 0.9090909090909091, 0.6363636363636364, 0.7272727272727273, 0.7272727272727273, 0.36363636363636365]), 'Lambda_0.0001_Learning Rate_0.001_Regularizer_l1_Epochs_10000': (0.9, [0.7272727272727273, 0.9090909090909091, 0.8181818181818182, 0.8181818181818182, 1.0, 0.9090909090909091, 1.0, 0.9090909090909091, 0.9090909090909091, 1.0]), 'Lambda_0.0001_Learning Rate_0.001_Regularizer_l2_Epochs_10000': (0.6909090909090909, [0.8181818181818182, 0.5454545454545454, 0.9090909090909091, 0.5454545454545454, 0.7272727272727273, 0.9090909090909091, 0.6363636363636364, 0.7272727272727273, 0.7272727272727273, 0.36363636363636365])}\n"
     ]
    }
   ],
   "source": [
    "lambd =[1.0,0,0.1,0.01,0.001,0.0001] \n",
    "epoch=[1000,10000]\n",
    "learning_rate =[0.1, 0.01, 0.001, 0.001]\n",
    "regularizer = ['l1', 'l2']\n",
    "cv=10\n",
    "\n",
    "results = {}\n",
    "\n",
    "for lam in lambd:\n",
    "    for epo in epoch:\n",
    "        for eta in learning_rate:\n",
    "            for reg in regularizer:\n",
    "                label ='Lambda'+'_'+str(lam) + '_'+'Learning Rate'+'_'+ str(eta) +'_'+'Regularizer'+'_'+str(reg)+'_'+'Epochs'+'_'+ str(epo)\n",
    "                model=Logistic_Regression_Binary(learning_rate = eta, epochs = epo, regularizer = reg, lambd = lam, early_stopping=True, plotLearningCurve=False)\n",
    "                results[label] = sFold(model,X_train,y_train,scoring='accuracy',cv=cv)\n",
    "                \n",
    "print(results)"
   ]
  },
  {
   "cell_type": "code",
   "execution_count": 105,
   "metadata": {},
   "outputs": [
    {
     "name": "stdout",
     "output_type": "stream",
     "text": [
      "Lambda_1.0_Learning Rate_0.1_Regularizer_l1_Epochs_1000: Accuracy 0.890909090909091\n",
      "Lambda_1.0_Learning Rate_0.1_Regularizer_l2_Epochs_1000: Accuracy 0.6909090909090909\n",
      "Lambda_1.0_Learning Rate_0.01_Regularizer_l1_Epochs_1000: Accuracy 0.890909090909091\n",
      "Lambda_1.0_Learning Rate_0.01_Regularizer_l2_Epochs_1000: Accuracy 0.6909090909090909\n",
      "Lambda_1.0_Learning Rate_0.001_Regularizer_l1_Epochs_1000: Accuracy 0.8181818181818181\n",
      "Lambda_1.0_Learning Rate_0.001_Regularizer_l2_Epochs_1000: Accuracy 0.6909090909090909\n",
      "Lambda_1.0_Learning Rate_0.1_Regularizer_l1_Epochs_10000: Accuracy 0.8818181818181818\n",
      "Lambda_1.0_Learning Rate_0.1_Regularizer_l2_Epochs_10000: Accuracy 0.6909090909090909\n",
      "Lambda_1.0_Learning Rate_0.01_Regularizer_l1_Epochs_10000: Accuracy 0.9\n",
      "Lambda_1.0_Learning Rate_0.01_Regularizer_l2_Epochs_10000: Accuracy 0.6909090909090909\n",
      "Lambda_1.0_Learning Rate_0.001_Regularizer_l1_Epochs_10000: Accuracy 0.9\n",
      "Lambda_1.0_Learning Rate_0.001_Regularizer_l2_Epochs_10000: Accuracy 0.6909090909090909\n",
      "Lambda_0_Learning Rate_0.1_Regularizer_l1_Epochs_1000: Accuracy 0.9545454545454547\n",
      "Lambda_0_Learning Rate_0.1_Regularizer_l2_Epochs_1000: Accuracy 0.6909090909090909\n",
      "Lambda_0_Learning Rate_0.01_Regularizer_l1_Epochs_1000: Accuracy 0.890909090909091\n",
      "Lambda_0_Learning Rate_0.01_Regularizer_l2_Epochs_1000: Accuracy 0.6909090909090909\n",
      "Lambda_0_Learning Rate_0.001_Regularizer_l1_Epochs_1000: Accuracy 0.8181818181818181\n",
      "Lambda_0_Learning Rate_0.001_Regularizer_l2_Epochs_1000: Accuracy 0.6909090909090909\n",
      "Lambda_0_Learning Rate_0.1_Regularizer_l1_Epochs_10000: Accuracy 0.9818181818181818\n",
      "Lambda_0_Learning Rate_0.1_Regularizer_l2_Epochs_10000: Accuracy 0.6909090909090909\n",
      "Lambda_0_Learning Rate_0.01_Regularizer_l1_Epochs_10000: Accuracy 0.9545454545454547\n",
      "Lambda_0_Learning Rate_0.01_Regularizer_l2_Epochs_10000: Accuracy 0.6909090909090909\n",
      "Lambda_0_Learning Rate_0.001_Regularizer_l1_Epochs_10000: Accuracy 0.9\n",
      "Lambda_0_Learning Rate_0.001_Regularizer_l2_Epochs_10000: Accuracy 0.6909090909090909\n",
      "Lambda_0.1_Learning Rate_0.1_Regularizer_l1_Epochs_1000: Accuracy 0.9363636363636363\n",
      "Lambda_0.1_Learning Rate_0.1_Regularizer_l2_Epochs_1000: Accuracy 0.6909090909090909\n",
      "Lambda_0.1_Learning Rate_0.01_Regularizer_l1_Epochs_1000: Accuracy 0.9\n",
      "Lambda_0.1_Learning Rate_0.01_Regularizer_l2_Epochs_1000: Accuracy 0.6909090909090909\n",
      "Lambda_0.1_Learning Rate_0.001_Regularizer_l1_Epochs_1000: Accuracy 0.809090909090909\n",
      "Lambda_0.1_Learning Rate_0.001_Regularizer_l2_Epochs_1000: Accuracy 0.6909090909090909\n",
      "Lambda_0.1_Learning Rate_0.1_Regularizer_l1_Epochs_10000: Accuracy 0.9636363636363636\n",
      "Lambda_0.1_Learning Rate_0.1_Regularizer_l2_Epochs_10000: Accuracy 0.6909090909090909\n",
      "Lambda_0.1_Learning Rate_0.01_Regularizer_l1_Epochs_10000: Accuracy 0.9363636363636363\n",
      "Lambda_0.1_Learning Rate_0.01_Regularizer_l2_Epochs_10000: Accuracy 0.6909090909090909\n",
      "Lambda_0.1_Learning Rate_0.001_Regularizer_l1_Epochs_10000: Accuracy 0.909090909090909\n",
      "Lambda_0.1_Learning Rate_0.001_Regularizer_l2_Epochs_10000: Accuracy 0.6909090909090909\n",
      "Lambda_0.01_Learning Rate_0.1_Regularizer_l1_Epochs_1000: Accuracy 0.9545454545454547\n",
      "Lambda_0.01_Learning Rate_0.1_Regularizer_l2_Epochs_1000: Accuracy 0.6909090909090909\n",
      "Lambda_0.01_Learning Rate_0.01_Regularizer_l1_Epochs_1000: Accuracy 0.890909090909091\n",
      "Lambda_0.01_Learning Rate_0.01_Regularizer_l2_Epochs_1000: Accuracy 0.6909090909090909\n",
      "Lambda_0.01_Learning Rate_0.001_Regularizer_l1_Epochs_1000: Accuracy 0.809090909090909\n",
      "Lambda_0.01_Learning Rate_0.001_Regularizer_l2_Epochs_1000: Accuracy 0.6909090909090909\n",
      "Lambda_0.01_Learning Rate_0.1_Regularizer_l1_Epochs_10000: Accuracy 0.9727272727272727\n",
      "Lambda_0.01_Learning Rate_0.1_Regularizer_l2_Epochs_10000: Accuracy 0.6909090909090909\n",
      "Lambda_0.01_Learning Rate_0.01_Regularizer_l1_Epochs_10000: Accuracy 0.9545454545454547\n",
      "Lambda_0.01_Learning Rate_0.01_Regularizer_l2_Epochs_10000: Accuracy 0.6909090909090909\n",
      "Lambda_0.01_Learning Rate_0.001_Regularizer_l1_Epochs_10000: Accuracy 0.9\n",
      "Lambda_0.01_Learning Rate_0.001_Regularizer_l2_Epochs_10000: Accuracy 0.6909090909090909\n",
      "Lambda_0.001_Learning Rate_0.1_Regularizer_l1_Epochs_1000: Accuracy 0.9454545454545455\n",
      "Lambda_0.001_Learning Rate_0.1_Regularizer_l2_Epochs_1000: Accuracy 0.6909090909090909\n",
      "Lambda_0.001_Learning Rate_0.01_Regularizer_l1_Epochs_1000: Accuracy 0.9\n",
      "Lambda_0.001_Learning Rate_0.01_Regularizer_l2_Epochs_1000: Accuracy 0.6909090909090909\n",
      "Lambda_0.001_Learning Rate_0.001_Regularizer_l1_Epochs_1000: Accuracy 0.809090909090909\n",
      "Lambda_0.001_Learning Rate_0.001_Regularizer_l2_Epochs_1000: Accuracy 0.6909090909090909\n",
      "Lambda_0.001_Learning Rate_0.1_Regularizer_l1_Epochs_10000: Accuracy 0.9727272727272727\n",
      "Lambda_0.001_Learning Rate_0.1_Regularizer_l2_Epochs_10000: Accuracy 0.6909090909090909\n",
      "Lambda_0.001_Learning Rate_0.01_Regularizer_l1_Epochs_10000: Accuracy 0.9545454545454547\n",
      "Lambda_0.001_Learning Rate_0.01_Regularizer_l2_Epochs_10000: Accuracy 0.6909090909090909\n",
      "Lambda_0.001_Learning Rate_0.001_Regularizer_l1_Epochs_10000: Accuracy 0.890909090909091\n",
      "Lambda_0.001_Learning Rate_0.001_Regularizer_l2_Epochs_10000: Accuracy 0.6909090909090909\n",
      "Lambda_0.0001_Learning Rate_0.1_Regularizer_l1_Epochs_1000: Accuracy 0.9545454545454547\n",
      "Lambda_0.0001_Learning Rate_0.1_Regularizer_l2_Epochs_1000: Accuracy 0.6909090909090909\n",
      "Lambda_0.0001_Learning Rate_0.01_Regularizer_l1_Epochs_1000: Accuracy 0.890909090909091\n",
      "Lambda_0.0001_Learning Rate_0.01_Regularizer_l2_Epochs_1000: Accuracy 0.6909090909090909\n",
      "Lambda_0.0001_Learning Rate_0.001_Regularizer_l1_Epochs_1000: Accuracy 0.8181818181818181\n",
      "Lambda_0.0001_Learning Rate_0.001_Regularizer_l2_Epochs_1000: Accuracy 0.6909090909090909\n",
      "Lambda_0.0001_Learning Rate_0.1_Regularizer_l1_Epochs_10000: Accuracy 0.9818181818181818\n",
      "Lambda_0.0001_Learning Rate_0.1_Regularizer_l2_Epochs_10000: Accuracy 0.6909090909090909\n",
      "Lambda_0.0001_Learning Rate_0.01_Regularizer_l1_Epochs_10000: Accuracy 0.9545454545454547\n",
      "Lambda_0.0001_Learning Rate_0.01_Regularizer_l2_Epochs_10000: Accuracy 0.6909090909090909\n",
      "Lambda_0.0001_Learning Rate_0.001_Regularizer_l1_Epochs_10000: Accuracy 0.9\n",
      "Lambda_0.0001_Learning Rate_0.001_Regularizer_l2_Epochs_10000: Accuracy 0.6909090909090909\n",
      "0.9818181818181818\n",
      "Lambda_0_Learning Rate_0.1_Regularizer_l1_Epochs_10000\n"
     ]
    }
   ],
   "source": [
    "max_acc =0\n",
    "min_config = ''\n",
    "for key,pair in results.items():\n",
    "    print(key + \": Accuracy \" + str(pair[0]))\n",
    "    if pair[0] >max_acc:\n",
    "        max_acc=pair[0]\n",
    "        max_config=key\n",
    "print(max_acc)\n",
    "print(max_config)"
   ]
  },
  {
   "cell_type": "markdown",
   "metadata": {},
   "source": [
    "### 11. Evaluate your best model on the test data and report the accuracy and confusion matrix. You may use the sklearn.metrics.confusion_matrix function for generating the confusion matrix."
   ]
  },
  {
   "cell_type": "code",
   "execution_count": 106,
   "metadata": {},
   "outputs": [
    {
     "data": {
      "image/png": "[encoded data removed]",
      "text/plain": [
       "<Figure size 960x720 with 1 Axes>"
      ]
     },
     "metadata": {
      "needs_background": "light"
     },
     "output_type": "display_data"
    },
    {
     "name": "stdout",
     "output_type": "stream",
     "text": [
      "\n",
      "Train Accuracy:  0.9821428571428571\n",
      "\n",
      "Train Confusion Matrix:\n",
      "[[76  1]\n",
      " [ 1 34]]\n",
      "\n",
      "Test Accuracy:  0.9210526315789473\n",
      "\n",
      "Test Confusion Matrix:\n",
      "[[23  0]\n",
      " [ 3 12]]\n",
      "\n",
      "Test Precision = 1.000000\n",
      "Test Recall = 0.800000\n",
      "Test F1 Score = 0.888889\n",
      "\n",
      "Classification Report:\n",
      "              precision    recall  f1-score   support\n",
      "\n",
      "           0       0.88      1.00      0.94        23\n",
      "           1       1.00      0.80      0.89        15\n",
      "\n",
      "    accuracy                           0.92        38\n",
      "   macro avg       0.94      0.90      0.91        38\n",
      "weighted avg       0.93      0.92      0.92        38\n",
      "\n"
     ]
    }
   ],
   "source": [
    "#Best Model\n",
    "#Regularizer: L1\n",
    "#Learning Rate: 0.1\n",
    "#Lambda: 0\n",
    "#Epochs: 10000\n",
    "\n",
    "model = Logistic_Regression_Binary(learning_rate = 0.1, epochs = 10000, regularizer = 'l1', lambd = 0,early_stopping=True,plotLearningCurve=True)\n",
    "model.fit(X_train, y_train)\n",
    "\n",
    "\n",
    "y_train_predicted=model.predict(X_train)\n",
    "\n",
    "y_test_predicted=model.predict(X_test)\n",
    "\n",
    "#Confusion Matrix\n",
    "\n",
    "accuracy_score_train = np.mean(y_train_predicted == y_train)\n",
    "print(\"\\nTrain Accuracy: \", accuracy_score_train)\n",
    "\n",
    "print(\"\\nTrain Confusion Matrix:\")\n",
    "print(confusion_matrix(y_train, y_train_predicted))\n",
    "\n",
    "\n",
    "accuracy_score_test = np.mean(y_test_predicted == y_test)\n",
    "print(\"\\nTest Accuracy: \", accuracy_score_test)\n",
    "\n",
    "\n",
    "print(\"\\nTest Confusion Matrix:\")\n",
    "print(confusion_matrix(y_test, y_test_predicted))\n",
    "\n",
    "\n",
    "precision_test = precision_score(y_test, y_test_predicted) \n",
    "print(\"\\nTest Precision = %f\" % precision_test)\n",
    "\n",
    "recall_test = recall_score(y_test, y_test_predicted)\n",
    "print(\"Test Recall = %f\" % recall_test)\n",
    "\n",
    "\n",
    "f1_test = f1_score(y_test, y_test_predicted)\n",
    "print(\"Test F1 Score = %f\" % f1_test)\n",
    "\n",
    "\n",
    "print(\"\\nClassification Report:\")\n",
    "print(classification_report(y_test, y_test_predicted))"
   ]
  },
  {
   "cell_type": "code",
   "execution_count": 108,
   "metadata": {},
   "outputs": [
    {
     "name": "stdout",
     "output_type": "stream",
     "text": [
      "0.9821428571428571\n"
     ]
    }
   ],
   "source": [
    "acc,gen_error=accuracy_calc(y_train_predicted,y_train)\n",
    "print(acc)"
   ]
  },
  {
   "cell_type": "markdown",
   "metadata": {},
   "source": [
    "### 12. Using the best model, report the following in the Jupyter notebook: total number of iterations before the model converged, the final weightvector, and the learning curve"
   ]
  },
  {
   "cell_type": "code",
   "execution_count": null,
   "metadata": {},
   "outputs": [],
   "source": []
  },
  {
   "cell_type": "markdown",
   "metadata": {},
   "source": [
    "## Part B-I: Model Code Logistic Regression-Multiclass Classification"
   ]
  },
  {
   "cell_type": "markdown",
   "metadata": {},
   "source": [
    "### 13. Implement the following function to convert the vector of class labels into a matrix containing a one-hot vector for each sample."
   ]
  },
  {
   "cell_type": "code",
   "execution_count": null,
   "metadata": {},
   "outputs": [],
   "source": [
    "def one_hot_labels(Y):\n",
    "    \n",
    "    # Get unique labels in Y and number of observations\n",
    "    unique_labels = np.unique(Y)\n",
    "    n = len(Y)\n",
    "    \n",
    "    # Create one hot matrix\n",
    "    labels = np.array(list(unique_labels)).reshape(len(unique_labels),1)\n",
    "    one_hot_matrix = np.apply_along_axis(lambda x: np.full((n,),x),1,labels)\n",
    "    one_hot_matrix = np.apply_along_axis(lambda x: (x==Y).astype(int),1,one_hot_matrix).T\n",
    "    \n",
    "    return one_hot_matrix"
   ]
  },
  {
   "cell_type": "code",
   "execution_count": null,
   "metadata": {},
   "outputs": [],
   "source": [
    "Y = np.array(['hi', 'no', 'no', 'hi','yes','yes','yes','bye','bye','no','hi'])"
   ]
  },
  {
   "cell_type": "code",
   "execution_count": null,
   "metadata": {},
   "outputs": [],
   "source": [
    "pd.get_dummies(Y).to_numpy()"
   ]
  },
  {
   "cell_type": "code",
   "execution_count": null,
   "metadata": {},
   "outputs": [],
   "source": [
    "unique_labels = np.unique(Y)\n",
    "print(unique_labels)"
   ]
  },
  {
   "cell_type": "code",
   "execution_count": null,
   "metadata": {},
   "outputs": [],
   "source": [
    "labels = np.array(list(unique_labels)).reshape(len(unique_labels),1)"
   ]
  },
  {
   "cell_type": "code",
   "execution_count": null,
   "metadata": {},
   "outputs": [],
   "source": [
    "print(labels)"
   ]
  },
  {
   "cell_type": "code",
   "execution_count": null,
   "metadata": {},
   "outputs": [],
   "source": [
    "Y_train = one_hot_labels(y_train)"
   ]
  },
  {
   "cell_type": "code",
   "execution_count": null,
   "metadata": {},
   "outputs": [],
   "source": [
    "print(one_hot_labels(Y))"
   ]
  },
  {
   "cell_type": "markdown",
   "metadata": {},
   "source": [
    "### 14. Implement the following function that computes the softmax score or the normalized exponential of the score of the samples."
   ]
  },
  {
   "cell_type": "code",
   "execution_count": null,
   "metadata": {},
   "outputs": [],
   "source": [
    "def softmax(score):\n",
    "    score = np.apply_along_axis(np.exp,0,score)\n",
    "    score = np.apply_along_axis(lambda x: x/(sum(x)),1,score)\n",
    "    \n",
    "    return score"
   ]
  },
  {
   "cell_type": "markdown",
   "metadata": {},
   "source": [
    "### 15. Implement the following function to compute the cross-entropy loss."
   ]
  },
  {
   "cell_type": "code",
   "execution_count": null,
   "metadata": {},
   "outputs": [],
   "source": [
    "def cross_entropy_loss(Y_one_hot, Y_proba):\n",
    "    loss = -np.sum(np.multiply(Y_one_hot,np.log(Y_proba)))/Y_one_hot.shape[0]\n",
    "    \n",
    "    return loss"
   ]
  },
  {
   "cell_type": "code",
   "execution_count": null,
   "metadata": {},
   "outputs": [],
   "source": [
    "cross_entropy_loss(Y_train,softmax(z))"
   ]
  },
  {
   "cell_type": "markdown",
   "metadata": {},
   "source": [
    "### 16. Implement the following function to compute the l2 regularized cross-entropy loss."
   ]
  },
  {
   "cell_type": "code",
   "execution_count": null,
   "metadata": {},
   "outputs": [],
   "source": [
    "def cross_entropy_loss_l2(Y_one_hot, Y_proba, Theta, lambd):\n",
    "    loss = cross_entropy_loss(Y_one_hot, Y_proba) + 0.5*lambd*np.sum(np.square(Theta[1:]))/Y_one_hot.shape[0]\n",
    "    return loss"
   ]
  },
  {
   "cell_type": "markdown",
   "metadata": {},
   "source": [
    "### 17. Implement the following function to compute the l1 regularized cross-entropy loss."
   ]
  },
  {
   "cell_type": "code",
   "execution_count": null,
   "metadata": {},
   "outputs": [],
   "source": [
    "def cross_entropy_loss_l1(Y_one_hot, Y_proba, Theta, lambd):\n",
    "    loss = cross_entropy_loss(Y_one_hot, Y_proba) + lambd*np.sum(abs(Theta[1:]))/Y_one_hot.shape[0]\n",
    "    return loss"
   ]
  },
  {
   "cell_type": "markdown",
   "metadata": {},
   "source": [
    "### 18. Implement a Logistic_Regression_Multiclass model class that uses the softmax regression technique for performing multi-class classification. The model should have the following three methods. Note the that “fit” method should implement the batch gradient descent algorithm (based on the 1st order derivative of the loss)."
   ]
  },
  {
   "cell_type": "code",
   "execution_count": null,
   "metadata": {},
   "outputs": [],
   "source": [
    "class Logistic_Regression_Multiclass():\n",
    "    def __init__(self, multi_class='softmax', learning_rate=0.01, epochs=100, tol=0.0001, regularizer=None, lambd=0.0, early_stopping=False, validation_fraction=0.1, plotLearningCurve=True, **kwargs):\n",
    "        self.multi_class = multi_class\n",
    "        self.learning_rate = learning_rate\n",
    "        self.epochs = epochs\n",
    "        self.tol = tol\n",
    "        self.regularizer = regularizer\n",
    "        self.lambd = lambd\n",
    "        self.early_stopping = early_stopping\n",
    "        self.validation_fraction = validation_fraction\n",
    "        self.plotLearningCurve = plotLearningCurve\n",
    "        self.W = None\n",
    "        self.loss = []\n",
    "        self.loss_validation = []\n",
    "        \n",
    "    def fit(self,X,Y):\n",
    "        # Add 1 for bias term\n",
    "        x_0 = np.ones((X.shape[0],1))\n",
    "        X = np.concatenate((x_0,X), axis=1)\n",
    "        \n",
    "        if self.early_stopping:\n",
    "            valid_samples = math.floor(X.shape[0]*self.validation_fraction)\n",
    "            validation_X = X[:valid_samples]\n",
    "            X = X[valid_samples:]\n",
    "            validation_Y = Y[:valid_samples]\n",
    "            Y = Y[valid_samples:]\n",
    "        \n",
    "        # Set number of training data\n",
    "        n = X.shape[0]\n",
    "        \n",
    "        # Initiate Weight Matrix\n",
    "        W = np.zeros((X.shape[1],Y.shape[1]))\n",
    "        \n",
    "        loss = []\n",
    "        loss_validation = []\n",
    "        \n",
    "        for i in range(self.epochs):\n",
    "            # Prediction\n",
    "            Mu = softmax(X.dot(W))\n",
    "            \n",
    "            if self.early_stopping:\n",
    "                Mu_validate = softmax(validation_X.dot(W))\n",
    "            \n",
    "            if self.regularizer == 'l2':\n",
    "                G = self.lambd*np.sum(np.square(W[1:])) \n",
    "                l = cross_entropy_loss_l2(Y,Mu,W,self.lambd)\n",
    "                if self.early_stopping:\n",
    "                    l_val = cross_entropy_loss_l2(validation_Y,Mu_validate,W,self.lambd)\n",
    "            elif self.regularizer == 'l1':\n",
    "                G = self.lambd*np.sum(np.sign(W[1:]))\n",
    "                l = cross_entropy_loss_l1(Y,Mu,W,self.lambd)\n",
    "                if self.early_stopping:\n",
    "                    l_val = cross_entropy_loss_l2(validation_Y,Mu_validate,W,self.lambd)\n",
    "            elif self.regularizer is None:\n",
    "                G = 0\n",
    "                l = cross_entropy_loss(Y,Mu)\n",
    "                if self.early_stopping:\n",
    "                    l_val = cross_entropy_loss(validation_Y,Mu_validate)\n",
    "                \n",
    "            loss.append(l)\n",
    "            \n",
    "            if self.early_stopping:\n",
    "                loss_validation.append(l_val)\n",
    "            \n",
    "            # Early stopping correction\n",
    "            if self.early_stopping:\n",
    "                if len(loss_validation) > 1:\n",
    "                    if loss_validation[-2] - loss_validation[-1] < 0:\n",
    "                        break\n",
    "                    \n",
    "            \n",
    "            # Calculate first degree gradient derivative\n",
    "            G = G + X.T.dot(softmax(X.dot(W))-Y)\n",
    "            \n",
    "            if self.regularizer == 'l2':\n",
    "                G = G + self.lambd*np.sum(np.square(W[1:])) \n",
    "            elif self.regularizer == 'l1':\n",
    "                G = G + self.lambd*np.sum(np.sign(W[1:])) \n",
    "            \n",
    "            # Update weights\n",
    "            W = W - (self.learning_rate/n)*G            \n",
    "            \n",
    "        self.W = W\n",
    "        self.loss = loss\n",
    "        self.loss_validation = loss_validation\n",
    "        \n",
    "        return loss\n",
    "        \n",
    "    def predict(self,X):\n",
    "        # Append bias term\n",
    "        x_0 = np.ones((X.shape[0],1))\n",
    "        X = np.concatenate((x_0,X), axis=1)\n",
    "        \n",
    "        return softmax(X.dot(self.W))\n",
    "            \n"
   ]
  },
  {
   "cell_type": "code",
   "execution_count": null,
   "metadata": {},
   "outputs": [],
   "source": [
    "logit = Logistic_Regression_Multiclass(learning_rate=0.1, epochs=1000, regularizer='l2', lambd = 0.1, early_stopping = True)"
   ]
  },
  {
   "cell_type": "code",
   "execution_count": null,
   "metadata": {},
   "outputs": [],
   "source": [
    "loss_validation = logit.fit(X_train,Y_train)"
   ]
  },
  {
   "cell_type": "markdown",
   "metadata": {},
   "source": [
    "## Part B-II: Load, Partition, and Scale Data"
   ]
  },
  {
   "cell_type": "markdown",
   "metadata": {},
   "source": [
    "### 19. Read the Iris data using the sklearn.datasets.load_iris function. Create a data matrix X and 1D column vector Y containing the multi-lass labels. "
   ]
  },
  {
   "cell_type": "code",
   "execution_count": null,
   "metadata": {},
   "outputs": [],
   "source": []
  },
  {
   "cell_type": "markdown",
   "metadata": {},
   "source": [
    "### 20. Shuffle the rows of X. You may use a sklearn function."
   ]
  },
  {
   "cell_type": "code",
   "execution_count": null,
   "metadata": {},
   "outputs": [],
   "source": []
  },
  {
   "cell_type": "markdown",
   "metadata": {},
   "source": [
    "### 21. Partition the data into train and test set. Use the partition function from your previous assignment or from sklearn."
   ]
  },
  {
   "cell_type": "code",
   "execution_count": null,
   "metadata": {},
   "outputs": [],
   "source": []
  },
  {
   "cell_type": "markdown",
   "metadata": {},
   "source": [
    "### 22. Standardize the train and test set. Use the standardization function from your previous assignment or from sklearn."
   ]
  },
  {
   "cell_type": "code",
   "execution_count": null,
   "metadata": {},
   "outputs": [],
   "source": []
  },
  {
   "cell_type": "markdown",
   "metadata": {},
   "source": [
    "## Part B-III: Model Evaluation"
   ]
  },
  {
   "cell_type": "markdown",
   "metadata": {},
   "source": [
    "### 23. Model selection via Hyperparameter tuning: Use the kFold function from previous assignment or from sklearn to evaluate the performance of your model over each combination of parameters from the following sets. You may vary the range of values, if needed, and also for more experimentation."
   ]
  },
  {
   "cell_type": "code",
   "execution_count": null,
   "metadata": {},
   "outputs": [],
   "source": []
  },
  {
   "cell_type": "markdown",
   "metadata": {},
   "source": [
    "### 24. Evaluate your best model on the test data and report the accuracy and confusion matrix. You may use the sklearn.metrics.confusion_matrix function for generating the confusion matrix."
   ]
  },
  {
   "cell_type": "code",
   "execution_count": null,
   "metadata": {},
   "outputs": [],
   "source": []
  },
  {
   "cell_type": "markdown",
   "metadata": {},
   "source": [
    "### 25. Using the best model, report the following in the Jupyter notebook: total number of iterations before the model converged, the final weightvector, and the learning curve"
   ]
  },
  {
   "cell_type": "code",
   "execution_count": null,
   "metadata": {},
   "outputs": [],
   "source": []
  },
  {
   "cell_type": "markdown",
   "metadata": {},
   "source": [
    "## Extra Credit"
   ]
  },
  {
   "cell_type": "markdown",
   "metadata": {},
   "source": [
    "### 26. Implement the one-vs-all (OvA) technique for performing multi-class classification in the Logistic_Regression_Multiclass model."
   ]
  },
  {
   "cell_type": "code",
   "execution_count": null,
   "metadata": {},
   "outputs": [],
   "source": []
  },
  {
   "cell_type": "markdown",
   "metadata": {},
   "source": [
    "### 27. Implement the Stochastic Gradient Descent Logistic Regression algorithm for performing multi-class classification. It should use a suitable learning schedule function for adapting the learning rate. Using cross-validation determine the best model. Evaluate your model on test data and report the accuracy and confusion matrix."
   ]
  },
  {
   "cell_type": "code",
   "execution_count": null,
   "metadata": {},
   "outputs": [],
   "source": []
  }
 ],
 "metadata": {
  "kernelspec": {
   "display_name": "Python 3",
   "language": "python",
   "name": "python3"
  },
  "language_info": {
   "codemirror_mode": {
    "name": "ipython",
    "version": 3
   },
   "file_extension": ".py",
   "mimetype": "text/x-python",
   "name": "python",
   "nbconvert_exporter": "python",
   "pygments_lexer": "ipython3",
   "version": "3.8.5"
  }
 },
 "nbformat": 4,
 "nbformat_minor": 4
}
