{
 "cells": [
  {
   "cell_type": "markdown",
   "metadata": {},
   "source": [
    "# Linear Regression"
   ]
  },
  {
   "cell_type": "markdown",
   "metadata": {},
   "source": [
    "This is the second programming assignment for CSCE478/878 Introduction to Machine Learning on Linear Regression. This notebook is divided into 3 sections, namely\n",
    "1. **Part A (Model Code)**\n",
    "1. **Part B (Data Processing)**\n",
    "1. **Part C (Model Evaluation)**"
   ]
  },
  {
   "cell_type": "code",
   "execution_count": 1,
   "metadata": {},
   "outputs": [],
   "source": [
    "import numpy as np\n",
    "import pandas as pd\n",
    "import matplotlib.pyplot as plt\n",
    "import random\n",
    "import itertools\n",
    "import math"
   ]
  },
  {
   "cell_type": "markdown",
   "metadata": {},
   "source": [
    "## Part A"
   ]
  },
  {
   "cell_type": "markdown",
   "metadata": {},
   "source": [
    "### 1. Implement the following function that generates the polynomial and interaction features for a given degree of the polynomial"
   ]
  },
  {
   "cell_type": "code",
   "execution_count": 68,
   "metadata": {},
   "outputs": [],
   "source": [
    "\"\"\"\n",
    "Takes the feature matrix X and the polynomial degree and returns\n",
    "X with features of polynomial degrees and pairwise interaction\n",
    "terms\n",
    "\n",
    "Input:\n",
    "    X - 2D np.ndarray feature matrix\n",
    "    degree - integer > 0\n",
    "    \n",
    "Output:\n",
    "    X - 2D np.ndarray polynomial feature matrix \n",
    "\"\"\"\n",
    "# Doesn't Include the Bias Term, as it will be added in the regression functions\n",
    "def polynomialFeatures(X, degree):\n",
    "    \n",
    "    X_original=X.copy()\n",
    "     #Create polynomials of degree n\n",
    "    if degree > 1:\n",
    "        for d in range(2, degree+1):\n",
    "     #Create combinations of interaction terms\n",
    "            interactions =  lambda x: np.multiply.reduce(np.array(list(itertools.combinations_with_replacement(x.T,d))),1).T\n",
    "            X = np.concatenate((X,interactions(X_original)), axis=1)\n",
    "    return X"
   ]
  },
  {
   "cell_type": "markdown",
   "metadata": {},
   "source": [
    "### 2. Implement the following function to calculate and return the mean squared error (mse) of two vectors.\n",
    " "
   ]
  },
  {
   "cell_type": "code",
   "execution_count": 4,
   "metadata": {},
   "outputs": [],
   "source": [
    "\"\"\"\n",
    "Calculates the mean squared error (mse) between the true and predicted labels\n",
    "Input: \n",
    "    true: array_like type vector of true labels\n",
    "    pred: array_like type vector of predicted labels\n",
    "Output:\n",
    "    mean squared error: accuracy expressed in decimal\n",
    "\"\"\"\n",
    "def MSE_error(true,pred):\n",
    "    diff = true - pred\n",
    "    error = np.dot(diff,diff)/true.shape[0]\n",
    "    return error"
   ]
  },
  {
   "cell_type": "markdown",
   "metadata": {},
   "source": [
    "###  3. Implement the following function to plot the training and validation root mean square error (rmse) values of the data matrix X for various polynomial degree starting from 1 up to the value set by the argument “maxPolynomialDegree” "
   ]
  },
  {
   "cell_type": "code",
   "execution_count": 5,
   "metadata": {},
   "outputs": [],
   "source": [
    "def plot_polynomial_model_complexity(estimator,X,y,cv,max_degree):\n",
    "    \n",
    "    range_degree=np.array([d for d in range(1,max_degree+1)]) \n",
    "    X_original=X.copy()\n",
    "    avg_score_train=[]\n",
    "    avg_score_val=[]\n",
    "    #Running for every degree\n",
    "    for d in range(1,max_degree+1):\n",
    "        \n",
    "        X2=polynomialFeatures(X_original,d)\n",
    "        size = len(X2)\n",
    "        size_fold = int(size/cv)\n",
    "        range_index = [j for j in range(0,len(X2))]\n",
    "        score_val=[]\n",
    "        score_train=[]\n",
    "        #Data Standardization\n",
    "        r,c=np.shape(X2)\n",
    "        for col in range(0,c):\n",
    "            m=np.mean(X2[:,col])\n",
    "            s=np.std(X2[:,col])\n",
    "            if s>0:\n",
    "                X2[:,col]=(X2[:,col]-m)/s\n",
    "    #Partitioning of the data    \n",
    "        for i in range(cv):\n",
    "            init=0+i*size_fold\n",
    "            fin=(i+1)*size_fold\n",
    "            partition_range_index = [j for j in range(init,fin)]\n",
    "            \n",
    "            #Feature and label data of the Fold\n",
    "            X_partition = X2[partition_range_index]\n",
    "            y_partition = y[partition_range_index]\n",
    "            \n",
    "            #Feature and label data of  1-Fold        \n",
    "            remainder_index = list(set(range_index).difference(set(partition_range_index)))\n",
    "            X_remainder=X2[remainder_index]\n",
    "            y_remainder=y[remainder_index]\n",
    "            \n",
    "            #Fit the model to the 1-Fold data\n",
    "            estimator.fit(X_remainder, y_remainder)\n",
    "            \n",
    "            #Test the model on the 1-Fold data\n",
    "            pred=estimator.predict(X_remainder)\n",
    "            rmse=math.sqrt(MSE_error(y_remainder,pred))\n",
    "            score_train.append(rmse) \n",
    "            \n",
    "            #Test the model on the fold data\n",
    "            pred=estimator.predict(X_partition)\n",
    "            rmse=math.sqrt(MSE_error(y_partition,pred))\n",
    "            score_val.append(rmse) \n",
    "        avg_score_train.append(np.mean(score_train))\n",
    "        avg_score_val.append(np.mean(score_val))\n",
    "    \n",
    "           \n",
    "    #generate the plot\n",
    "    plt.figure()\n",
    "    plt.plot(range_degree,avg_score_train)\n",
    "    plt.plot(range_degree,avg_score_val)\n",
    "    plt.xlabel(\"Polynomial Degree\")\n",
    "    plt.ylabel(\"RMSE\")\n",
    "    plt.title('Polynomial Model Complexity')\n",
    "    plt.legend([\"Training\", \"Validation\"])\n",
    "    return \n",
    "    "
   ]
  },
  {
   "cell_type": "markdown",
   "metadata": {},
   "source": [
    "### 4.Implement a Linear_Regression model class. It should have the following three methods. Note the that “fit” method should implement the batch gradient descent algorithm.\n"
   ]
  },
  {
   "cell_type": "code",
   "execution_count": 46,
   "metadata": {},
   "outputs": [],
   "source": [
    "'''\n",
    "Linear Regression that takes optional hyperparameters. Contains methods fit using Batch Gradient Descent to\n",
    "estimate the weight parameters of the model.\n",
    "Methods:\n",
    "    fit - Given X and y, using batch gradient descent to find w\n",
    "    predict - Given X, using w to provide prediction\n",
    "'''\n",
    "class Linear_Regression():\n",
    "    def __init__(self, learning_rate=0.01, epochs=100, tol=None, regularizer=None, lambd=0.0, **kwargs):\n",
    "        self.learning_rate = learning_rate\n",
    "        self.epochs = epochs\n",
    "        self.tol = tol\n",
    "        self.regularizer = regularizer\n",
    "        self.lambd = lambd\n",
    "        self.w = None\n",
    "        self.mse = []\n",
    "        self.mse_test = []\n",
    "        self.learning_curve = False\n",
    "        if \"learning_curve\" in kwargs:\n",
    "            self.learning_curve = True\n",
    "            self.X_test, self.y_test = kwargs[\"learning_curve\"]\n",
    "            \n",
    "            x_0 = np.ones((self.X_test.shape[0],1))\n",
    "            self.X_test = np.concatenate((x_0,self.X_test), axis=1)\n",
    "        \n",
    "        return\n",
    "    \n",
    "    def fit(self, X, y):\n",
    "        # Add x_0 = 1 for all for intercept and concat data\n",
    "        x_0 = np.ones((X.shape[0],1))\n",
    "        X = np.concatenate((x_0,X), axis=1)\n",
    "        \n",
    "        # Init prev_cost with 0\n",
    "        prev_cost = 0\n",
    "        \n",
    "        # Number of training samples\n",
    "        m = len(X)\n",
    "        # Initialize all weights to 0\n",
    "        self.w = np.zeros((X.shape[1],))\n",
    "        \n",
    "        # Run batch gradient descent up to self.epoch times\n",
    "        for i in range(self.epochs):\n",
    "            # Calculate mse with current weights\n",
    "            new_cost=0.5*MSE_error(X.dot(self.w),y)\n",
    "            self.mse.append(new_cost)\n",
    "            \n",
    "            if self.regularizer == \"l2\":\n",
    "                regularized_term = 0.5*self.lambd*np.dot(self.w[1:],self.w[1:])/m # Exclude the bias term\n",
    "                new_cost=new_cost + regularized_term\n",
    "                \n",
    "            elif self.regularizer == 'l1':\n",
    "                regularized_term = 0.5*self.lambd*np.sum(abs(self.w[1:]))/m  # Exclude the bias term\n",
    "                new_cost=new_cost + regularized_term\n",
    "            \n",
    "            # Break if absolute cost of previous cost and current cost is smaller than self.tol\n",
    "            if self.tol is not None:\n",
    "                if abs(prev_cost - new_cost) > self.tol:\n",
    "                    prev_cost = new_cost\n",
    "                else:\n",
    "                    break\n",
    "            \n",
    "            # Calculate gradient\n",
    "            grad = (X.T.dot(X.dot(self.w)-y))\n",
    "            \n",
    "            # Apply Regularization term to gradient\n",
    "            if self.regularizer == \"l2\":\n",
    "                regularized_term = self.lambd*self.w\n",
    "                regularized_term[0] = 0 # Exclude the bias term\n",
    "                grad = grad + regularized_term\n",
    "                \n",
    "            elif self.regularizer == 'l1':\n",
    "                regularized_term = self.lambd * np.sign(self.w)\n",
    "                regularized_term[0] = 0 # Exclude the bias term\n",
    "                grad = grad + regularized_term\n",
    "            \n",
    "            # Update weights\n",
    "            self.w = self.w - (self.learning_rate/m)*grad\n",
    "            \n",
    "            # Calculate MSE of test data\n",
    "            if self.learning_curve:\n",
    "                self.mse_test.append(0.5*MSE_error(self.X_test.dot(self.w),self.y_test))\n",
    "                \n",
    "    def predict(self, X):\n",
    "        \n",
    "        x_0 = np.ones((X.shape[0],1))\n",
    "        X = np.concatenate((x_0,X), axis=1)\n",
    "        \n",
    "        pred = X.dot(self.w)\n",
    "        \n",
    "        return pred\n"
   ]
  },
  {
   "cell_type": "markdown",
   "metadata": {},
   "source": [
    "## Part B"
   ]
  },
  {
   "cell_type": "markdown",
   "metadata": {},
   "source": [
    "### 5. Read in the winequality-red.csv file as a Pandas data frame."
   ]
  },
  {
   "cell_type": "code",
   "execution_count": 34,
   "metadata": {},
   "outputs": [],
   "source": [
    "df = pd.read_csv('./Data/winequality-red.csv', sep=';')"
   ]
  },
  {
   "cell_type": "markdown",
   "metadata": {},
   "source": [
    "### 6. Use the techniques from the recitation to summarize each of the variables in the dataset in terms of mean, standard deviation, and quartiles. Include this in your report."
   ]
  },
  {
   "cell_type": "code",
   "execution_count": 35,
   "metadata": {},
   "outputs": [
    {
     "data": {
      "text/html": [
       "<div>\n",
       "<style scoped>\n",
       "    .dataframe tbody tr th:only-of-type {\n",
       "        vertical-align: middle;\n",
       "    }\n",
       "\n",
       "    .dataframe tbody tr th {\n",
       "        vertical-align: top;\n",
       "    }\n",
       "\n",
       "    .dataframe thead th {\n",
       "        text-align: right;\n",
       "    }\n",
       "</style>\n",
       "<table border=\"1\" class=\"dataframe\">\n",
       "  <thead>\n",
       "    <tr style=\"text-align: right;\">\n",
       "      <th></th>\n",
       "      <th>fixed acidity</th>\n",
       "      <th>volatile acidity</th>\n",
       "      <th>citric acid</th>\n",
       "      <th>residual sugar</th>\n",
       "      <th>chlorides</th>\n",
       "      <th>free sulfur dioxide</th>\n",
       "      <th>total sulfur dioxide</th>\n",
       "      <th>density</th>\n",
       "      <th>pH</th>\n",
       "      <th>sulphates</th>\n",
       "      <th>alcohol</th>\n",
       "      <th>quality</th>\n",
       "    </tr>\n",
       "  </thead>\n",
       "  <tbody>\n",
       "    <tr>\n",
       "      <th>count</th>\n",
       "      <td>1599.000000</td>\n",
       "      <td>1599.000000</td>\n",
       "      <td>1599.000000</td>\n",
       "      <td>1599.000000</td>\n",
       "      <td>1599.000000</td>\n",
       "      <td>1599.000000</td>\n",
       "      <td>1599.000000</td>\n",
       "      <td>1599.000000</td>\n",
       "      <td>1599.000000</td>\n",
       "      <td>1599.000000</td>\n",
       "      <td>1599.000000</td>\n",
       "      <td>1599.000000</td>\n",
       "    </tr>\n",
       "    <tr>\n",
       "      <th>mean</th>\n",
       "      <td>8.319637</td>\n",
       "      <td>0.527821</td>\n",
       "      <td>0.270976</td>\n",
       "      <td>2.538806</td>\n",
       "      <td>0.087467</td>\n",
       "      <td>15.874922</td>\n",
       "      <td>46.467792</td>\n",
       "      <td>0.996747</td>\n",
       "      <td>3.311113</td>\n",
       "      <td>0.658149</td>\n",
       "      <td>10.422983</td>\n",
       "      <td>5.636023</td>\n",
       "    </tr>\n",
       "    <tr>\n",
       "      <th>std</th>\n",
       "      <td>1.741096</td>\n",
       "      <td>0.179060</td>\n",
       "      <td>0.194801</td>\n",
       "      <td>1.409928</td>\n",
       "      <td>0.047065</td>\n",
       "      <td>10.460157</td>\n",
       "      <td>32.895324</td>\n",
       "      <td>0.001887</td>\n",
       "      <td>0.154386</td>\n",
       "      <td>0.169507</td>\n",
       "      <td>1.065668</td>\n",
       "      <td>0.807569</td>\n",
       "    </tr>\n",
       "    <tr>\n",
       "      <th>min</th>\n",
       "      <td>4.600000</td>\n",
       "      <td>0.120000</td>\n",
       "      <td>0.000000</td>\n",
       "      <td>0.900000</td>\n",
       "      <td>0.012000</td>\n",
       "      <td>1.000000</td>\n",
       "      <td>6.000000</td>\n",
       "      <td>0.990070</td>\n",
       "      <td>2.740000</td>\n",
       "      <td>0.330000</td>\n",
       "      <td>8.400000</td>\n",
       "      <td>3.000000</td>\n",
       "    </tr>\n",
       "    <tr>\n",
       "      <th>25%</th>\n",
       "      <td>7.100000</td>\n",
       "      <td>0.390000</td>\n",
       "      <td>0.090000</td>\n",
       "      <td>1.900000</td>\n",
       "      <td>0.070000</td>\n",
       "      <td>7.000000</td>\n",
       "      <td>22.000000</td>\n",
       "      <td>0.995600</td>\n",
       "      <td>3.210000</td>\n",
       "      <td>0.550000</td>\n",
       "      <td>9.500000</td>\n",
       "      <td>5.000000</td>\n",
       "    </tr>\n",
       "    <tr>\n",
       "      <th>50%</th>\n",
       "      <td>7.900000</td>\n",
       "      <td>0.520000</td>\n",
       "      <td>0.260000</td>\n",
       "      <td>2.200000</td>\n",
       "      <td>0.079000</td>\n",
       "      <td>14.000000</td>\n",
       "      <td>38.000000</td>\n",
       "      <td>0.996750</td>\n",
       "      <td>3.310000</td>\n",
       "      <td>0.620000</td>\n",
       "      <td>10.200000</td>\n",
       "      <td>6.000000</td>\n",
       "    </tr>\n",
       "    <tr>\n",
       "      <th>75%</th>\n",
       "      <td>9.200000</td>\n",
       "      <td>0.640000</td>\n",
       "      <td>0.420000</td>\n",
       "      <td>2.600000</td>\n",
       "      <td>0.090000</td>\n",
       "      <td>21.000000</td>\n",
       "      <td>62.000000</td>\n",
       "      <td>0.997835</td>\n",
       "      <td>3.400000</td>\n",
       "      <td>0.730000</td>\n",
       "      <td>11.100000</td>\n",
       "      <td>6.000000</td>\n",
       "    </tr>\n",
       "    <tr>\n",
       "      <th>max</th>\n",
       "      <td>15.900000</td>\n",
       "      <td>1.580000</td>\n",
       "      <td>1.000000</td>\n",
       "      <td>15.500000</td>\n",
       "      <td>0.611000</td>\n",
       "      <td>72.000000</td>\n",
       "      <td>289.000000</td>\n",
       "      <td>1.003690</td>\n",
       "      <td>4.010000</td>\n",
       "      <td>2.000000</td>\n",
       "      <td>14.900000</td>\n",
       "      <td>8.000000</td>\n",
       "    </tr>\n",
       "  </tbody>\n",
       "</table>\n",
       "</div>"
      ],
      "text/plain": [
       "       fixed acidity  volatile acidity  citric acid  residual sugar  \\\n",
       "count    1599.000000       1599.000000  1599.000000     1599.000000   \n",
       "mean        8.319637          0.527821     0.270976        2.538806   \n",
       "std         1.741096          0.179060     0.194801        1.409928   \n",
       "min         4.600000          0.120000     0.000000        0.900000   \n",
       "25%         7.100000          0.390000     0.090000        1.900000   \n",
       "50%         7.900000          0.520000     0.260000        2.200000   \n",
       "75%         9.200000          0.640000     0.420000        2.600000   \n",
       "max        15.900000          1.580000     1.000000       15.500000   \n",
       "\n",
       "         chlorides  free sulfur dioxide  total sulfur dioxide      density  \\\n",
       "count  1599.000000          1599.000000           1599.000000  1599.000000   \n",
       "mean      0.087467            15.874922             46.467792     0.996747   \n",
       "std       0.047065            10.460157             32.895324     0.001887   \n",
       "min       0.012000             1.000000              6.000000     0.990070   \n",
       "25%       0.070000             7.000000             22.000000     0.995600   \n",
       "50%       0.079000            14.000000             38.000000     0.996750   \n",
       "75%       0.090000            21.000000             62.000000     0.997835   \n",
       "max       0.611000            72.000000            289.000000     1.003690   \n",
       "\n",
       "                pH    sulphates      alcohol      quality  \n",
       "count  1599.000000  1599.000000  1599.000000  1599.000000  \n",
       "mean      3.311113     0.658149    10.422983     5.636023  \n",
       "std       0.154386     0.169507     1.065668     0.807569  \n",
       "min       2.740000     0.330000     8.400000     3.000000  \n",
       "25%       3.210000     0.550000     9.500000     5.000000  \n",
       "50%       3.310000     0.620000    10.200000     6.000000  \n",
       "75%       3.400000     0.730000    11.100000     6.000000  \n",
       "max       4.010000     2.000000    14.900000     8.000000  "
      ]
     },
     "execution_count": 35,
     "metadata": {},
     "output_type": "execute_result"
    }
   ],
   "source": [
    "df.describe()"
   ]
  },
  {
   "cell_type": "markdown",
   "metadata": {},
   "source": [
    "### 7. Shuffle the rows of your data. You can use def = df.sample(frac=1) as an idiomatic way to shuffle the data in Pandas without losing column names. Create a test dataset by randomly sampling 20% of the data. Remaining data should be used for training."
   ]
  },
  {
   "cell_type": "code",
   "execution_count": 22,
   "metadata": {},
   "outputs": [],
   "source": [
    "df = df.sample(frac=1)"
   ]
  },
  {
   "cell_type": "code",
   "execution_count": 23,
   "metadata": {},
   "outputs": [],
   "source": [
    "def partition(X, y, t):\n",
    "    # Determine sizes of sample, training and test set\n",
    "    n = len(y)\n",
    "    size_train = int(t * n)\n",
    "    size_test = 1 - size_train\n",
    "    \n",
    "    # Generate list of all index\n",
    "    range_index = [x for x in range(0,n)]\n",
    "    # Generate list of random index with the size of training set\n",
    "    train_index = random.sample(range(0, n), size_train)\n",
    "    # Obtain the set difference between all the training for test \n",
    "    test_index = list(set(range_index).difference(set(train_index)))\n",
    "    \n",
    "    # Subsetting train and test\n",
    "    X_train = X[train_index]\n",
    "    y_train = y[train_index]\n",
    "    X_test = X[test_index]\n",
    "    y_test = y[test_index]\n",
    "    \n",
    "    return X_train, X_test, y_train, y_test"
   ]
  },
  {
   "cell_type": "code",
   "execution_count": 24,
   "metadata": {},
   "outputs": [],
   "source": [
    "X = np.array(df.drop(columns=['quality'],axis=1))\n",
    "y = np.array(df['quality'])"
   ]
  },
  {
   "cell_type": "code",
   "execution_count": 25,
   "metadata": {},
   "outputs": [],
   "source": [
    "X_train, X_test, y_train, y_test = partition(X, y, 0.8)\n",
    "X_train_poly=X_train.copy()  #To be used for polynomial regression"
   ]
  },
  {
   "cell_type": "code",
   "execution_count": 26,
   "metadata": {},
   "outputs": [],
   "source": [
    "# Data Standardization\n",
    "r,c=np.shape(X_train)\n",
    "for col in range(0,c):\n",
    "    m=np.mean(X_train[:,col])\n",
    "    s=np.std(X_train[:,col])\n",
    "    X_train[:,col]=(X_train[:,col]-m)/s\n",
    "    # standardize test Data on the mean and sd of Train Data  \n",
    "    X_test[:,col]=(X_test[:,col]-m)/s"
   ]
  },
  {
   "cell_type": "markdown",
   "metadata": {},
   "source": [
    "## Part C"
   ]
  },
  {
   "cell_type": "markdown",
   "metadata": {},
   "source": [
    "### 8. Model selection via Hyperparameter tuning: Use the kFold function (known as sFold function from previous assignment) to evaluate the performance of your model over each combination of lambd, learning_rate and regularizer hyperparameters from the following sets:"
   ]
  },
  {
   "cell_type": "code",
   "execution_count": 14,
   "metadata": {},
   "outputs": [],
   "source": [
    "def sFold(estimator,X,y,scoring,cv):\n",
    "    size = len(X)\n",
    "    size_fold = int(size/cv)\n",
    "    range_index = [j for j in range(0,len(X))]\n",
    "    score=[]\n",
    "    #Partitioning of the data\n",
    "    for i in range(cv):\n",
    "        init=0+i*size_fold\n",
    "        fin=(i+1)*size_fold\n",
    "        partition_range_index = [j for j in range(init,fin)]\n",
    "        \n",
    "        #Feature and label data of the Fold\n",
    "        X_partition = X[partition_range_index]\n",
    "        y_partition = y[partition_range_index]\n",
    "        \n",
    "        #Feature and label data of  1-Fold        \n",
    "        remainder_index = list(set(range_index).difference(set(partition_range_index)))\n",
    "        X_remainder=X[remainder_index]\n",
    "        y_remainder=y[remainder_index]\n",
    "        \n",
    "        #Fit the model to the 1-Fold data\n",
    "        estimator.fit(X_remainder, y_remainder) \n",
    "        \n",
    "        #Test the model on the fold data\n",
    "        pred=estimator.predict(X_partition)\n",
    "        if scoring=='MSE':\n",
    "            mse=MSE_error(y_partition,pred)\n",
    "            score.append(mse) \n",
    "            \n",
    "    avg_score = np.mean(score)    \n",
    "    return avg_score,score"
   ]
  },
  {
   "cell_type": "code",
   "execution_count": 15,
   "metadata": {},
   "outputs": [
    {
     "name": "stdout",
     "output_type": "stream",
     "text": [
      "{'Lambda_1.0_Learning Rate_0.1_Regularizer_l1_Epochs_1000': (0.42922668679087234, [0.40751479918971445, 0.4918655659186371, 0.40869272644051075, 0.4156492445370881, 0.3664179679611008, 0.5398787725843951, 0.3898261210027934, 0.4363968754479039, 0.4452005829113305, 0.3908242119152487]), 'Lambda_1.0_Learning Rate_0.1_Regularizer_l2_Epochs_1000': (0.42929916985910427, [0.40749684436408945, 0.49234150619884676, 0.40819141067700393, 0.4152276947872646, 0.36632058287866653, 0.5406969328674569, 0.38990845581736244, 0.4358548414952959, 0.44613151785348315, 0.39082191165157293]), 'Lambda_1.0_Learning Rate_0.01_Regularizer_l1_Epochs_1000': (0.4283926767673087, [0.4077365829523824, 0.49182019630375634, 0.4066638434451165, 0.41657934579244554, 0.3648488425851671, 0.5388469735986391, 0.3868970366881918, 0.43603667336583024, 0.44442775630648695, 0.39006951663507083]), 'Lambda_1.0_Learning Rate_0.01_Regularizer_l2_Epochs_1000': (0.4283624878218998, [0.40770701124951303, 0.4919298592537625, 0.405908898154277, 0.4163212907621659, 0.3643465517311023, 0.5394402876920025, 0.3870478586109978, 0.43568278783337133, 0.4449733141238937, 0.3902670188079121]), 'Lambda_1.0_Learning Rate_0.001_Regularizer_l1_Epochs_1000': (4.806398065741785, [4.573065623120347, 4.800799791262365, 4.708422207683019, 4.854068233515718, 5.161257542268255, 4.6343832922149915, 4.985335665911103, 4.8542022305063925, 4.74600726757993, 4.746438803355738]), 'Lambda_1.0_Learning Rate_0.001_Regularizer_l2_Epochs_1000': (4.806679867474846, [4.572827953077544, 4.800999542838575, 4.708701745721218, 4.853450175708316, 5.1617890954961325, 4.634781519660912, 4.985311733425877, 4.8543664247337475, 4.7471522138249265, 4.747418270261206]), 'Lambda_1.0_Learning Rate_0.1_Regularizer_l1_Epochs_10000': (0.429229806153134, [0.4075144672013225, 0.4918603124831872, 0.4087056148425959, 0.41564877447891696, 0.3664213041306413, 0.5398773662048894, 0.3898324858193784, 0.43640099866427645, 0.4452059603998052, 0.3908307773063267]), 'Lambda_1.0_Learning Rate_0.1_Regularizer_l2_Epochs_10000': (0.42930238061238735, [0.4074965597802721, 0.49233804483191257, 0.40820445152422924, 0.415227302721732, 0.3663248920456378, 0.5406961832066179, 0.3899135539026795, 0.43585782692123387, 0.44613814662884654, 0.39082684456071143]), 'Lambda_1.0_Learning Rate_0.01_Regularizer_l1_Epochs_10000': (0.42922662876185685, [0.40751480445332283, 0.49186563994236115, 0.408692515684987, 0.4156492519121714, 0.3664178796676882, 0.539878788813475, 0.3898260166590361, 0.4363967925375621, 0.44520048962533904, 0.3908241083226257]), 'Lambda_1.0_Learning Rate_0.01_Regularizer_l2_Epochs_10000': (0.4292991176204753, [0.40749684926551544, 0.4923415620740685, 0.4081912097244453, 0.415227701512567, 0.36632050880601386, 0.5406969442169894, 0.38990836725021566, 0.4358547916141896, 0.44613140838570203, 0.3908218333550463]), 'Lambda_1.0_Learning Rate_0.001_Regularizer_l1_Epochs_10000': (0.42839162678252524, [0.40773439365376524, 0.4918202967279791, 0.40666209893893573, 0.4165793490260232, 0.3648513943655243, 0.5388424562239215, 0.38689464486355624, 0.4360373595187269, 0.4444255154682893, 0.3900687590385308]), 'Lambda_1.0_Learning Rate_0.001_Regularizer_l2_Epochs_10000': (0.4283613700099041, [0.4077048391730904, 0.49192983859944844, 0.40590702985751415, 0.4163217258325543, 0.3643486678432276, 0.5394354974223633, 0.38704513951584113, 0.43568382316269616, 0.4449708826412432, 0.390266256051062]), 'Lambda_0_Learning Rate_0.1_Regularizer_l1_Epochs_1000': (0.42933380495571616, [0.40748325059204116, 0.4923767459665067, 0.40823266734302205, 0.4151952422829556, 0.36637855228957644, 0.5408109932937815, 0.38999184026110034, 0.43583135316753624, 0.44615543945521796, 0.39088196490542315]), 'Lambda_0_Learning Rate_0.1_Regularizer_l2_Epochs_1000': (0.42933380495571616, [0.40748325059204116, 0.4923767459665067, 0.40823266734302205, 0.4151952422829556, 0.36637855228957644, 0.5408109932937815, 0.38999184026110034, 0.43583135316753624, 0.44615543945521796, 0.39088196490542315]), 'Lambda_0_Learning Rate_0.01_Regularizer_l1_Epochs_1000': (0.4283723380546606, [0.4076934232080702, 0.4919474595132107, 0.4058892376039696, 0.4163063239706284, 0.36434912865295627, 0.5395326782707056, 0.3870791744809504, 0.435641279641147, 0.444977784504982, 0.39030689069998603]), 'Lambda_0_Learning Rate_0.01_Regularizer_l2_Epochs_1000': (0.4283723380546606, [0.4076934232080702, 0.4919474595132107, 0.4058892376039696, 0.4163063239706284, 0.36434912865295627, 0.5395326782707056, 0.3870791744809504, 0.435641279641147, 0.444977784504982, 0.39030689069998603]), 'Lambda_0_Learning Rate_0.001_Regularizer_l1_Epochs_1000': (4.806688937503064, [4.572815300574711, 4.801028428324301, 4.7087262412826405, 4.853391460268582, 5.1618262405854995, 4.634791071170038, 4.985282191193913, 4.854389041602387, 4.747178518693629, 4.747460881334947]), 'Lambda_0_Learning Rate_0.001_Regularizer_l2_Epochs_1000': (4.806688937503064, [4.572815300574711, 4.801028428324301, 4.7087262412826405, 4.853391460268582, 5.1618262405854995, 4.634791071170038, 4.985282191193913, 4.854389041602387, 4.747178518693629, 4.747460881334947]), 'Lambda_0_Learning Rate_0.1_Regularizer_l1_Epochs_10000': (0.42933737474594497, [0.4074829460316879, 0.4923729759997058, 0.4082471470986767, 0.4151948106491404, 0.3663833814814676, 0.5408101512378545, 0.38999747387289846, 0.4358346874490718, 0.4461627200194795, 0.39088745361946703]), 'Lambda_0_Learning Rate_0.1_Regularizer_l2_Epochs_10000': (0.42933737474594497, [0.4074829460316879, 0.4923729759997058, 0.4082471470986767, 0.4151948106491404, 0.3663833814814676, 0.5408101512378545, 0.38999747387289846, 0.4358346874490718, 0.4461627200194795, 0.39088745361946703]), 'Lambda_0_Learning Rate_0.01_Regularizer_l1_Epochs_10000': (0.42933374856781314, [0.407483255689759, 0.492376805043588, 0.4082324508977679, 0.4151952494772796, 0.36637847163401277, 0.5408110056581034, 0.3899917451555094, 0.4358312990611138, 0.4461553227019058, 0.3908818803590925]), 'Lambda_0_Learning Rate_0.01_Regularizer_l2_Epochs_10000': (0.42933374856781314, [0.407483255689759, 0.492376805043588, 0.4082324508977679, 0.4151952494772796, 0.36637847163401277, 0.5408110056581034, 0.3899917451555094, 0.4358312990611138, 0.4461553227019058, 0.3908818803590925]), 'Lambda_0_Learning Rate_0.001_Regularizer_l1_Epochs_10000': (0.4283712060360064, [0.4076912397480286, 0.49194742994053325, 0.4058873596878303, 0.4163067618832829, 0.36435123435436717, 0.5395278566746712, 0.38707642437576545, 0.4356423066298373, 0.44497533523694915, 0.3903061118287981]), 'Lambda_0_Learning Rate_0.001_Regularizer_l2_Epochs_10000': (0.4283712060360064, [0.4076912397480286, 0.49194742994053325, 0.4058873596878303, 0.4163067618832829, 0.36435123435436717, 0.5395278566746712, 0.38707642437576545, 0.4356423066298373, 0.44497533523694915, 0.3903061118287981]), 'Lambda_0.1_Learning Rate_0.1_Regularizer_l1_Epochs_1000': (0.4293211874295011, [0.40748522430155826, 0.4923235279833583, 0.40827720715682647, 0.41523873151389445, 0.36638140692059884, 0.5407147880078222, 0.38997337045410974, 0.4358863278584251, 0.44605730076935435, 0.3908739893290635]), 'Lambda_0.1_Learning Rate_0.1_Regularizer_l2_Epochs_1000': (0.42933029210158946, [0.4074845946345052, 0.4923731834384227, 0.4082284356433142, 0.41519849718951074, 0.3663726595849197, 0.5407995472680884, 0.3899834249950972, 0.4358336568494509, 0.4461530145531338, 0.39087590685945167]), 'Lambda_0.1_Learning Rate_0.01_Regularizer_l1_Epochs_1000': (0.42837292406627026, [0.40769670070446135, 0.4919333865062933, 0.4059652860203632, 0.4163316885234575, 0.36439785394742785, 0.5394626608080678, 0.387059709127417, 0.43567961259724597, 0.444920648635731, 0.3902816937922375]), 'Lambda_0.1_Learning Rate_0.01_Regularizer_l2_Epochs_1000': (0.428371339183073, [0.4076947718757121, 0.4919456829120697, 0.405891191875919, 0.41630781730066124, 0.36434885365650693, 0.5395234155490654, 0.3870760219656786, 0.4356454205810931, 0.4449773279372334, 0.3903028881767907]), 'Lambda_0.1_Learning Rate_0.001_Regularizer_l1_Epochs_1000': (4.806659538465337, [4.57284026463069, 4.8010052540026, 4.708695723896259, 4.853459243993694, 5.161768479686931, 4.634749989326547, 4.985287464609596, 4.8543696093543796, 4.747061003787616, 4.747358351365057]), 'Lambda_0.1_Learning Rate_0.001_Regularizer_l2_Epochs_1000': (4.806688028836852, [4.572816564730314, 4.801025537728056, 4.708723789545299, 4.853397331826891, 5.161822523603588, 4.63479011457568, 4.985285144804717, 4.85438677794095, 4.747175885930535, 4.747456617682504]), 'Lambda_0.1_Learning Rate_0.1_Regularizer_l1_Epochs_10000': (0.4293246522712102, [0.4074849162968028, 0.49231960618932463, 0.4082913385083795, 0.41523829389700456, 0.36638569992970105, 0.540713881294241, 0.3899790752575824, 0.4358897395139389, 0.44606438962475786, 0.39087958220036895]), 'Lambda_0.1_Learning Rate_0.1_Regularizer_l2_Epochs_10000': (0.42933382420296207, [0.40748429211097353, 0.49236944552341627, 0.4082427644329395, 0.41519806968407347, 0.3663774340372951, 0.540798714940085, 0.38998900255135865, 0.4358369544442134, 0.44616022710145975, 0.3908813372038058]), 'Lambda_0.1_Learning Rate_0.01_Regularizer_l1_Epochs_10000': (0.4293211321378171, [0.4074852294262102, 0.492323588725343, 0.4082769954892788, 0.41523873874948414, 0.3663813333501001, 0.5407148007463936, 0.38997327443313334, 0.4358862711336132, 0.44605718593490845, 0.3908739033897055]), 'Lambda_0.1_Learning Rate_0.01_Regularizer_l2_Epochs_10000': (0.4293302361427148, [0.40748459971270595, 0.49237324218848594, 0.4082282207982845, 0.4151985043356547, 0.36637257961220926, 0.540799559527262, 0.3899833305638784, 0.43583360318084335, 0.44615289854831963, 0.39087582295950396]), 'Lambda_0.1_Learning Rate_0.001_Regularizer_l1_Epochs_10000': (0.42837179692218463, [0.40769452017998153, 0.49193335481410383, 0.40596339660761743, 0.41633205992167643, 0.3643999802198537, 0.5394578538747498, 0.3870570029405191, 0.4356806398741159, 0.44491822468749626, 0.39028093610173215]), 'Lambda_0.1_Learning Rate_0.001_Regularizer_l2_Epochs_10000': (0.42837020859213926, [0.4076925895617304, 0.49194565423481385, 0.4058893149258558, 0.416308254932695, 0.3643509604026252, 0.5395185970975584, 0.3870732749717635, 0.4356464484101614, 0.44497488045735933, 0.3903021109268292]), 'Lambda_0.01_Learning Rate_0.1_Regularizer_l1_Epochs_1000': (0.4293325264747298, [0.40748343615149024, 0.4923714031684081, 0.4082371104432927, 0.41519957209591807, 0.3663788463793412, 0.5408013429320437, 0.38998997429753385, 0.43583683486764974, 0.44614559906800316, 0.3908811453436168]), 'Lambda_0.01_Learning Rate_0.1_Regularizer_l2_Epochs_1000': (0.4293334531717107, [0.4074833848416257, 0.49237638932552313, 0.4082322430985301, 0.4151955678708628, 0.36637796205049683, 0.5408098482901975, 0.3899909979596274, 0.4358315830784124, 0.44615519663459696, 0.3908813585672331]), 'Lambda_0.01_Learning Rate_0.01_Regularizer_l1_Epochs_1000': (0.42837238159295127, [0.4076937407969255, 0.4919460381117897, 0.40589682633534124, 0.41630883541073005, 0.36435398848123524, 0.5395256612703042, 0.38707721721308785, 0.4356451005193632, 0.4449720501958492, 0.39030435759488685]), 'Lambda_0.01_Learning Rate_0.01_Regularizer_l2_Epochs_1000': (0.42837223802866725, [0.4076935579731738, 0.4919472816868804, 0.4058894329129994, 0.41630647327005227, 0.36434910097980844, 0.5395317517613832, 0.3870788590196164, 0.4356416936360461, 0.4449777387527224, 0.3903064902939897]), 'Lambda_0.01_Learning Rate_0.001_Regularizer_l1_Epochs_1000': (4.806685994125443, [4.572817796414221, 4.801026107824248, 4.708723188428591, 4.853398235574214, 5.161820453902124, 4.634786962973169, 4.98528271785968, 4.854387089856888, 4.747166763305063, 4.747450625116247]), 'Lambda_0.01_Learning Rate_0.001_Regularizer_l2_Epochs_1000': (4.806688846619802, [4.572815426979327, 4.801028139244188, 4.70872599608708, 4.853392047424552, 5.161825868862551, 4.634790975496163, 4.9852824865488765, 4.854388815216489, 4.747178255394553, 4.747460454944245]), 'Lambda_0.01_Learning Rate_0.1_Regularizer_l1_Epochs_10000': (0.4293360828423169, [0.4074831312396808, 0.4923676179840805, 0.4082515496860002, 0.4151991398425756, 0.366383598588124, 0.54080049432909, 0.3899956150132672, 0.43584017686499194, 0.44615286043567987, 0.39088664443967924]), 'Lambda_0.01_Learning Rate_0.1_Regularizer_l2_Epochs_10000': (0.4293370191745326, [0.40748308048533766, 0.4923726225761532, 0.40824670768419946, 0.4151951366516541, 0.3663827857399959, 0.5408090072121358, 0.3899966259399615, 0.4358349136725603, 0.4461624703679707, 0.39088684141535784]), 'Lambda_0.01_Learning Rate_0.01_Regularizer_l1_Epochs_10000': (0.42933247025215415, [0.40748344125198727, 0.49237146241237, 0.40823689448346057, 0.41519957929496254, 0.3663787669826848, 0.5408013553343566, 0.389989879104149, 0.4358367804971144, 0.4461454824918377, 0.390881060668619]), 'Lambda_0.01_Learning Rate_0.01_Regularizer_l2_Epochs_10000': (0.42933339682685484, [0.40748338993739364, 0.4923764483698338, 0.4082320268138198, 0.4151955750603559, 0.3663778814634704, 0.5408098606439666, 0.38999090292168304, 0.43583152901592825, 0.44615507995633724, 0.3908812740857599]), 'Lambda_0.01_Learning Rate_0.001_Regularizer_l1_Epochs_10000': (0.4283712506709908, [0.4076915574193692, 0.49194600898529584, 0.40589494914004887, 0.41630927237147497, 0.3643560961849229, 0.5395208418075352, 0.3870744698419194, 0.43564612840992417, 0.4449696027451471, 0.3903035798042708]), 'Lambda_0.01_Learning Rate_0.001_Regularizer_l2_Epochs_10000': (0.4283711061528557, [0.4076913746278149, 0.4919472522037807, 0.40588755509350866, 0.41630691115468116, 0.36435120678572425, 0.5395269304799213, 0.38707610922566227, 0.4356427207088378, 0.4449752896636031, 0.3903057115850227]), 'Lambda_0.001_Learning Rate_0.1_Regularizer_l1_Epochs_1000': (0.4293336769636354, [0.407483269029871, 0.4923762114766989, 0.4082331115222765, 0.41519567507315047, 0.3663785820397962, 0.5408100279592767, 0.3899916534749152, 0.4358319011798579, 0.4461544551513102, 0.3908818827292009]), 'Lambda_0.001_Learning Rate_0.1_Regularizer_l2_Epochs_1000': (0.42933376977232446, [0.40748326401545165, 0.49237671029852387, 0.4082326249078132, 0.41519527484271945, 0.3663784932559713, 0.5408108787894121, 0.38999175602319774, 0.43583137615404494, 0.4461554151698488, 0.3908819042662618]), 'Lambda_0.001_Learning Rate_0.01_Regularizer_l1_Epochs_1000': (0.42837234227625737, [0.4076934548653487, 0.49194731723206125, 0.40588999634659884, 0.41630657498011964, 0.36434961449980036, 0.5395319764181237, 0.3870789787058236, 0.43564166162110857, 0.4449772108576162, 0.3903066372359723]), 'Lambda_0.001_Learning Rate_0.01_Regularizer_l2_Epochs_1000': (0.4283723280506725, [0.4076934366835639, 0.49194744172891497, 0.40588925713369073, 0.4163063389002349, 0.3643491258839059, 0.5395325856174005, 0.3870791429327184, 0.43564132103964553, 0.44497777992880067, 0.3903068506578492]), 'Lambda_0.001_Learning Rate_0.001_Regularizer_l1_Epochs_1000': (4.806688643130368, [4.572815550136112, 4.8010281961163255, 4.708725935975685, 4.853392137768477, 5.161825661892727, 4.6347906603250095, 4.985282243883847, 4.85438884640883, 4.747177343115799, 4.747459855680864]), 'Lambda_0.001_Learning Rate_0.001_Regularizer_l2_Epochs_1000': (4.806688928414575, [4.572815313215069, 4.801028399416093, 4.708726216762868, 4.8533915189841945, 5.161826203412958, 4.63479106160251, 4.985282220729343, 4.85438901896361, 4.747178492363485, 4.747460838695625]), 'Lambda_0.001_Learning Rate_0.1_Regularizer_l1_Epochs_10000': (0.4293372453590206, [0.40748296443430193, 0.49237243998779756, 0.4082475871918727, 0.4151952433771704, 0.3663834030447514, 0.5408091852478341, 0.38999728779695436, 0.43583523623275805, 0.44616173379565627, 0.39088737248110933]), 'Lambda_0.001_Learning Rate_0.1_Regularizer_l2_Epochs_10000': (0.42933733918362665, [0.4074829594755087, 0.4923729406535889, 0.40824710314573304, 0.4151948432503827, 0.3663833218973375, 0.5408100368313221, 0.3899973890715893, 0.4358347100666537, 0.44616269505072753, 0.39088739239342296]), 'Lambda_0.001_Learning Rate_0.01_Regularizer_l1_Epochs_10000': (0.42933362059192326, [0.4074832741278678, 0.49237627057047223, 0.40823289515466615, 0.4151956822679492, 0.3663785014768806, 0.5408100403274029, 0.3899915583609445, 0.43583184704703243, 0.44615433841600965, 0.3908817981700073]), 'Lambda_0.001_Learning Rate_0.01_Regularizer_l2_Epochs_10000': (0.42933371338872756, [0.40748326911297494, 0.49237676937232744, 0.4082324084786185, 0.41519528203656025, 0.3663784126072637, 0.5408108911526778, 0.38999166092437326, 0.43583132205201797, 0.44615529842404356, 0.39088181972641894]), 'Lambda_0.001_Learning Rate_0.001_Regularizer_l1_Epochs_10000': (0.42837121035569636, [0.4076912714135913, 0.4919472876893208, 0.4058881184810138, 0.41630701273569704, 0.36435172041362196, 0.5395271550354739, 0.3870762288151562, 0.43564268870001455, 0.44497476178077877, 0.3903058584922955]), 'Lambda_0.001_Learning Rate_0.001_Regularizer_l2_Epochs_10000': (0.42837119604630336, [0.4076912532349926, 0.49194741216519583, 0.405887379227217, 0.41630677681008715, 0.36435123159576827, 0.5395277640528249, 0.38707639285865647, 0.4356423480367467, 0.44497533067866096, 0.39030607180288435]), 'Lambda_0.0001_Learning Rate_0.1_Regularizer_l1_Epochs_1000': (0.42933379215490036, [0.4074832524346428, 0.4923766925154258, 0.40823271176285775, 0.41519528556006396, 0.3663785552631146, 0.5408108967573477, 0.38999182158058365, 0.4358314079671916, 0.44615534102217536, 0.39088195668560055]), 'Lambda_0.0001_Learning Rate_0.1_Regularizer_l2_Epochs_1000': (0.4293338014373271, [0.40748325193436663, 0.4923767423996698, 0.40823266309939354, 0.4151952455389417, 0.3663785463861189, 0.5408109818433046, 0.3899918318372325, 0.43583135546614143, 0.44615543702664806, 0.39088195884145366]), 'Lambda_0.0001_Learning Rate_0.01_Regularizer_l1_Epochs_1000': (0.4283723384754361, [0.40769342637278233, 0.4919474452836858, 0.40588931347692747, 0.4163063490702322, 0.3643491772362814, 0.5395326080839216, 0.38707915490202066, 0.43564131783806426, 0.44497772713839595, 0.39030686535204967]), 'Lambda_0.0001_Learning Rate_0.01_Regularizer_l2_Epochs_1000': (0.4283723370542479, [0.4076934245556096, 0.49194745773476445, 0.4058892395569299, 0.41630632546358565, 0.36434912837603406, 0.5395326690053506, 0.38707917132610653, 0.43564128378098665, 0.4449777840473543, 0.39030688669575697]), 'Lambda_0.0001_Learning Rate_0.001_Regularizer_l1_Epochs_1000': (4.80668890806554, [4.572815325530629, 4.801028405103289, 4.708726210751721, 4.85339152801827, 5.1618261827159815, 4.634791030085293, 4.985282196462719, 4.854389022082842, 4.747178401135445, 4.747460778769207]), 'Lambda_0.0001_Learning Rate_0.001_Regularizer_l2_Epochs_1000': (4.806688936594211, [4.5728153018387445, 4.8010284254334845, 4.708726238830655, 4.8533914661401445, 5.161826236868239, 4.634791070213278, 4.985282194147465, 4.85438903933851, 4.74717851606059, 4.747460877071007]), 'Lambda_0.0001_Learning Rate_0.1_Regularizer_l1_Epochs_10000': (0.4293373618052869, [0.4074829478707675, 0.4923729223964116, 0.4082471911063411, 0.41519485392003014, 0.36638338363632217, 0.540810054635861, 0.38999745526340424, 0.4358347423258613, 0.4461626213944427, 0.3908874455034274]), 'Lambda_0.0001_Learning Rate_0.1_Regularizer_l2_Epochs_10000': (0.42933737118966137, [0.4074829473760544, 0.49237297246505657, 0.40824714270326745, 0.41519481390927443, 0.3663833755229547, 0.5408101397971616, 0.3899974653926875, 0.43583468971078226, 0.4461627175225682, 0.3908874474968062]), 'Lambda_0.0001_Learning Rate_0.01_Regularizer_l1_Epochs_10000': (0.42933373576884026, [0.40748325753238845, 0.4923767515941766, 0.4082324953225168, 0.4151952927544354, 0.36637847462190315, 0.5408109091220502, 0.38999172647415464, 0.43583135385812893, 0.4461552242706642, 0.39088187213798353]), 'Lambda_0.0001_Learning Rate_0.01_Regularizer_l2_Epochs_10000': (0.4293337450498547, [0.4074832570320654, 0.492376801476423, 0.4082324466557454, 0.4151952527332175, 0.36637846573124006, 0.5408109942075211, 0.3899917367323182, 0.43583130136015846, 0.4461553202740865, 0.3908818742957717]), 'Lambda_0.0001_Learning Rate_0.001_Regularizer_l1_Epochs_10000': (0.42837120646606214, [0.4076912429135688, 0.4919474157140025, 0.40588743556584417, 0.41630678696098633, 0.36435128295983077, 0.539527786509226, 0.38707640481828887, 0.43564234483577624, 0.4449752778894844, 0.3903060864936137]), 'Lambda_0.0001_Learning Rate_0.001_Regularizer_l2_Epochs_10000': (0.42837120503702186, [0.40769124109671323, 0.4919474281629828, 0.40588736164175776, 0.41630676337596006, 0.364351234078489, 0.5395278474124626, 0.38707642122403324, 0.435642310770518, 0.44497533478111123, 0.3903061078261912])}\n"
     ]
    }
   ],
   "source": [
    "lambd =[1.0,0,0.1,0.01,0.001,0.0001] \n",
    "epoch=[1000,10000]\n",
    "learning_rate =[0.1, 0.01, 0.001, 0.001]\n",
    "regularizer = ['l1', 'l2']\n",
    "cv=10\n",
    "\n",
    "results = {}\n",
    "\n",
    "for lam in lambd:\n",
    "    for epo in epoch:\n",
    "        for eta in learning_rate:\n",
    "            for reg in regularizer:\n",
    "                label ='Lambda'+'_'+str(lam) + '_'+'Learning Rate'+'_'+ str(eta) +'_'+'Regularizer'+'_'+str(reg)+'_'+'Epochs'+'_'+ str(epo)\n",
    "                model=Linear_Regression(learning_rate = eta, epochs = epo, regularizer = reg, lambd = lam)\n",
    "                results[label] = sFold(model,X_train,y_train,scoring='MSE',cv=cv)\n",
    "            \n",
    "print(results)"
   ]
  },
  {
   "cell_type": "code",
   "execution_count": 16,
   "metadata": {},
   "outputs": [
    {
     "name": "stdout",
     "output_type": "stream",
     "text": [
      "Lambda_1.0_Learning Rate_0.1_Regularizer_l1_Epochs_1000: MSE Error 0.42922668679087234\n",
      "Lambda_1.0_Learning Rate_0.1_Regularizer_l2_Epochs_1000: MSE Error 0.42929916985910427\n",
      "Lambda_1.0_Learning Rate_0.01_Regularizer_l1_Epochs_1000: MSE Error 0.4283926767673087\n",
      "Lambda_1.0_Learning Rate_0.01_Regularizer_l2_Epochs_1000: MSE Error 0.4283624878218998\n",
      "Lambda_1.0_Learning Rate_0.001_Regularizer_l1_Epochs_1000: MSE Error 4.806398065741785\n",
      "Lambda_1.0_Learning Rate_0.001_Regularizer_l2_Epochs_1000: MSE Error 4.806679867474846\n",
      "Lambda_1.0_Learning Rate_0.1_Regularizer_l1_Epochs_10000: MSE Error 0.429229806153134\n",
      "Lambda_1.0_Learning Rate_0.1_Regularizer_l2_Epochs_10000: MSE Error 0.42930238061238735\n",
      "Lambda_1.0_Learning Rate_0.01_Regularizer_l1_Epochs_10000: MSE Error 0.42922662876185685\n",
      "Lambda_1.0_Learning Rate_0.01_Regularizer_l2_Epochs_10000: MSE Error 0.4292991176204753\n",
      "Lambda_1.0_Learning Rate_0.001_Regularizer_l1_Epochs_10000: MSE Error 0.42839162678252524\n",
      "Lambda_1.0_Learning Rate_0.001_Regularizer_l2_Epochs_10000: MSE Error 0.4283613700099041\n",
      "Lambda_0_Learning Rate_0.1_Regularizer_l1_Epochs_1000: MSE Error 0.42933380495571616\n",
      "Lambda_0_Learning Rate_0.1_Regularizer_l2_Epochs_1000: MSE Error 0.42933380495571616\n",
      "Lambda_0_Learning Rate_0.01_Regularizer_l1_Epochs_1000: MSE Error 0.4283723380546606\n",
      "Lambda_0_Learning Rate_0.01_Regularizer_l2_Epochs_1000: MSE Error 0.4283723380546606\n",
      "Lambda_0_Learning Rate_0.001_Regularizer_l1_Epochs_1000: MSE Error 4.806688937503064\n",
      "Lambda_0_Learning Rate_0.001_Regularizer_l2_Epochs_1000: MSE Error 4.806688937503064\n",
      "Lambda_0_Learning Rate_0.1_Regularizer_l1_Epochs_10000: MSE Error 0.42933737474594497\n",
      "Lambda_0_Learning Rate_0.1_Regularizer_l2_Epochs_10000: MSE Error 0.42933737474594497\n",
      "Lambda_0_Learning Rate_0.01_Regularizer_l1_Epochs_10000: MSE Error 0.42933374856781314\n",
      "Lambda_0_Learning Rate_0.01_Regularizer_l2_Epochs_10000: MSE Error 0.42933374856781314\n",
      "Lambda_0_Learning Rate_0.001_Regularizer_l1_Epochs_10000: MSE Error 0.4283712060360064\n",
      "Lambda_0_Learning Rate_0.001_Regularizer_l2_Epochs_10000: MSE Error 0.4283712060360064\n",
      "Lambda_0.1_Learning Rate_0.1_Regularizer_l1_Epochs_1000: MSE Error 0.4293211874295011\n",
      "Lambda_0.1_Learning Rate_0.1_Regularizer_l2_Epochs_1000: MSE Error 0.42933029210158946\n",
      "Lambda_0.1_Learning Rate_0.01_Regularizer_l1_Epochs_1000: MSE Error 0.42837292406627026\n",
      "Lambda_0.1_Learning Rate_0.01_Regularizer_l2_Epochs_1000: MSE Error 0.428371339183073\n",
      "Lambda_0.1_Learning Rate_0.001_Regularizer_l1_Epochs_1000: MSE Error 4.806659538465337\n",
      "Lambda_0.1_Learning Rate_0.001_Regularizer_l2_Epochs_1000: MSE Error 4.806688028836852\n",
      "Lambda_0.1_Learning Rate_0.1_Regularizer_l1_Epochs_10000: MSE Error 0.4293246522712102\n",
      "Lambda_0.1_Learning Rate_0.1_Regularizer_l2_Epochs_10000: MSE Error 0.42933382420296207\n",
      "Lambda_0.1_Learning Rate_0.01_Regularizer_l1_Epochs_10000: MSE Error 0.4293211321378171\n",
      "Lambda_0.1_Learning Rate_0.01_Regularizer_l2_Epochs_10000: MSE Error 0.4293302361427148\n",
      "Lambda_0.1_Learning Rate_0.001_Regularizer_l1_Epochs_10000: MSE Error 0.42837179692218463\n",
      "Lambda_0.1_Learning Rate_0.001_Regularizer_l2_Epochs_10000: MSE Error 0.42837020859213926\n",
      "Lambda_0.01_Learning Rate_0.1_Regularizer_l1_Epochs_1000: MSE Error 0.4293325264747298\n",
      "Lambda_0.01_Learning Rate_0.1_Regularizer_l2_Epochs_1000: MSE Error 0.4293334531717107\n",
      "Lambda_0.01_Learning Rate_0.01_Regularizer_l1_Epochs_1000: MSE Error 0.42837238159295127\n",
      "Lambda_0.01_Learning Rate_0.01_Regularizer_l2_Epochs_1000: MSE Error 0.42837223802866725\n",
      "Lambda_0.01_Learning Rate_0.001_Regularizer_l1_Epochs_1000: MSE Error 4.806685994125443\n",
      "Lambda_0.01_Learning Rate_0.001_Regularizer_l2_Epochs_1000: MSE Error 4.806688846619802\n",
      "Lambda_0.01_Learning Rate_0.1_Regularizer_l1_Epochs_10000: MSE Error 0.4293360828423169\n",
      "Lambda_0.01_Learning Rate_0.1_Regularizer_l2_Epochs_10000: MSE Error 0.4293370191745326\n",
      "Lambda_0.01_Learning Rate_0.01_Regularizer_l1_Epochs_10000: MSE Error 0.42933247025215415\n",
      "Lambda_0.01_Learning Rate_0.01_Regularizer_l2_Epochs_10000: MSE Error 0.42933339682685484\n",
      "Lambda_0.01_Learning Rate_0.001_Regularizer_l1_Epochs_10000: MSE Error 0.4283712506709908\n",
      "Lambda_0.01_Learning Rate_0.001_Regularizer_l2_Epochs_10000: MSE Error 0.4283711061528557\n",
      "Lambda_0.001_Learning Rate_0.1_Regularizer_l1_Epochs_1000: MSE Error 0.4293336769636354\n",
      "Lambda_0.001_Learning Rate_0.1_Regularizer_l2_Epochs_1000: MSE Error 0.42933376977232446\n",
      "Lambda_0.001_Learning Rate_0.01_Regularizer_l1_Epochs_1000: MSE Error 0.42837234227625737\n",
      "Lambda_0.001_Learning Rate_0.01_Regularizer_l2_Epochs_1000: MSE Error 0.4283723280506725\n",
      "Lambda_0.001_Learning Rate_0.001_Regularizer_l1_Epochs_1000: MSE Error 4.806688643130368\n",
      "Lambda_0.001_Learning Rate_0.001_Regularizer_l2_Epochs_1000: MSE Error 4.806688928414575\n",
      "Lambda_0.001_Learning Rate_0.1_Regularizer_l1_Epochs_10000: MSE Error 0.4293372453590206\n",
      "Lambda_0.001_Learning Rate_0.1_Regularizer_l2_Epochs_10000: MSE Error 0.42933733918362665\n",
      "Lambda_0.001_Learning Rate_0.01_Regularizer_l1_Epochs_10000: MSE Error 0.42933362059192326\n",
      "Lambda_0.001_Learning Rate_0.01_Regularizer_l2_Epochs_10000: MSE Error 0.42933371338872756\n",
      "Lambda_0.001_Learning Rate_0.001_Regularizer_l1_Epochs_10000: MSE Error 0.42837121035569636\n",
      "Lambda_0.001_Learning Rate_0.001_Regularizer_l2_Epochs_10000: MSE Error 0.42837119604630336\n",
      "Lambda_0.0001_Learning Rate_0.1_Regularizer_l1_Epochs_1000: MSE Error 0.42933379215490036\n",
      "Lambda_0.0001_Learning Rate_0.1_Regularizer_l2_Epochs_1000: MSE Error 0.4293338014373271\n",
      "Lambda_0.0001_Learning Rate_0.01_Regularizer_l1_Epochs_1000: MSE Error 0.4283723384754361\n",
      "Lambda_0.0001_Learning Rate_0.01_Regularizer_l2_Epochs_1000: MSE Error 0.4283723370542479\n",
      "Lambda_0.0001_Learning Rate_0.001_Regularizer_l1_Epochs_1000: MSE Error 4.80668890806554\n",
      "Lambda_0.0001_Learning Rate_0.001_Regularizer_l2_Epochs_1000: MSE Error 4.806688936594211\n",
      "Lambda_0.0001_Learning Rate_0.1_Regularizer_l1_Epochs_10000: MSE Error 0.4293373618052869\n",
      "Lambda_0.0001_Learning Rate_0.1_Regularizer_l2_Epochs_10000: MSE Error 0.42933737118966137\n",
      "Lambda_0.0001_Learning Rate_0.01_Regularizer_l1_Epochs_10000: MSE Error 0.42933373576884026\n",
      "Lambda_0.0001_Learning Rate_0.01_Regularizer_l2_Epochs_10000: MSE Error 0.4293337450498547\n",
      "Lambda_0.0001_Learning Rate_0.001_Regularizer_l1_Epochs_10000: MSE Error 0.42837120646606214\n",
      "Lambda_0.0001_Learning Rate_0.001_Regularizer_l2_Epochs_10000: MSE Error 0.42837120503702186\n",
      "0.4283613700099041\n",
      "Lambda_1.0_Learning Rate_0.001_Regularizer_l2_Epochs_10000\n"
     ]
    }
   ],
   "source": [
    "min_MSE =100000000\n",
    "min_config = ''\n",
    "for key,pair in results.items():\n",
    "    print(key + \": MSE Error \" + str(pair[0]))\n",
    "    if pair[0] <min_MSE:\n",
    "        min_MSE=pair[0]\n",
    "        min_config=key\n",
    "print(min_MSE)\n",
    "print(min_config)"
   ]
  },
  {
   "cell_type": "markdown",
   "metadata": {},
   "source": [
    "### 9. Evaluate your model on the test data and report the mean squared error.\n",
    " "
   ]
  },
  {
   "cell_type": "code",
   "execution_count": 17,
   "metadata": {},
   "outputs": [
    {
     "name": "stdout",
     "output_type": "stream",
     "text": [
      "\n",
      "MSE: 0.403\n"
     ]
    }
   ],
   "source": [
    "#Best Model\n",
    "#Regularizer: L1\n",
    "#Learning Rate: 0.001\n",
    "#Lambda: 1\n",
    "#Epochs: 10000\n",
    "\n",
    "model = Linear_Regression(learning_rate = 0.001, epochs = 10000, regularizer = 'l1', lambd = 1)\n",
    "model.fit(X_train, y_train)\n",
    "pred=model.predict(X_test)\n",
    "\n",
    "#MSE\n",
    "mse=MSE_error(y_test,pred)\n",
    "print(\"\\nMSE: %0.3f\" %mse)"
   ]
  },
  {
   "cell_type": "markdown",
   "metadata": {},
   "source": [
    "### 10. Determine the best model hyperparameter values for the training data matrix with polynomial degree 3.\n"
   ]
  },
  {
   "cell_type": "code",
   "execution_count": 18,
   "metadata": {},
   "outputs": [
    {
     "name": "stderr",
     "output_type": "stream",
     "text": [
      "<ipython-input-6-143f21485d48>:42: RuntimeWarning: invalid value encountered in double_scalars\n",
      "  regularized_term = 0.5*self.lambd*np.sum(abs(self.w[1:]))/m  # Exclude the bias term\n",
      "<ipython-input-6-143f21485d48>:38: RuntimeWarning: invalid value encountered in double_scalars\n",
      "  regularized_term = 0.5*self.lambd*np.dot(self.w[1:],self.w[1:])/m # Exclude the bias term\n",
      "<ipython-input-6-143f21485d48>:57: RuntimeWarning: invalid value encountered in multiply\n",
      "  regularized_term = self.lambd*self.w\n"
     ]
    },
    {
     "ename": "KeyboardInterrupt",
     "evalue": "",
     "output_type": "error",
     "traceback": [
      "\u001b[0;31m---------------------------------------------------------------------------\u001b[0m",
      "\u001b[0;31mKeyboardInterrupt\u001b[0m                         Traceback (most recent call last)",
      "\u001b[0;32m<ipython-input-18-314588a64762>\u001b[0m in \u001b[0;36m<module>\u001b[0;34m\u001b[0m\n\u001b[1;32m     20\u001b[0m                 \u001b[0mlabel\u001b[0m \u001b[0;34m=\u001b[0m\u001b[0;34m'Lambda'\u001b[0m\u001b[0;34m+\u001b[0m\u001b[0;34m'_'\u001b[0m\u001b[0;34m+\u001b[0m\u001b[0mstr\u001b[0m\u001b[0;34m(\u001b[0m\u001b[0mlam\u001b[0m\u001b[0;34m)\u001b[0m \u001b[0;34m+\u001b[0m \u001b[0;34m'_'\u001b[0m\u001b[0;34m+\u001b[0m\u001b[0;34m'Learning Rate'\u001b[0m\u001b[0;34m+\u001b[0m\u001b[0;34m'_'\u001b[0m\u001b[0;34m+\u001b[0m \u001b[0mstr\u001b[0m\u001b[0;34m(\u001b[0m\u001b[0meta\u001b[0m\u001b[0;34m)\u001b[0m \u001b[0;34m+\u001b[0m\u001b[0;34m'_'\u001b[0m\u001b[0;34m+\u001b[0m\u001b[0;34m'Regularizer'\u001b[0m\u001b[0;34m+\u001b[0m\u001b[0;34m'_'\u001b[0m\u001b[0;34m+\u001b[0m\u001b[0mstr\u001b[0m\u001b[0;34m(\u001b[0m\u001b[0mreg\u001b[0m\u001b[0;34m)\u001b[0m\u001b[0;34m+\u001b[0m\u001b[0;34m'_'\u001b[0m\u001b[0;34m+\u001b[0m\u001b[0;34m'Epochs'\u001b[0m\u001b[0;34m+\u001b[0m\u001b[0;34m'_'\u001b[0m\u001b[0;34m+\u001b[0m \u001b[0mstr\u001b[0m\u001b[0;34m(\u001b[0m\u001b[0mepo\u001b[0m\u001b[0;34m)\u001b[0m\u001b[0;34m\u001b[0m\u001b[0;34m\u001b[0m\u001b[0m\n\u001b[1;32m     21\u001b[0m                 \u001b[0mmodel\u001b[0m\u001b[0;34m=\u001b[0m\u001b[0mLinear_Regression\u001b[0m\u001b[0;34m(\u001b[0m\u001b[0mlearning_rate\u001b[0m \u001b[0;34m=\u001b[0m \u001b[0meta\u001b[0m\u001b[0;34m,\u001b[0m \u001b[0mepochs\u001b[0m \u001b[0;34m=\u001b[0m \u001b[0mepo\u001b[0m\u001b[0;34m,\u001b[0m \u001b[0mregularizer\u001b[0m \u001b[0;34m=\u001b[0m \u001b[0mreg\u001b[0m\u001b[0;34m,\u001b[0m \u001b[0mlambd\u001b[0m \u001b[0;34m=\u001b[0m \u001b[0mlam\u001b[0m\u001b[0;34m)\u001b[0m\u001b[0;34m\u001b[0m\u001b[0;34m\u001b[0m\u001b[0m\n\u001b[0;32m---> 22\u001b[0;31m                 \u001b[0mresults\u001b[0m\u001b[0;34m[\u001b[0m\u001b[0mlabel\u001b[0m\u001b[0;34m]\u001b[0m \u001b[0;34m=\u001b[0m \u001b[0msFold\u001b[0m\u001b[0;34m(\u001b[0m\u001b[0mmodel\u001b[0m\u001b[0;34m,\u001b[0m\u001b[0mX_train_2\u001b[0m\u001b[0;34m,\u001b[0m\u001b[0my_train\u001b[0m\u001b[0;34m,\u001b[0m\u001b[0mscoring\u001b[0m\u001b[0;34m=\u001b[0m\u001b[0;34m'MSE'\u001b[0m\u001b[0;34m,\u001b[0m\u001b[0mcv\u001b[0m\u001b[0;34m=\u001b[0m\u001b[0mcv\u001b[0m\u001b[0;34m)\u001b[0m\u001b[0;34m\u001b[0m\u001b[0;34m\u001b[0m\u001b[0m\n\u001b[0m\u001b[1;32m     23\u001b[0m \u001b[0;34m\u001b[0m\u001b[0m\n\u001b[1;32m     24\u001b[0m \u001b[0mprint\u001b[0m\u001b[0;34m(\u001b[0m\u001b[0mresults\u001b[0m\u001b[0;34m)\u001b[0m\u001b[0;34m\u001b[0m\u001b[0;34m\u001b[0m\u001b[0m\n",
      "\u001b[0;32m<ipython-input-14-316c1338ce8c>\u001b[0m in \u001b[0;36msFold\u001b[0;34m(estimator, X, y, scoring, cv)\u001b[0m\n\u001b[1;32m     20\u001b[0m \u001b[0;34m\u001b[0m\u001b[0m\n\u001b[1;32m     21\u001b[0m         \u001b[0;31m#Fit the model to the 1-Fold data\u001b[0m\u001b[0;34m\u001b[0m\u001b[0;34m\u001b[0m\u001b[0;34m\u001b[0m\u001b[0m\n\u001b[0;32m---> 22\u001b[0;31m         \u001b[0mestimator\u001b[0m\u001b[0;34m.\u001b[0m\u001b[0mfit\u001b[0m\u001b[0;34m(\u001b[0m\u001b[0mX_remainder\u001b[0m\u001b[0;34m,\u001b[0m \u001b[0my_remainder\u001b[0m\u001b[0;34m)\u001b[0m\u001b[0;34m\u001b[0m\u001b[0;34m\u001b[0m\u001b[0m\n\u001b[0m\u001b[1;32m     23\u001b[0m \u001b[0;34m\u001b[0m\u001b[0m\n\u001b[1;32m     24\u001b[0m         \u001b[0;31m#Test the model on the fold data\u001b[0m\u001b[0;34m\u001b[0m\u001b[0;34m\u001b[0m\u001b[0;34m\u001b[0m\u001b[0m\n",
      "\u001b[0;32m<ipython-input-6-143f21485d48>\u001b[0m in \u001b[0;36mfit\u001b[0;34m(self, X, y)\u001b[0m\n\u001b[1;32m     51\u001b[0m \u001b[0;34m\u001b[0m\u001b[0m\n\u001b[1;32m     52\u001b[0m             \u001b[0;31m# Calculate gradient\u001b[0m\u001b[0;34m\u001b[0m\u001b[0;34m\u001b[0m\u001b[0;34m\u001b[0m\u001b[0m\n\u001b[0;32m---> 53\u001b[0;31m             \u001b[0mgrad\u001b[0m \u001b[0;34m=\u001b[0m \u001b[0;34m(\u001b[0m\u001b[0mX\u001b[0m\u001b[0;34m.\u001b[0m\u001b[0mT\u001b[0m\u001b[0;34m.\u001b[0m\u001b[0mdot\u001b[0m\u001b[0;34m(\u001b[0m\u001b[0mX\u001b[0m\u001b[0;34m.\u001b[0m\u001b[0mdot\u001b[0m\u001b[0;34m(\u001b[0m\u001b[0mself\u001b[0m\u001b[0;34m.\u001b[0m\u001b[0mw\u001b[0m\u001b[0;34m)\u001b[0m\u001b[0;34m-\u001b[0m\u001b[0my\u001b[0m\u001b[0;34m)\u001b[0m\u001b[0;34m)\u001b[0m\u001b[0;34m\u001b[0m\u001b[0;34m\u001b[0m\u001b[0m\n\u001b[0m\u001b[1;32m     54\u001b[0m \u001b[0;34m\u001b[0m\u001b[0m\n\u001b[1;32m     55\u001b[0m             \u001b[0;31m# Apply Regularization term to gradient\u001b[0m\u001b[0;34m\u001b[0m\u001b[0;34m\u001b[0m\u001b[0;34m\u001b[0m\u001b[0m\n",
      "\u001b[0;31mKeyboardInterrupt\u001b[0m: "
     ]
    }
   ],
   "source": [
    "lambd =[1.0,0,0.1,0.01,0.001,0.0001] \n",
    "epoch=[1000,10000]\n",
    "learning_rate =[0.1, 0.01, 0.001, 0.001]\n",
    "regularizer = ['l1', 'l2']\n",
    "cv=10\n",
    "X_train_2=polynomialFeatures(X_train_poly,3)\n",
    "#Data Standardization\n",
    "r,c=np.shape(X_train_2)\n",
    "for col in range(0,c):\n",
    "    m=np.mean(X_train_2[:,col])\n",
    "    s=np.std(X_train_2[:,col])\n",
    "    if s>0:\n",
    "        X_train_2[:,col]=(X_train_2[:,col]-m)/s\n",
    "results = {}\n",
    "\n",
    "for lam in lambd:\n",
    "    for epo in epoch:\n",
    "        for eta in learning_rate:\n",
    "            for reg in regularizer:\n",
    "                label ='Lambda'+'_'+str(lam) + '_'+'Learning Rate'+'_'+ str(eta) +'_'+'Regularizer'+'_'+str(reg)+'_'+'Epochs'+'_'+ str(epo)\n",
    "                model=Linear_Regression(learning_rate = eta, epochs = epo, regularizer = reg, lambd = lam)\n",
    "                results[label] = sFold(model,X_train_2,y_train,scoring='MSE',cv=cv)\n",
    "            \n",
    "print(results)"
   ]
  },
  {
   "cell_type": "code",
   "execution_count": null,
   "metadata": {},
   "outputs": [],
   "source": [
    "min_MSE =100000000\n",
    "min_config = ''\n",
    "for key,pair in results.items():\n",
    "    print(key + \": MSE Error \" + str(pair[0]))\n",
    "    if pair[0] <min_MSE:\n",
    "        min_MSE=pair[0]\n",
    "        min_config=key\n",
    "print(min_MSE)\n",
    "print(min_config)"
   ]
  },
  {
   "cell_type": "markdown",
   "metadata": {},
   "source": [
    "### 11. Using the plot_polynomial_model_complexity function plot the rmse values for the training and validation folds for polynomial degree 1, 2, 3, 4 and 5. Use the training data as input for this function. You need to choose the hyperparameter values judiciously to work on the higher-degree polynomial models."
   ]
  },
  {
   "cell_type": "code",
   "execution_count": null,
   "metadata": {},
   "outputs": [],
   "source": [
    "model = Linear_Regression(learning_rate = 0.01, epochs = 10000, regularizer = 'l2', lambd = 1)\n",
    "plot_polynomial_model_complexity(model,X_train_poly,y_train,5,5)"
   ]
  },
  {
   "cell_type": "markdown",
   "metadata": {},
   "source": [
    "### 12. Implement the Stochastic Gradient Descent Linear Regression algorithm. "
   ]
  },
  {
   "cell_type": "code",
   "execution_count": null,
   "metadata": {},
   "outputs": [],
   "source": [
    "'''\n",
    "Linear Regression that takes optional hyperparameters. Contains methods fit using Stochastic Gradient Descent to\n",
    "estimate the weight parameters of the model.\n",
    "Methods:\n",
    "    fit - Given X and y, using Stochastic gradient descent to find theta\n",
    "    predict - Given X, using theta to provide prediction\n",
    "'''\n",
    "class Stochastic_Gradient():\n",
    "    def __init__(self, learning_rate=0.01, epochs=100, tol=None, regularizer=None, lambd=0.0, t0=5, **kwargs):\n",
    "        self.learning_rate = learning_rate\n",
    "        self.epochs = epochs\n",
    "        self.tol = tol\n",
    "        self.regularizer = regularizer\n",
    "        self.lambd = lambd\n",
    "        self.theta = None\n",
    "        self.t0=t0 # Hyperparameter for the Learning Schedule\n",
    "        return\n",
    "    \n",
    "    def fit(self, X, y):\n",
    "        # Add x_0 = 1 for all for intercept and concat data\n",
    "        x_0 = np.ones((X.shape[0],1))\n",
    "        X = np.concatenate((x_0,X), axis=1)\n",
    "        \n",
    "        #Length of the Data\n",
    "        n=len(X)\n",
    "    \n",
    "        # Init prev_cost with 0\n",
    "        init_loss = 0\n",
    "        \n",
    "        # Initialize all weights to 0\n",
    "        self.theta = np.zeros((X.shape[1],))\n",
    "        \n",
    "        # Learning Schedule\n",
    "        def learning_schedule(t):\n",
    "            t1=self.t0/self.learning_rate # Hyperparameter for the Learning Schedule\n",
    "            eta=self.t0/(t+t1)\n",
    "            return eta\n",
    "        \n",
    "        # Run for every epoch\n",
    "        for epoch in range(self.epochs):\n",
    "    \n",
    "        # Run for every data row\n",
    "            for i in range(n):\n",
    "                \n",
    "                # Update Learning Rate\n",
    "                self.learning_rate=learning_schedule(epoch*m+i)\n",
    "                \n",
    "                #Initialize Random Index\n",
    "                random_index = np.random.randint(n)\n",
    "                yi= y[random_index:random_index+1]\n",
    "                xi=X[random_index:random_index+1]\n",
    "    \n",
    "                # Loss Calculation\n",
    "                \n",
    "                new_loss=0.5*MSE_error(xi.dot(self.theta),yi)\n",
    "               \n",
    "                if self.regularizer == \"l2\":\n",
    "                    regularized_term = 0.5*self.lambd*np.dot(self.theta[1:],self.theta[1:]) # Exclude the bias term\n",
    "                    new_loss = new_loss + regularized_term\n",
    "                 \n",
    "                elif self.regularizer == 'l1':\n",
    "                    regularized_term = 0.5*self.lambd*np.sum(abs(self.theta[1:])) # Exclude the bias term\n",
    "                    new_loss=new_loss + regularized_term\n",
    "                    \n",
    "                    \n",
    "                # Break if absolute cost of previous cost and current cost is smaller than self.tol\n",
    "                if self.tol is not None:\n",
    "                    if abs(init_loss - new_loss) > self.tol:\n",
    "                        init_loss = new_loss\n",
    "                    else:\n",
    "                        break\n",
    "                        \n",
    "                # Gradient computation\n",
    "                grad = xi.T.dot(xi.dot(self.theta)-yi)\n",
    "                \n",
    "                # Gradient regularization\n",
    "                if self.regularizer == \"l2\":\n",
    "                    regularized_term = self.lambd*self.theta # Exclude the bias term\n",
    "                    regularized_term[0] = 0\n",
    "                    grad = grad + regularized_term\n",
    "                    \n",
    "                elif self.regularizer == 'l1':\n",
    "                    regularized_term = self.lambd * np.sign(self.theta)# Exclude the bias term\n",
    "                    regularized_term[0] = 0\n",
    "                    grad = grad + regularized_term\n",
    "            \n",
    "            # New theta\n",
    "            self.theta = self.theta - ((self.learning_rate)*grad)\n",
    "            \n",
    "    def predict(self, X):\n",
    "        m=len(X)\n",
    "        x_0 = np.ones((m,1))\n",
    "        X = np.concatenate((x_0,X), axis=1)\n",
    "        pred = np.dot(X,self.theta)\n",
    "        \n",
    "        return pred\n"
   ]
  },
  {
   "cell_type": "code",
   "execution_count": null,
   "metadata": {},
   "outputs": [],
   "source": [
    "#Cross_Validation\n",
    "lambd =[1.0,0,0.1,0.01,0.001,0.0001] \n",
    "epoch=[1000,10000]\n",
    "learning_rate =[0.1, 0.01, 0.001, 0.001]\n",
    "regularizer = ['l1', 'l2']\n",
    "cv=10\n",
    "\n",
    "results = {}\n",
    "\n",
    "for lam in lambd:\n",
    "    for epo in epoch:\n",
    "        for eta in learning_rate:\n",
    "            for reg in regularizer:\n",
    "                label ='Lambda'+'_'+str(lam) + '_'+'Learning Rate'+'_'+ str(eta) +'_'+'Regularizer'+'_'+str(reg)+'_'+'Epochs'+'_'+ str(epo)\n",
    "                model=Stochastic_Gradient(learning_rate = eta, epochs = epo, regularizer = reg, lambd = lam,t0=5)\n",
    "                results[label] = sFold(model,X_train,y_train,scoring='MSE',cv=cv)\n",
    "            \n",
    "print(results)"
   ]
  },
  {
   "cell_type": "code",
   "execution_count": null,
   "metadata": {},
   "outputs": [],
   "source": [
    "#Best Model\n",
    "min_MSE =100000000\n",
    "min_config = ''\n",
    "for key,pair in results.items():\n",
    "    print(key + \": MSE Error \" + str(pair[0]))\n",
    "    if pair[0] <min_MSE:\n",
    "        min_MSE=pair[0]\n",
    "        min_config=key\n",
    "print(min_MSE)\n",
    "print(min_config)"
   ]
  },
  {
   "cell_type": "code",
   "execution_count": null,
   "metadata": {},
   "outputs": [],
   "source": [
    "\n",
    "model = Stochastic_Gradient(learning_rate = 0.01, epochs = 1000, regularizer = 'l2', lambd = 0.01,t0=5)\n",
    "model.fit(X_train, y_train)\n",
    "pred=model.predict(X_test)\n",
    "\n",
    "#MSE\n",
    "mse=MSE_error(y_test,pred)\n",
    "print(\"\\nMSE: %0.3f\" %mse)"
   ]
  },
  {
   "cell_type": "markdown",
   "metadata": {},
   "source": [
    "### Part D\n",
    "Generating learning curves for the report"
   ]
  },
  {
   "cell_type": "code",
   "execution_count": 86,
   "metadata": {},
   "outputs": [],
   "source": [
    "df = pd.read_csv('./Data/winequality-red.csv', sep=';')\n",
    "X = np.array(df.drop(columns=['quality'],axis=1))\n",
    "y = np.array(df['quality'])\n",
    "X_train, X_test, y_train, y_test = partition(X, y, 0.8)\n",
    "# Data Standardization\n",
    "r,c=np.shape(X_train)\n",
    "for col in range(0,c):\n",
    "    m=np.mean(X_train[:,col])\n",
    "    s=np.std(X_train[:,col])\n",
    "    X_train[:,col]=(X_train[:,col]-m)/s\n",
    "    # standardize test Data on the mean and sd of Train Data  \n",
    "    X_test[:,col]=(X_test[:,col]-m)/s"
   ]
  },
  {
   "cell_type": "code",
   "execution_count": 87,
   "metadata": {},
   "outputs": [],
   "source": [
    "m1 = Linear_Regression(learning_curve = (X_test,y_test))"
   ]
  },
  {
   "cell_type": "code",
   "execution_count": 88,
   "metadata": {},
   "outputs": [],
   "source": [
    "m1.fit(X_train,y_train)"
   ]
  },
  {
   "cell_type": "code",
   "execution_count": 89,
   "metadata": {},
   "outputs": [
    {
     "data": {
      "image/png": "[encoded data removed]",
      "text/plain": [
       "<Figure size 960x720 with 1 Axes>"
      ]
     },
     "metadata": {
      "needs_background": "light"
     },
     "output_type": "display_data"
    }
   ],
   "source": [
    "plt.figure(figsize=(12, 9), dpi=80)\n",
    "plt.plot(m1.mse[-20:], label = \"Training MSE\")\n",
    "plt.plot(m1.mse_test[-20:], label = \"Testing MSE\")\n",
    "plt.xlabel(\"Epochs\")\n",
    "plt.ylabel(\"Mean Squared Error\")\n",
    "plt.title(\"Degree 1 Polynomial\")\n",
    "plt.legend()\n",
    "plt.show()"
   ]
  },
  {
   "cell_type": "code",
   "execution_count": 70,
   "metadata": {},
   "outputs": [],
   "source": [
    "df = pd.read_csv('./Data/winequality-red.csv', sep=';')\n",
    "X = np.array(df.drop(columns=['quality'],axis=1))\n",
    "y = np.array(df['quality'])\n",
    "X_train, X_test, y_train, y_test = partition(X, y, 0.8)\n",
    "\n",
    "# Change to degree 3 polynomial features\n",
    "X_train = polynomialFeatures(X_train,3)\n",
    "X_test = polynomialFeatures(X_test,3)\n",
    "\n",
    "# Data Standardization\n",
    "r,c=np.shape(X_train)\n",
    "for col in range(0,c):\n",
    "    m=np.mean(X_train[:,col])\n",
    "    s=np.std(X_train[:,col])\n",
    "    X_train[:,col]=(X_train[:,col]-m)/s\n",
    "    # standardize test Data on the mean and sd of Train Data  \n",
    "    X_test[:,col]=(X_test[:,col]-m)/s"
   ]
  },
  {
   "cell_type": "code",
   "execution_count": 71,
   "metadata": {},
   "outputs": [],
   "source": [
    "m1 = Linear_Regression(learning_curve = (X_test,y_test))\n",
    "m1.fit(X_train,y_train)"
   ]
  },
  {
   "cell_type": "code",
   "execution_count": 84,
   "metadata": {},
   "outputs": [
    {
     "data": {
      "image/png": "[encoded data removed]",
      "text/plain": [
       "<Figure size 960x720 with 1 Axes>"
      ]
     },
     "metadata": {
      "needs_background": "light"
     },
     "output_type": "display_data"
    }
   ],
   "source": [
    "plt.figure(figsize=(12, 9), dpi=80)\n",
    "plt.plot(m1.mse[-20:], label = \"Training MSE\")\n",
    "plt.plot(m1.mse_test[-20:], label = \"Testing MSE\")\n",
    "plt.xlabel(\"Epochs\")\n",
    "plt.ylabel(\"Mean Squared Error\")\n",
    "plt.title(\"Degree 3 Polynomial\")\n",
    "plt.legend()\n",
    "plt.show()"
   ]
  }
 ],
 "metadata": {
  "kernelspec": {
   "display_name": "Python 3",
   "language": "python",
   "name": "python3"
  },
  "language_info": {
   "codemirror_mode": {
    "name": "ipython",
    "version": 3
   },
   "file_extension": ".py",
   "mimetype": "text/x-python",
   "name": "python",
   "nbconvert_exporter": "python",
   "pygments_lexer": "ipython3",
   "version": "3.8.5"
  }
 },
 "nbformat": 4,
 "nbformat_minor": 4
}
