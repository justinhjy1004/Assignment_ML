{
 "cells": [
  {
   "cell_type": "markdown",
   "metadata": {},
   "source": [
    "# Multi-Layer Perceptron\n",
    "In this Jupyter Notebook, we code a Multi-Layer Perceptron (MLP) for classification and regression tasks using Stochastic Gradient Descent for training the model. The MLP would be able to perform multiclass as well as binary classification. <br>\n",
    "\n",
    "The model would also allow customization of activation function used, as well as training schedule for optimization purposes. The MLP is designed with a single hidden layer architecture. <br>\n",
    "\n",
    "This notebook is dvided into three sections\n",
    "1. Section 1 - Helper functions and multiclass classification\n",
    "1. Section 2 - Binary classification\n",
    "1. Section 3 - Regression"
   ]
  },
  {
   "cell_type": "code",
   "execution_count": 2,
   "metadata": {},
   "outputs": [],
   "source": [
    "import numpy as np\n",
    "import pandas as pd\n",
    "import matplotlib.pyplot as plt\n",
    "import random\n",
    "import itertools\n",
    "import math\n",
    "import sys\n",
    "import json\n",
    "from math import exp\n",
    "from sklearn import datasets\n",
    "from sklearn.utils import shuffle\n",
    "from sklearn.model_selection import train_test_split\n",
    "from sklearn.preprocessing import StandardScaler\n",
    "from sklearn.metrics import confusion_matrix, precision_score, recall_score, f1_score, classification_report\n",
    "from sklearn.metrics import accuracy_score\n",
    "from sklearn.metrics import multilabel_confusion_matrix\n",
    "from sklearn.metrics import precision_recall_fscore_support"
   ]
  },
  {
   "cell_type": "markdown",
   "metadata": {},
   "source": [
    "## Section 1"
   ]
  },
  {
   "cell_type": "markdown",
   "metadata": {},
   "source": [
    "### 1. Implement the following function that creates a weight matrix and initializes it with small random real numbers."
   ]
  },
  {
   "cell_type": "code",
   "execution_count": 3,
   "metadata": {},
   "outputs": [],
   "source": [
    "def initializeWeights(input_neurons,output_neurons):\n",
    "    W = np.random.randn(input_neurons,output_neurons) * 0.01\n",
    "    return W"
   ]
  },
  {
   "cell_type": "markdown",
   "metadata": {},
   "source": [
    "### 2. Implement the logistic sigmoid activation function."
   ]
  },
  {
   "cell_type": "code",
   "execution_count": 4,
   "metadata": {},
   "outputs": [],
   "source": [
    "def logistic(z):\n",
    "    return 1/(1+np.exp(-z))"
   ]
  },
  {
   "cell_type": "markdown",
   "metadata": {},
   "source": [
    "### 3. Implement the ReLU (rectified linear unit) activation function."
   ]
  },
  {
   "cell_type": "code",
   "execution_count": 5,
   "metadata": {},
   "outputs": [],
   "source": [
    "def relu(z):\n",
    "    return np.maximum(0,z) "
   ]
  },
  {
   "cell_type": "markdown",
   "metadata": {},
   "source": [
    "### 4. Implement the tanh (hyperbolic tangent) activation function."
   ]
  },
  {
   "cell_type": "code",
   "execution_count": 6,
   "metadata": {},
   "outputs": [],
   "source": [
    "def tanh(z):\n",
    "    return np.tanh(z)"
   ]
  },
  {
   "cell_type": "markdown",
   "metadata": {},
   "source": [
    "### 5. Implement a MLP Classifier model class for performing multi-class classification.\n",
    "\n",
    "### The MLP Classifier has a single hidden layer. It should have the following four methods.The model uses the back-propagation algorithm for learning the weights of the features/neurons. Note the that “fit” method should implement the Stochastic Gradient Descent algorithm for optimizing the weight update process."
   ]
  },
  {
   "cell_type": "code",
   "execution_count": 7,
   "metadata": {},
   "outputs": [],
   "source": [
    "'''\n",
    "Helper functions for the derivative of activation functions\n",
    "'''\n",
    "def d_logistic(z):\n",
    "    dz = logistic(z) * (1 - logistic(z))\n",
    "    return dz\n",
    "\n",
    "def d_tanh(z):\n",
    "    dz = (1-np.power(np.tanh(z),2))\n",
    "    return dz\n",
    "\n",
    "def d_relu(z):\n",
    "    dz = np.where(z==0,0,1)\n",
    "    return dz\n",
    "    "
   ]
  },
  {
   "cell_type": "code",
   "execution_count": 8,
   "metadata": {},
   "outputs": [],
   "source": [
    "'''\n",
    "Helper function for one_hot_labels\n",
    "Input:\n",
    "    Y - target vector\n",
    "Output:\n",
    "    one_hot_matrix\n",
    "'''\n",
    "def one_hot_labels(Y):\n",
    "    \n",
    "    # Get unique labels in Y and number of observations\n",
    "    unique_labels = np.unique(Y)\n",
    "    n = len(Y)\n",
    "    \n",
    "    # Create one hot matrix\n",
    "    labels = np.array(list(unique_labels)).reshape(len(unique_labels),1)\n",
    "    one_hot_matrix = np.apply_along_axis(lambda x: np.full((n,),x),1,labels)\n",
    "    one_hot_matrix = np.apply_along_axis(lambda x: (x==Y).astype(int),1,one_hot_matrix).T\n",
    "    \n",
    "    return one_hot_matrix"
   ]
  },
  {
   "cell_type": "code",
   "execution_count": 9,
   "metadata": {},
   "outputs": [],
   "source": [
    "'''\n",
    "Helper function for softmax calculation\n",
    "Given matrix A (output from hidden layer), outputs probabilties   \n",
    "'''\n",
    "def softmax(A):\n",
    "    A = np.apply_along_axis(np.exp,0,A)\n",
    "    A = np.apply_along_axis(lambda x: x/(sum(x)),1,A)\n",
    "    return A"
   ]
  },
  {
   "cell_type": "markdown",
   "metadata": {},
   "source": [
    "### COMPLETE IMPLEMENTATION OF CLASSIFIER IS AT QUESTION 11"
   ]
  },
  {
   "cell_type": "markdown",
   "metadata": {},
   "source": [
    "### 6. Read the handwritten digits datasetusing the sklearn.datasets.load_digits function for performing multi-class classification."
   ]
  },
  {
   "cell_type": "code",
   "execution_count": 10,
   "metadata": {},
   "outputs": [],
   "source": [
    "digits = datasets.load_digits()\n",
    "X = digits.data\n",
    "y = digits.target\n",
    "X,y = shuffle(X,y)"
   ]
  },
  {
   "cell_type": "markdown",
   "metadata": {},
   "source": [
    "### 7. Partition the data into train and test set. Use the “Partition” function from your previous assignment or from sklearn."
   ]
  },
  {
   "cell_type": "code",
   "execution_count": 11,
   "metadata": {},
   "outputs": [],
   "source": [
    "X_train,X_test,y_train,y_test = train_test_split(X,y,test_size=0.2)"
   ]
  },
  {
   "cell_type": "markdown",
   "metadata": {},
   "source": [
    "### 8. Standardize the features."
   ]
  },
  {
   "cell_type": "code",
   "execution_count": 12,
   "metadata": {},
   "outputs": [],
   "source": [
    "scaler = StandardScaler()\n",
    "scaler.fit(X_train)\n",
    "X_train = scaler.transform(X_train)\n",
    "X_test = scaler.transform(X_test)"
   ]
  },
  {
   "cell_type": "markdown",
   "metadata": {},
   "source": [
    "### 9. Hyperparameter tuning based on certain fixed-values hyperparameters."
   ]
  },
  {
   "cell_type": "code",
   "execution_count": 13,
   "metadata": {},
   "outputs": [],
   "source": [
    "# Fixed values of tuning\n",
    "regularizer = 'l2'\n",
    "verbose = True\n",
    "early_stopping = True\n",
    "validation_fraction = 0.1"
   ]
  },
  {
   "cell_type": "code",
   "execution_count": 14,
   "metadata": {},
   "outputs": [],
   "source": [
    "# Variables to Change\n",
    "hidden_layer_neurons = [2,3,5,8,13,21]\n",
    "activations = ['logistic', 'relu', 'tanh']\n",
    "alphas = [0.01, 0.001, 0.0001]\n",
    "learning_rates = [0.01,0.001,0.0001]\n",
    "learning_rate_inits = [0.01,0.001,0.0001]\n",
    "max_iters = [50,100,150,200]\n",
    "tols = [0.001, 0.00001,0.000001,0.0000001]\n",
    "n_iter_no_changes = [10,15,20,25]"
   ]
  },
  {
   "cell_type": "code",
   "execution_count": 43,
   "metadata": {},
   "outputs": [],
   "source": [
    "def sFold(estimator,X,y,scoring,cv):\n",
    "    size = len(X)\n",
    "    size_fold = int(size/cv)\n",
    "    range_index = [j for j in range(0,len(X))]\n",
    "    score=[]\n",
    "    \n",
    "    #Partitioning of the data\n",
    "    for i in range(cv):\n",
    "        init=0+i*size_fold\n",
    "        fin=(i+1)*size_fold\n",
    "        partition_range_index = [j for j in range(init,fin)]\n",
    "        \n",
    "        #Feature and label data of the Fold\n",
    "        X_partition = X[partition_range_index]\n",
    "        y_partition = y[partition_range_index]\n",
    "        \n",
    "        #Feature and label data of  1-Fold        \n",
    "        remainder_index = list(set(range_index).difference(set(partition_range_index)))\n",
    "        X_remainder=X[remainder_index]\n",
    "        y_remainder=y[remainder_index]\n",
    "        \n",
    "        #Fit the model to the 1-Fold data\n",
    "        estimator.fit(X_remainder, y_remainder) \n",
    "        \n",
    "        #Test the model on the fold data\n",
    "        pred=estimator.predict(X_partition)\n",
    "      \n",
    "        if scoring=='accuracy':\n",
    "            acc=accuracy_score(y_partition,pred)\n",
    "            score.append(acc) \n",
    "            \n",
    "    avg_score = np.mean(score)    \n",
    "    return avg_score,score"
   ]
  },
  {
   "cell_type": "code",
   "execution_count": null,
   "metadata": {},
   "outputs": [],
   "source": [
    "results = {}\n",
    "for hidden_layer_neuron in [2,3]:\n",
    "    for activation in activations:\n",
    "        label = 'hidden_layer_neuron_' + str(hidden_layer_neuron) + '_activation_' + str(activation)\n",
    "        model = MLPClassifier(hidden_layer_neurons=hidden_layer_neuron, activation= activation, regularizer=regularizer, \n",
    "                         alpha=0.0001, learning_rate='constant', learning_rate_scheduler='timeBasedDecay',\n",
    "                         learning_rate_init=0.001, tol = 0.0001, early_stopping=True, n_iter_no_change=10, \n",
    "                         momentum=True, beta=0.9, lambda_plateau=0.5, Decay = 0.001)\n",
    "        results[label] = sFold(model,X_train,y_train,scoring='accuracy',cv=5)"
   ]
  },
  {
   "cell_type": "markdown",
   "metadata": {},
   "source": [
    "### 10. Report on performance of model."
   ]
  },
  {
   "cell_type": "code",
   "execution_count": null,
   "metadata": {},
   "outputs": [],
   "source": [
    "\n",
    "sys.stdout = open('MultiClass_Performance', 'w')\n",
    "print('test')\n",
    "sys.stdout.close()"
   ]
  },
  {
   "cell_type": "code",
   "execution_count": null,
   "metadata": {},
   "outputs": [],
   "source": []
  },
  {
   "cell_type": "markdown",
   "metadata": {},
   "source": [
    "## Section 2"
   ]
  },
  {
   "cell_type": "markdown",
   "metadata": {},
   "source": [
    "### 11. Implement binary classification module in theMLPClassifier. Then, performbinary classification on the handwritten digits dataset to recognize the digits “5” and “not-5”."
   ]
  },
  {
   "cell_type": "code",
   "execution_count": 17,
   "metadata": {},
   "outputs": [],
   "source": [
    "def binary_cross_entropy(Y,Y_proba):\n",
    "    loss=-(np.dot(Y,np.log(Y_proba))+np.dot((1-Y),np.log((1-Y_proba))))/Y.shape[0]\n",
    "    return loss\n",
    "\n",
    "def binary_cross_entropy_l2(Y,Y_proba,Theta_1,Theta_2,lambd):\n",
    "    loss=-(np.dot(Y,np.log(Y_proba))+np.dot((1-Y),np.log((1-Y_proba))))/Y.shape[0]+ 0.5*lambd*np.sum(np.square(Theta_1[1:]))+ 0.5*lambd*np.sum(np.square(Theta_2[1:]))\n",
    "    return loss\n",
    "\n",
    "def cross_entropy(Y_one_hot, Y_proba):\n",
    "    loss = -np.sum(np.multiply(Y_one_hot,np.log(Y_proba)))/Y_one_hot.shape[0]\n",
    "    return loss\n",
    "\n",
    "def cross_entropy_l2(Y_one_hot, Y_proba, Theta_1, Theta_2, lambd):\n",
    "    loss = cross_entropy(Y_one_hot, Y_proba) + 0.5*lambd*np.sum(np.square(Theta_1[1:]))+ 0.5*lambd*np.sum(np.square(Theta_2[1:]))\n",
    "    return loss"
   ]
  },
  {
   "cell_type": "code",
   "execution_count": 18,
   "metadata": {},
   "outputs": [],
   "source": [
    "def timeBasedDecay(initial_eta,decay,iteration):\n",
    "    eta = initial_eta * (1 / (1 + decay * iteration))\n",
    "    return eta\n",
    "def exponentialDecay(initial_eta,decay,iteration):\n",
    "    eta = initial_eta * np.exp(-decay*iteration)\n",
    "    return eta\n"
   ]
  },
  {
   "cell_type": "code",
   "execution_count": 19,
   "metadata": {},
   "outputs": [],
   "source": [
    " # Forward Propogation\n",
    "def Forward_prop(Xi,W_1,W_2,activation='logistic',classifier='binary'):\n",
    "    \n",
    "    x_0 = np.ones((Xi.shape[0],1))\n",
    "    a1 = np.concatenate((x_0,Xi), axis=1)\n",
    "    z2 =np.dot(a1,W_1) \n",
    "    if activation =='logistic':\n",
    "        a2 = logistic(z2)\n",
    "                    \n",
    "    elif activation =='relu':\n",
    "        a2 = relu(z2)\n",
    "                    \n",
    "    elif activation == 'tanh':\n",
    "        a2 = tanh(z2)\n",
    "    \n",
    "    x_0 = np.ones((a2.shape[0],1))\n",
    "    a2 = np.concatenate((x_0,a2), axis=1)              \n",
    "    \n",
    "    z3 =np.dot(a2,W_2)\n",
    "                \n",
    "    if classifier =='binary':\n",
    "        a3 = logistic(z3)\n",
    "               \n",
    "    elif classifier =='multi':\n",
    "        a3 = softmax(z3)\n",
    "        \n",
    "    return a1,z2,a2,z3,a3    \n",
    "                    "
   ]
  },
  {
   "cell_type": "code",
   "execution_count": 20,
   "metadata": {},
   "outputs": [],
   "source": [
    "# Backward Propogation\n",
    "def Backward_prop(Xi,Yi,W_2,z2,z3,a3,activation='logistic',classifier='binary'):\n",
    "  \n",
    "    if classifier =='binary':\n",
    "        d_activ_z3 = d_logistic(z3)\n",
    "        \n",
    "        if Yi==1:\n",
    "            delta_3 = -(1/a3) * d_activ_z3\n",
    "            \n",
    "        elif Yi==0:\n",
    "            delta_3 = (1/(1-a3)) * d_activ_z3\n",
    "                        \n",
    "    elif classifier =='multi':\n",
    "        delta_3 = (a3 - Yi)\n",
    "                          \n",
    "    if activation =='logistic':\n",
    "        d_activ_z2 = d_logistic(z2)\n",
    "                    \n",
    "    elif activation =='relu':\n",
    "        d_activ_z2 = d_relu(z2)\n",
    "                    \n",
    "    elif activation == 'tanh':\n",
    "        d_activ_z2 = d_tanh(z2)\n",
    "                    \n",
    "    delta_2 = np.dot(delta_3,(W_2[1:]).T)*d_activ_z2\n",
    "    return delta_2,delta_3            "
   ]
  },
  {
   "cell_type": "code",
   "execution_count": 21,
   "metadata": {},
   "outputs": [],
   "source": [
    " # Forward Propogation\n",
    "def predict_proba(Xi,W_1,W_2,activation='logistic',classifier='binary'):\n",
    "    \n",
    "    x_0 = np.ones((Xi.shape[0],1))\n",
    "    a1 = np.concatenate((x_0,Xi), axis=1)\n",
    "    z2 =np.dot(a1,W_1) \n",
    "    if activation =='logistic':\n",
    "        a2 = logistic(z2)\n",
    "                    \n",
    "    elif activation =='relu':\n",
    "        a2 = relu(z2)\n",
    "                    \n",
    "    elif activation == 'tanh':\n",
    "        a2 = tanh(z2)\n",
    "    \n",
    "    x_0 = np.ones((a2.shape[0],1))\n",
    "    a2 = np.concatenate((x_0,a2), axis=1)              \n",
    "    \n",
    "    z3 =np.dot(a2,W_2)\n",
    "                \n",
    "    if classifier =='binary':\n",
    "        a3 = logistic(z3)\n",
    "               \n",
    "    elif classifier =='multi':\n",
    "        a3 = softmax(z3)\n",
    "        \n",
    "    return a3    \n",
    "                    "
   ]
  },
  {
   "cell_type": "code",
   "execution_count": 22,
   "metadata": {},
   "outputs": [],
   "source": [
    "# Write a function for predicting the labels based on the predictd probabilities\n",
    "def predict_labels(y_pred_proba,classifier='binary'):\n",
    "    \n",
    "    if classifier=='binary':\n",
    "        y_predicted = np.array(list(map(lambda x: 1 if x>0.5 else 0, y_pred_proba)))\n",
    "        \n",
    "    elif classifier=='multi':\n",
    "        y_predicted = np.argmax(y_pred_proba, axis=1)\n",
    "        \n",
    "    return y_predicted"
   ]
  },
  {
   "cell_type": "code",
   "execution_count": 23,
   "metadata": {},
   "outputs": [],
   "source": [
    "\"\"\"\n",
    "Calculates the accuracy between the true and predicted labels\n",
    "Input: \n",
    "    true: array_like type vector of true labels\n",
    "    pred: array_like type vector of predicted labels\n",
    "Output:\n",
    "    accuracy: accuracy expressed in decimal\n",
    "\"\"\"\n",
    "def accuracy_calc(true, pred):\n",
    "    accuracy= np.mean(true == pred)\n",
    "    return accuracy"
   ]
  },
  {
   "cell_type": "code",
   "execution_count": 24,
   "metadata": {},
   "outputs": [],
   "source": [
    "class MLPClassifier():\n",
    "    def __init__(self, hidden_layer_neurons=2, activation= 'logistic', regularizer=None, \n",
    "                 alpha=0.0001, learning_rate='constant', learning_rate_scheduler='timeBasedDecay',learning_rate_init=0.001, \n",
    "                 tol = 0.0001, early_stopping=False, n_iter_no_change=10, momentum=False, beta=0.9, lambda_plateau=0.5, **kwargs):\n",
    "        self.hidden_layer_neurons = hidden_layer_neurons\n",
    "        self.activation = activation\n",
    "        self.regularizer = regularizer\n",
    "        self.tol = tol\n",
    "        self.alpha = alpha\n",
    "        self.beta = beta\n",
    "        self.W_1 = None\n",
    "        self.W_2= None\n",
    "        self.learning_rate_init = learning_rate_init\n",
    "        self.learning_rate = learning_rate\n",
    "        self.lambda_plateau = lambda_plateau #lambda is value between 0 and 1 to reduce eta during plateau\n",
    "        self.learning_rate_scheduler = learning_rate_scheduler\n",
    "        self.loss_train = []\n",
    "        self.loss_validation = []\n",
    "        self.accuracy_train = []\n",
    "        self.accuracy_validation = []\n",
    "        self.early_stopping = early_stopping\n",
    "        self.n_iter_no_change = n_iter_no_change\n",
    "        self.momentum = momentum\n",
    "        self.classifier = []\n",
    "        \n",
    "        if \"Decay\" in kwargs:\n",
    "            self.decay = kwargs[\"Decay\"]\n",
    "        return\n",
    "    \n",
    "    def fit(self, X, Y, validation_fraction=0.1, max_iter=1000, verbose=False,**kwargs):\n",
    "        \n",
    "        unique_labels = np.unique(Y)\n",
    "        if len(unique_labels)>2:\n",
    "            classifier = 'multi'\n",
    "            self.classifier = classifier\n",
    "            Y = one_hot_labels(Y)\n",
    "            output_layer_neurons = len(unique_labels)\n",
    "        else:\n",
    "            classifier = 'binary'\n",
    "            self.classifier = classifier\n",
    "            output_layer_neurons = 1\n",
    "\n",
    "        #Extract number of input layer neurons (excluding bias)    \n",
    "        input_layer_neurons = X.shape[1]\n",
    "        \n",
    "        valid_samples = math.floor(X.shape[0]*validation_fraction)\n",
    "        validation_X = X[:valid_samples]\n",
    "        X = X[valid_samples:]\n",
    "        validation_Y = Y[:valid_samples]\n",
    "        Y = Y[valid_samples:]\n",
    "        \n",
    "        # Set number of training data\n",
    "        n = X.shape[0]        \n",
    "        \n",
    "        #Weights Initialization\n",
    "        self.W_1 = initializeWeights(input_layer_neurons+1, self.hidden_layer_neurons) \n",
    "        self.W_2 = initializeWeights(self.hidden_layer_neurons+1, output_layer_neurons)\n",
    "        \n",
    "        iteration=0\n",
    "        \n",
    "        for epoch in range(max_iter):\n",
    "            loss = []\n",
    "            accu = []\n",
    "            for i in range(n):\n",
    "                iteration = iteration +1\n",
    "                random_index = np.random.randint(n)\n",
    "                Yi=Y[random_index:random_index+1]\n",
    "                Xi=X[random_index:random_index+1]\n",
    "              \n",
    "                if self.learning_rate == 'constant':\n",
    "                    eta = self.learning_rate_init\n",
    "                    \n",
    "                if self.learning_rate == 'adaptive':\n",
    "                    if self.learning_rate_scheduler == 'timeBasedDecay':\n",
    "                        eta=timeBasedDecay(self.learning_rate_init,self.decay,iteration)\n",
    "                    elif self.learning_rate_scheduler == 'exponentialDecay':\n",
    "                        eta=exponentialDecay(self.learning_rate_init,self.decay,iteration)\n",
    "                    elif self.learning_rate_scheduler == 'reduceLearningRateOnPlateau':\n",
    "                        if epoch > self.n_iter_no_change:\n",
    "                            count = 0\n",
    "                            temp = self.accuracy_validation[-self.n_iter_no_change:]\n",
    "                            for j in range(len(temp)-1):\n",
    "                                if (temp[j+1]-temp[j]) < self.tol:\n",
    "                                    count= count+1\n",
    "                            if count == self.n_iter_no_change-1:        \n",
    "                                eta = self.learning_rate_init*self.lambda_plateau\n",
    "                                    \n",
    "        \n",
    "                a1,z2,a2,z3,a3 = Forward_prop(Xi,self.W_1,self.W_2,activation=self.activation,classifier=classifier)\n",
    "                \n",
    "                delta_2,delta_3 = Backward_prop(Xi,Yi,self.W_2,z2,z3,a3,activation=self.activation,classifier=classifier)\n",
    "               \n",
    "                if classifier =='binary':\n",
    "                    y_pred=predict_labels(a3,classifier=classifier)\n",
    "                    acc=accuracy_calc(Yi,y_pred)\n",
    "                # Compute the loss using Cross Entropy\n",
    "                    if self.regularizer=='l2':\n",
    "                        L = binary_cross_entropy_l2(Yi,a3,self.W_1,self.W_2,self.alpha) \n",
    "                    else:\n",
    "                        L = binary_cross_entropy(Yi,a3) \n",
    "                        \n",
    "                elif classifier =='multi':\n",
    "                    y_pred=predict_labels(a3,classifier=classifier)\n",
    "                    y_true=np.argmax(Yi, axis=1)\n",
    "                    acc=accuracy_calc(y_true,y_pred)\n",
    "                    if self.regularizer=='l2':\n",
    "                        L = cross_entropy_l2(Yi,a3,self.W_1,self.W_2,self.alpha) \n",
    "                    else:\n",
    "                        L = cross_entropy(Yi,a3) \n",
    "                # Store the training loss in a list\n",
    "                loss.append(L)\n",
    "                accu.append(acc)\n",
    "                \n",
    "                # Gradient Computation and Weight Updates\n",
    "                if self.regularizer == 'l2':\n",
    "                    regularized_term_1 = self.alpha*self.W_1\n",
    "                    regularized_term_1[0] = 0  # Exclude the bias term\n",
    "                    regularized_term_2 = self.alpha*self.W_2\n",
    "                    regularized_term_2[0] = 0  # Exclude the bias term\n",
    "                    grad_L_for_W_2 = np.dot(a2.T,delta_3) + regularized_term_2\n",
    "                    grad_L_for_W_1 = np.dot(a1.T,delta_2) + regularized_term_1\n",
    "                else:\n",
    "                    grad_L_for_W_2 = np.dot(a2.T,delta_3)\n",
    "                    grad_L_for_W_1 = np.dot(a1.T,delta_2)\n",
    "                \n",
    "                if self.momentum is True:\n",
    "                    if epoch == 0:\n",
    "                        m_t1_1 = np.zeros((grad_L_for_W_1.shape[0],grad_L_for_W_1.shape[1]))\n",
    "                        m_t2_1 = np.zeros((grad_L_for_W_2.shape[0],grad_L_for_W_2.shape[1]))\n",
    "                    \n",
    "                    m_1 = self.beta*m_t1_1 - eta*grad_L_for_W_1\n",
    "                    m_2 = self.beta*m_t2_1 - eta*grad_L_for_W_2\n",
    "                    \n",
    "                    self.W_2 = self.W_2 + m_2 \n",
    "                    self.W_1 = self.W_1 + m_1\n",
    "                    \n",
    "                    m_t1_1 = m_1\n",
    "                    m_t2_1 = m_2\n",
    "                \n",
    "                else:\n",
    "                    self.W_2 = self.W_2 - eta* grad_L_for_W_2 \n",
    "                    self.W_1 = self.W_1 - eta* grad_L_for_W_1\n",
    "                \n",
    "            self.loss_train.append(np.mean(loss))\n",
    "            self.accuracy_train.append(np.mean(accu)) \n",
    "            \n",
    "            \n",
    "            \n",
    "            if classifier =='binary':\n",
    "                y_pred_proba = predict_proba(validation_X,self.W_1,self.W_2,activation=self.activation,classifier=classifier)\n",
    "                y_pred = predict_labels(y_pred_proba,classifier=classifier)\n",
    "                acc = accuracy_calc(validation_Y,y_pred)\n",
    "                if self.regularizer=='l2':\n",
    "                    L = binary_cross_entropy_l2(validation_Y,y_pred_proba,self.W_1,self.W_2,self.alpha) \n",
    "                else:\n",
    "                    L = binary_cross_entropy(validation_Y,y_pred_proba) \n",
    "                            \n",
    "            elif classifier =='multi':\n",
    "                y_pred_proba = predict_proba(validation_X,self.W_1,self.W_2,activation=self.activation,classifier=classifier)\n",
    "                y_pred = predict_labels(y_pred_proba,classifier=classifier)\n",
    "                y_true=np.argmax(validation_Y, axis=1)\n",
    "                acc = accuracy_calc(y_true,y_pred)\n",
    "                if self.regularizer=='l2':\n",
    "                    L = cross_entropy_l2(validation_Y,y_pred_proba,self.W_1,self.W_2,self.alpha) \n",
    "                else:\n",
    "                    L = cross_entropy(validation_Y,y_pred_proba) \n",
    "            \n",
    "            self.loss_validation.append(L)\n",
    "            self.accuracy_validation.append(acc) \n",
    "            if verbose is True:\n",
    "                print(\"\\nEpoch %d of %d: Train Loss = %f | Val Loss = %f | Train Acc = %f | Val Acc = %f | Eta = %f\" %(epoch,max_iter,self.loss_train[epoch],self.loss_validation[epoch],self.accuracy_train[epoch],self.accuracy_validation[epoch],eta))\n",
    "\n",
    "            if self.early_stopping is True:\n",
    "                if epoch > self.n_iter_no_change:\n",
    "                    temp = self.accuracy_validation[-self.n_iter_no_change:]\n",
    "                    count=0\n",
    "                    for j in range(len(temp)-1):\n",
    "                        if (temp[j+1]-temp[j]) < self.tol:\n",
    "                            count= count+1\n",
    "                    if count==self.n_iter_no_change-1:\n",
    "                        print(\"\\nEarly Stopping because the validation accuracy change between two consecutive epochs is less than %f over the last %d iterations\" %(self.tol,self.n_iter_no_change))\n",
    "                        break\n",
    "        \n",
    "            \n",
    "    \n",
    "    def  predict(self, X):\n",
    "        y_pred_proba = predict_proba(X,self.W_1,self.W_2,activation=self.activation,classifier=self.classifier)\n",
    "        y_pred = predict_labels(y_pred_proba,classifier=self.classifier)\n",
    "        return y_pred\n",
    "    \n",
    "    def plotLearningCurve(self):\n",
    "        # Plotting Learning Curve            \n",
    "        epochs_xaxis=np.linspace(1.0,len(self.loss_train),num=len(self.loss_train))\n",
    "        plt.figure(figsize=(12, 9), dpi=80)\n",
    "        plt.subplot(1, 2, 1)\n",
    "        plt.plot(epochs_xaxis,self.loss_train,\"r--\", alpha=1.0, linewidth=3.0, label = \"Training\")\n",
    "        plt.plot(epochs_xaxis,self.loss_validation,\"b-\", alpha=1.0, linewidth=3.0, label = \"Validation\")\n",
    "        plt.xlabel(\"Epochs\")\n",
    "        plt.ylabel(\"Average Loss\")\n",
    "        plt.title(\"Loss VS Epochs\")\n",
    "        plt.legend()\n",
    "        \n",
    "        epochs_xaxis=np.linspace(1.0,len(self.loss_train),num=len(self.loss_train))\n",
    "        plt.figure(figsize=(12, 9), dpi=80)\n",
    "        plt.subplot(1, 2, 2)\n",
    "        plt.plot(epochs_xaxis,self.accuracy_train,\"r--\", alpha=1.0, linewidth=3.0, label = \"Training\")\n",
    "        plt.plot(epochs_xaxis,self.accuracy_validation,\"b-\", alpha=1.0, linewidth=3.0, label = \"Validation\")\n",
    "        plt.xlabel(\"Epochs\")\n",
    "        plt.ylabel(\"Average Accuracy\")\n",
    "        plt.title(\"Accuracy VS Epochs\")\n",
    "        plt.legend()\n",
    "        plt.show()\n",
    "        \n",
    "  \n",
    "        "
   ]
  },
  {
   "cell_type": "code",
   "execution_count": 25,
   "metadata": {},
   "outputs": [],
   "source": [
    "m=MLPClassifier(hidden_layer_neurons=25, activation= 'logistic', regularizer='l2', \n",
    "                 alpha=0.0001, learning_rate='constant', learning_rate_scheduler='timeBasedDecay',learning_rate_init=0.001, \n",
    "                 tol = 0.0001, early_stopping=True, n_iter_no_change=10, momentum=True, beta=0.9, lambda_plateau=0.5, Decay = 0.001)"
   ]
  },
  {
   "cell_type": "code",
   "execution_count": 26,
   "metadata": {
    "scrolled": true
   },
   "outputs": [
    {
     "name": "stdout",
     "output_type": "stream",
     "text": [
      "\n",
      "Epoch 0 of 1000: Train Loss = 2.301582 | Val Loss = 2.300751 | Train Acc = 0.100464 | Val Acc = 0.118881 | Eta = 0.001000\n",
      "\n",
      "Epoch 1 of 1000: Train Loss = 2.297468 | Val Loss = 2.239748 | Train Acc = 0.120556 | Val Acc = 0.223776 | Eta = 0.001000\n",
      "\n",
      "Epoch 2 of 1000: Train Loss = 1.956042 | Val Loss = 1.646540 | Train Acc = 0.401082 | Val Acc = 0.594406 | Eta = 0.001000\n",
      "\n",
      "Epoch 3 of 1000: Train Loss = 1.313454 | Val Loss = 1.049447 | Train Acc = 0.721020 | Val Acc = 0.797203 | Eta = 0.001000\n",
      "\n",
      "Epoch 4 of 1000: Train Loss = 0.861359 | Val Loss = 0.748821 | Train Acc = 0.833849 | Val Acc = 0.846154 | Eta = 0.001000\n",
      "\n",
      "Epoch 5 of 1000: Train Loss = 0.614830 | Val Loss = 0.604136 | Train Acc = 0.887944 | Val Acc = 0.853147 | Eta = 0.001000\n",
      "\n",
      "Epoch 6 of 1000: Train Loss = 0.448249 | Val Loss = 0.477555 | Train Acc = 0.921175 | Val Acc = 0.909091 | Eta = 0.001000\n",
      "\n",
      "Epoch 7 of 1000: Train Loss = 0.353156 | Val Loss = 0.409721 | Train Acc = 0.933539 | Val Acc = 0.902098 | Eta = 0.001000\n",
      "\n",
      "Epoch 8 of 1000: Train Loss = 0.306189 | Val Loss = 0.357450 | Train Acc = 0.945131 | Val Acc = 0.916084 | Eta = 0.001000\n",
      "\n",
      "Epoch 9 of 1000: Train Loss = 0.264723 | Val Loss = 0.324300 | Train Acc = 0.955178 | Val Acc = 0.930070 | Eta = 0.001000\n",
      "\n",
      "Epoch 10 of 1000: Train Loss = 0.229119 | Val Loss = 0.289761 | Train Acc = 0.961360 | Val Acc = 0.923077 | Eta = 0.001000\n",
      "\n",
      "Epoch 11 of 1000: Train Loss = 0.200646 | Val Loss = 0.282488 | Train Acc = 0.965224 | Val Acc = 0.923077 | Eta = 0.001000\n",
      "\n",
      "Epoch 12 of 1000: Train Loss = 0.194024 | Val Loss = 0.255307 | Train Acc = 0.965997 | Val Acc = 0.937063 | Eta = 0.001000\n",
      "\n",
      "Epoch 13 of 1000: Train Loss = 0.158178 | Val Loss = 0.242841 | Train Acc = 0.976043 | Val Acc = 0.944056 | Eta = 0.001000\n",
      "\n",
      "Epoch 14 of 1000: Train Loss = 0.145146 | Val Loss = 0.232033 | Train Acc = 0.983771 | Val Acc = 0.944056 | Eta = 0.001000\n",
      "\n",
      "Epoch 15 of 1000: Train Loss = 0.123463 | Val Loss = 0.237229 | Train Acc = 0.982226 | Val Acc = 0.930070 | Eta = 0.001000\n",
      "\n",
      "Epoch 16 of 1000: Train Loss = 0.121804 | Val Loss = 0.226063 | Train Acc = 0.986090 | Val Acc = 0.944056 | Eta = 0.001000\n",
      "\n",
      "Epoch 17 of 1000: Train Loss = 0.105823 | Val Loss = 0.230775 | Train Acc = 0.986862 | Val Acc = 0.930070 | Eta = 0.001000\n",
      "\n",
      "Epoch 18 of 1000: Train Loss = 0.120846 | Val Loss = 0.204867 | Train Acc = 0.977589 | Val Acc = 0.944056 | Eta = 0.001000\n",
      "\n",
      "Epoch 19 of 1000: Train Loss = 0.107118 | Val Loss = 0.203155 | Train Acc = 0.989181 | Val Acc = 0.951049 | Eta = 0.001000\n",
      "\n",
      "Epoch 20 of 1000: Train Loss = 0.098577 | Val Loss = 0.206521 | Train Acc = 0.986862 | Val Acc = 0.937063 | Eta = 0.001000\n",
      "\n",
      "Epoch 21 of 1000: Train Loss = 0.088215 | Val Loss = 0.208190 | Train Acc = 0.991499 | Val Acc = 0.944056 | Eta = 0.001000\n",
      "\n",
      "Epoch 22 of 1000: Train Loss = 0.086278 | Val Loss = 0.200309 | Train Acc = 0.989181 | Val Acc = 0.937063 | Eta = 0.001000\n",
      "\n",
      "Epoch 23 of 1000: Train Loss = 0.080656 | Val Loss = 0.204607 | Train Acc = 0.993045 | Val Acc = 0.944056 | Eta = 0.001000\n",
      "\n",
      "Epoch 24 of 1000: Train Loss = 0.101947 | Val Loss = 0.215634 | Train Acc = 0.982998 | Val Acc = 0.930070 | Eta = 0.001000\n",
      "\n",
      "Epoch 25 of 1000: Train Loss = 0.093053 | Val Loss = 0.198594 | Train Acc = 0.983771 | Val Acc = 0.937063 | Eta = 0.001000\n",
      "\n",
      "Epoch 26 of 1000: Train Loss = 0.081855 | Val Loss = 0.191327 | Train Acc = 0.995363 | Val Acc = 0.951049 | Eta = 0.001000\n",
      "\n",
      "Epoch 27 of 1000: Train Loss = 0.073201 | Val Loss = 0.182507 | Train Acc = 0.992272 | Val Acc = 0.944056 | Eta = 0.001000\n",
      "\n",
      "Epoch 28 of 1000: Train Loss = 0.074966 | Val Loss = 0.186961 | Train Acc = 0.991499 | Val Acc = 0.944056 | Eta = 0.001000\n",
      "\n",
      "Epoch 29 of 1000: Train Loss = 0.065824 | Val Loss = 0.188423 | Train Acc = 0.996909 | Val Acc = 0.944056 | Eta = 0.001000\n",
      "\n",
      "Epoch 30 of 1000: Train Loss = 0.069263 | Val Loss = 0.185092 | Train Acc = 0.996909 | Val Acc = 0.937063 | Eta = 0.001000\n",
      "\n",
      "Epoch 31 of 1000: Train Loss = 0.063430 | Val Loss = 0.189614 | Train Acc = 0.997682 | Val Acc = 0.944056 | Eta = 0.001000\n",
      "\n",
      "Epoch 32 of 1000: Train Loss = 0.065629 | Val Loss = 0.179378 | Train Acc = 0.994590 | Val Acc = 0.937063 | Eta = 0.001000\n",
      "\n",
      "Epoch 33 of 1000: Train Loss = 0.066163 | Val Loss = 0.184131 | Train Acc = 0.996909 | Val Acc = 0.944056 | Eta = 0.001000\n",
      "\n",
      "Epoch 34 of 1000: Train Loss = 0.062207 | Val Loss = 0.178809 | Train Acc = 0.996909 | Val Acc = 0.944056 | Eta = 0.001000\n",
      "\n",
      "Epoch 35 of 1000: Train Loss = 0.065031 | Val Loss = 0.176805 | Train Acc = 0.997682 | Val Acc = 0.951049 | Eta = 0.001000\n",
      "\n",
      "Epoch 36 of 1000: Train Loss = 0.065066 | Val Loss = 0.179197 | Train Acc = 0.993818 | Val Acc = 0.944056 | Eta = 0.001000\n",
      "\n",
      "Epoch 37 of 1000: Train Loss = 0.059484 | Val Loss = 0.170994 | Train Acc = 0.995363 | Val Acc = 0.951049 | Eta = 0.001000\n",
      "\n",
      "Epoch 38 of 1000: Train Loss = 0.055088 | Val Loss = 0.168226 | Train Acc = 0.998454 | Val Acc = 0.951049 | Eta = 0.001000\n",
      "\n",
      "Epoch 39 of 1000: Train Loss = 0.057960 | Val Loss = 0.177300 | Train Acc = 0.996136 | Val Acc = 0.944056 | Eta = 0.001000\n",
      "\n",
      "Epoch 40 of 1000: Train Loss = 0.053944 | Val Loss = 0.182823 | Train Acc = 0.997682 | Val Acc = 0.944056 | Eta = 0.001000\n",
      "\n",
      "Epoch 41 of 1000: Train Loss = 0.057648 | Val Loss = 0.176714 | Train Acc = 0.996909 | Val Acc = 0.944056 | Eta = 0.001000\n",
      "\n",
      "Epoch 42 of 1000: Train Loss = 0.056662 | Val Loss = 0.176303 | Train Acc = 0.994590 | Val Acc = 0.944056 | Eta = 0.001000\n",
      "\n",
      "Epoch 43 of 1000: Train Loss = 0.055171 | Val Loss = 0.169103 | Train Acc = 0.998454 | Val Acc = 0.944056 | Eta = 0.001000\n",
      "\n",
      "Epoch 44 of 1000: Train Loss = 0.050667 | Val Loss = 0.167307 | Train Acc = 0.998454 | Val Acc = 0.944056 | Eta = 0.001000\n",
      "\n",
      "Epoch 45 of 1000: Train Loss = 0.045937 | Val Loss = 0.165252 | Train Acc = 1.000000 | Val Acc = 0.944056 | Eta = 0.001000\n",
      "\n",
      "Epoch 46 of 1000: Train Loss = 0.048674 | Val Loss = 0.169638 | Train Acc = 1.000000 | Val Acc = 0.944056 | Eta = 0.001000\n",
      "\n",
      "Early Stopping because the validation accuracy change between two consecutive epochs is less than 0.000100 over the last 10 iterations\n"
     ]
    }
   ],
   "source": [
    "m.fit(X_train, y_train, validation_fraction=0.1, max_iter=1000, verbose=True)"
   ]
  },
  {
   "cell_type": "code",
   "execution_count": 27,
   "metadata": {},
   "outputs": [
    {
     "data": {
      "image/png": "[encoded data removed]",
      "text/plain": [
       "<Figure size 960x720 with 1 Axes>"
      ]
     },
     "metadata": {
      "needs_background": "light"
     },
     "output_type": "display_data"
    },
    {
     "data": {
      "image/png": "[encoded data removed]",
      "text/plain": [
       "<Figure size 960x720 with 1 Axes>"
      ]
     },
     "metadata": {
      "needs_background": "light"
     },
     "output_type": "display_data"
    }
   ],
   "source": [
    "m.plotLearningCurve()"
   ]
  },
  {
   "cell_type": "code",
   "execution_count": 28,
   "metadata": {},
   "outputs": [
    {
     "data": {
      "text/plain": [
       "0.9555555555555556"
      ]
     },
     "execution_count": 28,
     "metadata": {},
     "output_type": "execute_result"
    }
   ],
   "source": [
    "y_pred=m.predict(X_test)\n",
    "accuracy_calc(y_test,y_pred)"
   ]
  },
  {
   "cell_type": "code",
   "execution_count": 29,
   "metadata": {},
   "outputs": [],
   "source": [
    "digits = datasets.load_digits()\n",
    "X_binary = digits.data\n",
    "y_binary = digits.target\n",
    "y_binary = np.array(list(map(lambda x: 1 if x==5 else 0, y_binary)))\n",
    "X_binary,y_binary = shuffle(X_binary,y_binary)\n",
    "X_train_binary,X_test_binary,y_train_binary,y_test_binary = train_test_split(X_binary,y_binary,test_size=0.2)"
   ]
  },
  {
   "cell_type": "code",
   "execution_count": 30,
   "metadata": {},
   "outputs": [],
   "source": [
    "scaler = StandardScaler()\n",
    "scaler.fit(X_train_binary)\n",
    "X_train_binary = scaler.transform(X_train_binary)\n",
    "X_test_binary = scaler.transform(X_test_binary)"
   ]
  },
  {
   "cell_type": "code",
   "execution_count": 31,
   "metadata": {},
   "outputs": [
    {
     "name": "stdout",
     "output_type": "stream",
     "text": [
      "True\n"
     ]
    }
   ],
   "source": [
    "exists = 1 in y_train_binary\n",
    "print(exists)"
   ]
  },
  {
   "cell_type": "code",
   "execution_count": 32,
   "metadata": {},
   "outputs": [],
   "source": [
    "m1=MLPClassifier(hidden_layer_neurons=25, activation= 'logistic', regularizer='l2', \n",
    "                 alpha=0.001, learning_rate='adaptive', learning_rate_scheduler='timeBasedDecay',learning_rate_init=0.01, \n",
    "                 tol = 0.0001, early_stopping=True, n_iter_no_change=10, momentum=True, beta=0.9, lambda_plateau=0.5, Decay =0.001)"
   ]
  },
  {
   "cell_type": "code",
   "execution_count": 33,
   "metadata": {},
   "outputs": [
    {
     "name": "stdout",
     "output_type": "stream",
     "text": [
      "\n",
      "Epoch 0 of 1000: Train Loss = 0.331317 | Val Loss = 0.240799 | Train Acc = 0.893354 | Val Acc = 0.923077 | Eta = 0.004359\n",
      "\n",
      "Epoch 1 of 1000: Train Loss = 0.187408 | Val Loss = 0.091980 | Train Acc = 0.903400 | Val Acc = 0.965035 | Eta = 0.002787\n",
      "\n",
      "Epoch 2 of 1000: Train Loss = 0.098487 | Val Loss = 0.062563 | Train Acc = 0.977589 | Val Acc = 1.000000 | Eta = 0.002048\n",
      "\n",
      "Epoch 3 of 1000: Train Loss = 0.079106 | Val Loss = 0.057620 | Train Acc = 0.985317 | Val Acc = 1.000000 | Eta = 0.001619\n",
      "\n",
      "Epoch 4 of 1000: Train Loss = 0.068307 | Val Loss = 0.051934 | Train Acc = 0.991499 | Val Acc = 1.000000 | Eta = 0.001339\n",
      "\n",
      "Epoch 5 of 1000: Train Loss = 0.059007 | Val Loss = 0.049896 | Train Acc = 0.993818 | Val Acc = 1.000000 | Eta = 0.001141\n",
      "\n",
      "Epoch 6 of 1000: Train Loss = 0.054195 | Val Loss = 0.047408 | Train Acc = 0.994590 | Val Acc = 1.000000 | Eta = 0.000994\n",
      "\n",
      "Epoch 7 of 1000: Train Loss = 0.050819 | Val Loss = 0.045512 | Train Acc = 0.997682 | Val Acc = 1.000000 | Eta = 0.000881\n",
      "\n",
      "Epoch 8 of 1000: Train Loss = 0.055853 | Val Loss = 0.045109 | Train Acc = 0.993045 | Val Acc = 1.000000 | Eta = 0.000791\n",
      "\n",
      "Epoch 9 of 1000: Train Loss = 0.051224 | Val Loss = 0.045010 | Train Acc = 0.996909 | Val Acc = 1.000000 | Eta = 0.000717\n",
      "\n",
      "Epoch 10 of 1000: Train Loss = 0.049430 | Val Loss = 0.043738 | Train Acc = 0.994590 | Val Acc = 1.000000 | Eta = 0.000656\n",
      "\n",
      "Epoch 11 of 1000: Train Loss = 0.046668 | Val Loss = 0.042946 | Train Acc = 0.996136 | Val Acc = 1.000000 | Eta = 0.000605\n",
      "\n",
      "Early Stopping because the validation accuracy change between two consecutive epochs is less than 0.000100 over the last 10 iterations\n"
     ]
    }
   ],
   "source": [
    "m1.fit(X_train_binary, y_train_binary, validation_fraction=0.1, max_iter=1000, verbose=True)"
   ]
  },
  {
   "cell_type": "code",
   "execution_count": 34,
   "metadata": {},
   "outputs": [
    {
     "data": {
      "image/png": "[encoded data removed]",
      "text/plain": [
       "<Figure size 960x720 with 1 Axes>"
      ]
     },
     "metadata": {
      "needs_background": "light"
     },
     "output_type": "display_data"
    },
    {
     "data": {
      "image/png": "[encoded data removed]",
      "text/plain": [
       "<Figure size 960x720 with 1 Axes>"
      ]
     },
     "metadata": {
      "needs_background": "light"
     },
     "output_type": "display_data"
    }
   ],
   "source": [
    "m1.plotLearningCurve()"
   ]
  },
  {
   "cell_type": "code",
   "execution_count": 35,
   "metadata": {},
   "outputs": [
    {
     "data": {
      "text/plain": [
       "0.9861111111111112"
      ]
     },
     "execution_count": 35,
     "metadata": {},
     "output_type": "execute_result"
    }
   ],
   "source": [
    "y_pred=m1.predict(X_test_binary)\n",
    "accuracy_calc(y_test_binary,y_pred)"
   ]
  },
  {
   "cell_type": "code",
   "execution_count": 36,
   "metadata": {},
   "outputs": [
    {
     "data": {
      "text/plain": [
       "39"
      ]
     },
     "execution_count": 36,
     "metadata": {},
     "output_type": "execute_result"
    }
   ],
   "source": [
    "count = np.count_nonzero(y_pred == 1)\n",
    "count"
   ]
  },
  {
   "cell_type": "code",
   "execution_count": 37,
   "metadata": {},
   "outputs": [
    {
     "data": {
      "text/plain": [
       "36"
      ]
     },
     "execution_count": 37,
     "metadata": {},
     "output_type": "execute_result"
    }
   ],
   "source": [
    "count = np.count_nonzero(y_test_binary== 1)\n",
    "count\n"
   ]
  },
  {
   "cell_type": "code",
   "execution_count": 38,
   "metadata": {},
   "outputs": [
    {
     "data": {
      "text/plain": [
       "(12, 1)"
      ]
     },
     "execution_count": 38,
     "metadata": {},
     "output_type": "execute_result"
    }
   ],
   "source": [
    "np.array(m1.loss_validation).shape"
   ]
  },
  {
   "cell_type": "markdown",
   "metadata": {},
   "source": [
    "### (i) Hyperparameter tuning based on certain fixed-values hyperparameters"
   ]
  },
  {
   "cell_type": "code",
   "execution_count": null,
   "metadata": {},
   "outputs": [],
   "source": []
  },
  {
   "cell_type": "markdown",
   "metadata": {},
   "source": [
    "### (ii) Report performance on model."
   ]
  },
  {
   "cell_type": "code",
   "execution_count": null,
   "metadata": {},
   "outputs": [],
   "source": []
  },
  {
   "cell_type": "markdown",
   "metadata": {},
   "source": [
    "## Section 3 (Extra Credit)"
   ]
  },
  {
   "cell_type": "markdown",
   "metadata": {},
   "source": [
    "### 12. Implement a Multi-Layer Perceptron regressor model (a MLP Regressor class) with a single hidden layer. The model implements the backpropagation algorithm. To optimize the process of updating the weight matrices, it uses the Stochastic Gradient Descent (SGD) algorithm with momentum."
   ]
  },
  {
   "cell_type": "code",
   "execution_count": 97,
   "metadata": {},
   "outputs": [],
   "source": [
    "df = pd.read_csv('./Data/winequality-red.csv', sep=';')"
   ]
  },
  {
   "cell_type": "code",
   "execution_count": 98,
   "metadata": {},
   "outputs": [
    {
     "data": {
      "text/html": [
       "<div>\n",
       "<style scoped>\n",
       "    .dataframe tbody tr th:only-of-type {\n",
       "        vertical-align: middle;\n",
       "    }\n",
       "\n",
       "    .dataframe tbody tr th {\n",
       "        vertical-align: top;\n",
       "    }\n",
       "\n",
       "    .dataframe thead th {\n",
       "        text-align: right;\n",
       "    }\n",
       "</style>\n",
       "<table border=\"1\" class=\"dataframe\">\n",
       "  <thead>\n",
       "    <tr style=\"text-align: right;\">\n",
       "      <th></th>\n",
       "      <th>fixed acidity</th>\n",
       "      <th>volatile acidity</th>\n",
       "      <th>citric acid</th>\n",
       "      <th>residual sugar</th>\n",
       "      <th>chlorides</th>\n",
       "      <th>free sulfur dioxide</th>\n",
       "      <th>total sulfur dioxide</th>\n",
       "      <th>density</th>\n",
       "      <th>pH</th>\n",
       "      <th>sulphates</th>\n",
       "      <th>alcohol</th>\n",
       "      <th>quality</th>\n",
       "    </tr>\n",
       "  </thead>\n",
       "  <tbody>\n",
       "    <tr>\n",
       "      <th>count</th>\n",
       "      <td>1599.000000</td>\n",
       "      <td>1599.000000</td>\n",
       "      <td>1599.000000</td>\n",
       "      <td>1599.000000</td>\n",
       "      <td>1599.000000</td>\n",
       "      <td>1599.000000</td>\n",
       "      <td>1599.000000</td>\n",
       "      <td>1599.000000</td>\n",
       "      <td>1599.000000</td>\n",
       "      <td>1599.000000</td>\n",
       "      <td>1599.000000</td>\n",
       "      <td>1599.000000</td>\n",
       "    </tr>\n",
       "    <tr>\n",
       "      <th>mean</th>\n",
       "      <td>8.319637</td>\n",
       "      <td>0.527821</td>\n",
       "      <td>0.270976</td>\n",
       "      <td>2.538806</td>\n",
       "      <td>0.087467</td>\n",
       "      <td>15.874922</td>\n",
       "      <td>46.467792</td>\n",
       "      <td>0.996747</td>\n",
       "      <td>3.311113</td>\n",
       "      <td>0.658149</td>\n",
       "      <td>10.422983</td>\n",
       "      <td>5.636023</td>\n",
       "    </tr>\n",
       "    <tr>\n",
       "      <th>std</th>\n",
       "      <td>1.741096</td>\n",
       "      <td>0.179060</td>\n",
       "      <td>0.194801</td>\n",
       "      <td>1.409928</td>\n",
       "      <td>0.047065</td>\n",
       "      <td>10.460157</td>\n",
       "      <td>32.895324</td>\n",
       "      <td>0.001887</td>\n",
       "      <td>0.154386</td>\n",
       "      <td>0.169507</td>\n",
       "      <td>1.065668</td>\n",
       "      <td>0.807569</td>\n",
       "    </tr>\n",
       "    <tr>\n",
       "      <th>min</th>\n",
       "      <td>4.600000</td>\n",
       "      <td>0.120000</td>\n",
       "      <td>0.000000</td>\n",
       "      <td>0.900000</td>\n",
       "      <td>0.012000</td>\n",
       "      <td>1.000000</td>\n",
       "      <td>6.000000</td>\n",
       "      <td>0.990070</td>\n",
       "      <td>2.740000</td>\n",
       "      <td>0.330000</td>\n",
       "      <td>8.400000</td>\n",
       "      <td>3.000000</td>\n",
       "    </tr>\n",
       "    <tr>\n",
       "      <th>25%</th>\n",
       "      <td>7.100000</td>\n",
       "      <td>0.390000</td>\n",
       "      <td>0.090000</td>\n",
       "      <td>1.900000</td>\n",
       "      <td>0.070000</td>\n",
       "      <td>7.000000</td>\n",
       "      <td>22.000000</td>\n",
       "      <td>0.995600</td>\n",
       "      <td>3.210000</td>\n",
       "      <td>0.550000</td>\n",
       "      <td>9.500000</td>\n",
       "      <td>5.000000</td>\n",
       "    </tr>\n",
       "    <tr>\n",
       "      <th>50%</th>\n",
       "      <td>7.900000</td>\n",
       "      <td>0.520000</td>\n",
       "      <td>0.260000</td>\n",
       "      <td>2.200000</td>\n",
       "      <td>0.079000</td>\n",
       "      <td>14.000000</td>\n",
       "      <td>38.000000</td>\n",
       "      <td>0.996750</td>\n",
       "      <td>3.310000</td>\n",
       "      <td>0.620000</td>\n",
       "      <td>10.200000</td>\n",
       "      <td>6.000000</td>\n",
       "    </tr>\n",
       "    <tr>\n",
       "      <th>75%</th>\n",
       "      <td>9.200000</td>\n",
       "      <td>0.640000</td>\n",
       "      <td>0.420000</td>\n",
       "      <td>2.600000</td>\n",
       "      <td>0.090000</td>\n",
       "      <td>21.000000</td>\n",
       "      <td>62.000000</td>\n",
       "      <td>0.997835</td>\n",
       "      <td>3.400000</td>\n",
       "      <td>0.730000</td>\n",
       "      <td>11.100000</td>\n",
       "      <td>6.000000</td>\n",
       "    </tr>\n",
       "    <tr>\n",
       "      <th>max</th>\n",
       "      <td>15.900000</td>\n",
       "      <td>1.580000</td>\n",
       "      <td>1.000000</td>\n",
       "      <td>15.500000</td>\n",
       "      <td>0.611000</td>\n",
       "      <td>72.000000</td>\n",
       "      <td>289.000000</td>\n",
       "      <td>1.003690</td>\n",
       "      <td>4.010000</td>\n",
       "      <td>2.000000</td>\n",
       "      <td>14.900000</td>\n",
       "      <td>8.000000</td>\n",
       "    </tr>\n",
       "  </tbody>\n",
       "</table>\n",
       "</div>"
      ],
      "text/plain": [
       "       fixed acidity  volatile acidity  citric acid  residual sugar  \\\n",
       "count    1599.000000       1599.000000  1599.000000     1599.000000   \n",
       "mean        8.319637          0.527821     0.270976        2.538806   \n",
       "std         1.741096          0.179060     0.194801        1.409928   \n",
       "min         4.600000          0.120000     0.000000        0.900000   \n",
       "25%         7.100000          0.390000     0.090000        1.900000   \n",
       "50%         7.900000          0.520000     0.260000        2.200000   \n",
       "75%         9.200000          0.640000     0.420000        2.600000   \n",
       "max        15.900000          1.580000     1.000000       15.500000   \n",
       "\n",
       "         chlorides  free sulfur dioxide  total sulfur dioxide      density  \\\n",
       "count  1599.000000          1599.000000           1599.000000  1599.000000   \n",
       "mean      0.087467            15.874922             46.467792     0.996747   \n",
       "std       0.047065            10.460157             32.895324     0.001887   \n",
       "min       0.012000             1.000000              6.000000     0.990070   \n",
       "25%       0.070000             7.000000             22.000000     0.995600   \n",
       "50%       0.079000            14.000000             38.000000     0.996750   \n",
       "75%       0.090000            21.000000             62.000000     0.997835   \n",
       "max       0.611000            72.000000            289.000000     1.003690   \n",
       "\n",
       "                pH    sulphates      alcohol      quality  \n",
       "count  1599.000000  1599.000000  1599.000000  1599.000000  \n",
       "mean      3.311113     0.658149    10.422983     5.636023  \n",
       "std       0.154386     0.169507     1.065668     0.807569  \n",
       "min       2.740000     0.330000     8.400000     3.000000  \n",
       "25%       3.210000     0.550000     9.500000     5.000000  \n",
       "50%       3.310000     0.620000    10.200000     6.000000  \n",
       "75%       3.400000     0.730000    11.100000     6.000000  \n",
       "max       4.010000     2.000000    14.900000     8.000000  "
      ]
     },
     "execution_count": 98,
     "metadata": {},
     "output_type": "execute_result"
    }
   ],
   "source": [
    "df.describe()"
   ]
  },
  {
   "cell_type": "code",
   "execution_count": 99,
   "metadata": {},
   "outputs": [],
   "source": [
    "df = df.sample(frac=1)"
   ]
  },
  {
   "cell_type": "code",
   "execution_count": 100,
   "metadata": {},
   "outputs": [],
   "source": [
    "Xr = np.array(df.drop(columns=['quality'],axis=1))\n",
    "yr = np.array(df['quality'])\n",
    "yr=np.reshape(yr,(len(yr),1))"
   ]
  },
  {
   "cell_type": "code",
   "execution_count": 101,
   "metadata": {},
   "outputs": [],
   "source": [
    "Xr_train,Xr_test,yr_train,yr_test = train_test_split(Xr,yr,test_size=0.2)\n",
    "scaler = StandardScaler()\n",
    "scaler.fit(Xr_train)\n",
    "Xr_train = scaler.transform(Xr_train)\n",
    "Xr_test = scaler.transform(Xr_test)"
   ]
  },
  {
   "cell_type": "code",
   "execution_count": 102,
   "metadata": {},
   "outputs": [],
   "source": [
    "\"\"\"\n",
    "Calculates the mean squared error (mse) between the true and predicted labels\n",
    "Input: \n",
    "    true: array_like type vector of true labels\n",
    "    pred: array_like type vector of predicted labels\n",
    "Output:\n",
    "    mean squared error: accuracy expressed in decimal\n",
    "\"\"\"\n",
    "def MSE(true,pred):\n",
    "    diff = true - pred\n",
    "    error = 0.5*np.sum(np.square(diff))/true.shape[0]\n",
    "    return error\n",
    "\n",
    "def MSE_l2(true,pred,Theta_1, Theta_2, lambd):\n",
    "    diff = true - pred\n",
    "    error = MSE(true,pred) +(0.5*lambd*np.sum(np.square(Theta_1[1:]))+ 0.5*lambd*np.sum(np.square(Theta_2[1:])))/true.shape[0]\n",
    "    return error\n"
   ]
  },
  {
   "cell_type": "code",
   "execution_count": 103,
   "metadata": {},
   "outputs": [],
   "source": [
    " # Forward Propogation\n",
    "def Forward_prop_reg(Xi,W_1,W_2,activation='logistic'):\n",
    "    \n",
    "    x_0 = np.ones((Xi.shape[0],1))\n",
    "    a1 = np.concatenate((x_0,Xi), axis=1)\n",
    "    z2 =np.dot(a1,W_1) \n",
    "    if activation =='logistic':\n",
    "        a2 = logistic(z2)\n",
    "                    \n",
    "    elif activation =='relu':\n",
    "        a2 = relu(z2)\n",
    "                    \n",
    "    elif activation == 'tanh':\n",
    "        a2 = tanh(z2)\n",
    "    \n",
    "    x_0 = np.ones((a2.shape[0],1))\n",
    "    a2 = np.concatenate((x_0,a2), axis=1)              \n",
    "    \n",
    "    z3 =np.dot(a2,W_2)\n",
    "    a3=z3\n",
    "    \n",
    "    return a1,z2,a2,z3,a3 "
   ]
  },
  {
   "cell_type": "code",
   "execution_count": 104,
   "metadata": {},
   "outputs": [],
   "source": [
    "# Backward Propogation\n",
    "def Backward_prop_reg(Xi,Yi,W_2,z2,z3,a3,activation='logistic'):\n",
    "  \n",
    "    delta_3 = (a3 - Yi)\n",
    "                          \n",
    "    if activation =='logistic':\n",
    "        d_activ_z2 = d_logistic(z2)\n",
    "                    \n",
    "    elif activation =='relu':\n",
    "        d_activ_z2 = d_relu(z2)\n",
    "                    \n",
    "    elif activation == 'tanh':\n",
    "        d_activ_z2 = d_tanh(z2)\n",
    "                    \n",
    "    delta_2 = np.dot(delta_3,(W_2[1:]).T)*d_activ_z2\n",
    "    return delta_2,delta_3 "
   ]
  },
  {
   "cell_type": "code",
   "execution_count": 105,
   "metadata": {},
   "outputs": [],
   "source": [
    " # Forward Propogation\n",
    "def predict_reg(Xi,W_1,W_2,activation='logistic'):\n",
    "    \n",
    "    x_0 = np.ones((Xi.shape[0],1))\n",
    "    a1 = np.concatenate((x_0,Xi), axis=1)\n",
    "    z2 =np.dot(a1,W_1) \n",
    "    if activation =='logistic':\n",
    "        a2 = logistic(z2)\n",
    "                    \n",
    "    elif activation =='relu':\n",
    "        a2 = relu(z2)\n",
    "                    \n",
    "    elif activation == 'tanh':\n",
    "        a2 = tanh(z2)\n",
    "    \n",
    "    x_0 = np.ones((a2.shape[0],1))\n",
    "    a2 = np.concatenate((x_0,a2), axis=1)              \n",
    "    \n",
    "    z3 =np.dot(a2,W_2)\n",
    "    \n",
    "    a3 = z3\n",
    "      \n",
    "    return a3    \n",
    "                "
   ]
  },
  {
   "cell_type": "code",
   "execution_count": 106,
   "metadata": {},
   "outputs": [],
   "source": [
    "class MLPRegressor():\n",
    "    def __init__(self, hidden_layer_neurons=2, activation= 'logistic', regularizer=None, \n",
    "                 alpha=0.0001, learning_rate='constant', learning_rate_scheduler='timeBasedDecay',learning_rate_init=0.001, \n",
    "                 tol = 0.0001, early_stopping=False, n_iter_no_change=10, momentum=False, beta=0.9, lambda_plateau=0.5, **kwargs):\n",
    "        self.hidden_layer_neurons = hidden_layer_neurons\n",
    "        self.activation = activation\n",
    "        self.regularizer = regularizer\n",
    "        self.tol = tol\n",
    "        self.alpha = alpha\n",
    "        self.beta = beta\n",
    "        self.W_1 = None\n",
    "        self.W_2= None\n",
    "        self.learning_rate_init = learning_rate_init\n",
    "        self.learning_rate = learning_rate\n",
    "        self.lambda_plateau = lambda_plateau #lambda is value between 0 and 1 to reduce eta during plateau\n",
    "        self.learning_rate_scheduler = learning_rate_scheduler\n",
    "        self.loss_train = []\n",
    "        self.loss_validation = []\n",
    "        self.early_stopping = early_stopping\n",
    "        self.n_iter_no_change = n_iter_no_change\n",
    "        self.momentum = momentum\n",
    "        if \"Decay\" in kwargs:\n",
    "            self.decay = kwargs[\"Decay\"]\n",
    "        return\n",
    "    \n",
    "    def fit(self, X, Y, validation_fraction=0.1, max_iter=1000, verbose=False,**kwargs):\n",
    "        \n",
    "\n",
    "        output_layer_neurons = 1\n",
    "\n",
    "        #Extract number of input layer neurons (excluding bias)    \n",
    "        input_layer_neurons = X.shape[1]\n",
    "        valid_samples = math.floor(X.shape[0]*validation_fraction)\n",
    "        validation_X = X[:valid_samples]\n",
    "        X = X[valid_samples:]\n",
    "        validation_Y = Y[:valid_samples]\n",
    "        Y = Y[valid_samples:]\n",
    "        \n",
    "        # Set number of training data\n",
    "        n = X.shape[0]        \n",
    "        \n",
    "        #Weights Initialization\n",
    "        self.W_1 = initializeWeights(input_layer_neurons+1, self.hidden_layer_neurons) \n",
    "        self.W_2 = initializeWeights(self.hidden_layer_neurons+1, output_layer_neurons)\n",
    "        \n",
    "        iteration=0\n",
    "        \n",
    "        for epoch in range(max_iter):\n",
    "            loss = []\n",
    "            accu = []\n",
    "            for i in range(n):\n",
    "                iteration = iteration +1\n",
    "                random_index = np.random.randint(n)\n",
    "                Yi=Y[random_index:random_index+1]\n",
    "                Xi=X[random_index:random_index+1]\n",
    "                \n",
    "                if self.learning_rate == 'constant':\n",
    "                    eta = self.learning_rate_init\n",
    "                    \n",
    "                if self.learning_rate == 'adaptive':\n",
    "                    if self.learning_rate_scheduler == 'timeBasedDecay':\n",
    "                        eta=timeBasedDecay(self.learning_rate_init,self.decay,iteration)\n",
    "                    elif self.learning_rate_scheduler == 'exponentialDecay':\n",
    "                        eta=exponentialDecay(self.learning_rate_init,self.decay,iteration)\n",
    "                    elif self.learning_rate_scheduler == 'reduceLearningRateOnPlateau':\n",
    "                        if epoch > self.n_iter_no_change:\n",
    "                            count = self.n_iter_no_change\n",
    "                            temp = self.loss_validation[-self.n_iter_no_change:]\n",
    "                            for j in range(len(temp)-1):\n",
    "                                if (temp[j]-temp[j+1]) >= self.tol:\n",
    "                                    count= count-1\n",
    "                            if count ==self.n_iter_no_change:        \n",
    "                                eta = self.learning_rate_init*self.lambda_plateau\n",
    "                                    \n",
    "        \n",
    "                a1,z2,a2,z3,a3 = Forward_prop_reg(Xi,self.W_1,self.W_2,activation=self.activation)\n",
    "                \n",
    "                delta_2,delta_3 = Backward_prop_reg(Xi,Yi,self.W_2,z2,z3,a3,activation=self.activation)\n",
    "            \n",
    "                if self.regularizer=='l2':\n",
    "                    L = MSE_l2(Yi,a3,self.W_1,self.W_2,self.alpha) \n",
    "                else:\n",
    "                    L = MSE(Yi,a3) \n",
    "                       \n",
    "                # Store the training loss in a list\n",
    "                loss.append(L)\n",
    "                \n",
    "                # Gradient Computation and Weight Updates\n",
    "                if self.regularizer == 'l2':\n",
    "                    regularized_term_1 = self.alpha*self.W_1\n",
    "                    regularized_term_1[0] = 0  # Exclude the bias term\n",
    "                    regularized_term_2 = self.alpha*self.W_2\n",
    "                    regularized_term_2[0] = 0  # Exclude the bias term\n",
    "                    grad_L_for_W_2 = np.dot(a2.T,delta_3) + regularized_term_2\n",
    "                    grad_L_for_W_1 = np.dot(a1.T,delta_2) + regularized_term_1\n",
    "                else:\n",
    "                    grad_L_for_W_2 = np.dot(a2.T,delta_3)\n",
    "                    grad_L_for_W_1 = np.dot(a1.T,delta_2)\n",
    "                \n",
    "                if self.momentum is True:\n",
    "                    if epoch == 0:\n",
    "                        m_t1_1 = np.zeros((grad_L_for_W_1.shape[0],grad_L_for_W_1.shape[1]))\n",
    "                        m_t2_1 = np.zeros((grad_L_for_W_2.shape[0],grad_L_for_W_2.shape[1]))\n",
    "                    \n",
    "                    m_1 = self.beta*m_t1_1 - eta*grad_L_for_W_1\n",
    "                    m_2 = self.beta*m_t2_1 - eta*grad_L_for_W_2\n",
    "                    \n",
    "                    self.W_2 = self.W_2 + m_2 \n",
    "                    self.W_1 = self.W_1 + m_1\n",
    "                    \n",
    "                    m_t1_1 = m_1\n",
    "                    m_t2_1 = m_2\n",
    "                \n",
    "                else:\n",
    "                    self.W_2 = self.W_2 - eta* grad_L_for_W_2 \n",
    "                    self.W_1 = self.W_1 - eta* grad_L_for_W_1\n",
    "              \n",
    "            self.loss_train.append(np.mean(loss))\n",
    "            \n",
    "            y_pred = predict_reg(validation_X,self.W_1,self.W_2,activation=self.activation)\n",
    "    \n",
    "            if self.regularizer=='l2':\n",
    "                L = MSE_l2(validation_Y,y_pred,self.W_1,self.W_2,self.alpha) \n",
    "            else:\n",
    "                L = MSE(validation_Y,y_pred)  \n",
    "        \n",
    "            self.loss_validation.append(L)\n",
    "            if verbose is True:\n",
    "                print(\"\\nEpoch %d of %d: Train Loss = %f | Val Loss = %f | Eta = %f\" %(epoch,max_iter,self.loss_train[epoch],self.loss_validation[epoch],eta))\n",
    "\n",
    "            if self.early_stopping is True:\n",
    "                if epoch > self.n_iter_no_change:\n",
    "                    temp = self.loss_validation[-self.n_iter_no_change:]\n",
    "                    count=self.n_iter_no_change\n",
    "                    for j in range(len(temp)-1):\n",
    "                        if (temp[j]-temp[j+1]) >= self.tol:\n",
    "                            count= count-1\n",
    "                    if count==self.n_iter_no_change:\n",
    "                        print(\"\\nEarly Stopping because the validation loss change between two consecutive epochs is less than %f over the last %d iterations\" %(self.tol,self.n_iter_no_change))\n",
    "                        break\n",
    "        \n",
    "            \n",
    "    \n",
    "    def  predict(self, X):\n",
    "        y_pred = predict_reg(X,self.W_1,self.W_2,activation=self.activation)\n",
    "        return y_pred\n",
    "    \n",
    "    def plotLearningCurve(self):\n",
    "        # Plotting Learning Curve            \n",
    "        epochs_xaxis=np.linspace(1.0,len(self.loss_train),num=len(self.loss_train))\n",
    "        plt.figure(figsize=(12, 9), dpi=80)\n",
    "        plt.plot(epochs_xaxis,self.loss_train,\"r--\", alpha=1.0, linewidth=3.0, label = \"Training\")\n",
    "        plt.plot(epochs_xaxis,self.loss_validation,\"b-\", alpha=1.0, linewidth=3.0, label = \"Validation\")\n",
    "        plt.xlabel(\"Epochs\")\n",
    "        plt.ylabel(\"Average Loss\")\n",
    "        plt.title(\"Loss VS Epochs\")\n",
    "        plt.legend()\n",
    "        "
   ]
  },
  {
   "cell_type": "markdown",
   "metadata": {},
   "source": [
    "### (i) Hyperparameter tuning based on certain fixed-values hyperparameters"
   ]
  },
  {
   "cell_type": "code",
   "execution_count": 107,
   "metadata": {},
   "outputs": [],
   "source": [
    "m2=MLPRegressor(hidden_layer_neurons=7, activation= 'logistic', regularizer='l2', \n",
    "                 alpha=0.001, learning_rate='adaptive', learning_rate_scheduler='timeBasedDecay',learning_rate_init=0.01, \n",
    "                 tol = 0.001, early_stopping=True, n_iter_no_change=20, momentum=True, beta=0.9, lambda_plateau=0.5, Decay =0.001)"
   ]
  },
  {
   "cell_type": "code",
   "execution_count": 108,
   "metadata": {},
   "outputs": [
    {
     "name": "stdout",
     "output_type": "stream",
     "text": [
      "\n",
      "Epoch 0 of 1000: Train Loss = 0.486296 | Val Loss = 0.221502 | Eta = 0.004647\n",
      "\n",
      "Epoch 1 of 1000: Train Loss = 0.259219 | Val Loss = 0.222719 | Eta = 0.003027\n",
      "\n",
      "Epoch 2 of 1000: Train Loss = 0.228224 | Val Loss = 0.263455 | Eta = 0.002244\n",
      "\n",
      "Epoch 3 of 1000: Train Loss = 0.245069 | Val Loss = 0.201193 | Eta = 0.001783\n",
      "\n",
      "Epoch 4 of 1000: Train Loss = 0.230541 | Val Loss = 0.230749 | Eta = 0.001479\n",
      "\n",
      "Epoch 5 of 1000: Train Loss = 0.224443 | Val Loss = 0.205288 | Eta = 0.001264\n",
      "\n",
      "Epoch 6 of 1000: Train Loss = 0.208461 | Val Loss = 0.209129 | Eta = 0.001103\n",
      "\n",
      "Epoch 7 of 1000: Train Loss = 0.216990 | Val Loss = 0.226793 | Eta = 0.000979\n",
      "\n",
      "Epoch 8 of 1000: Train Loss = 0.212608 | Val Loss = 0.207815 | Eta = 0.000880\n",
      "\n",
      "Epoch 9 of 1000: Train Loss = 0.225643 | Val Loss = 0.195201 | Eta = 0.000799\n",
      "\n",
      "Epoch 10 of 1000: Train Loss = 0.221346 | Val Loss = 0.197090 | Eta = 0.000731\n",
      "\n",
      "Epoch 11 of 1000: Train Loss = 0.230647 | Val Loss = 0.198469 | Eta = 0.000675\n",
      "\n",
      "Epoch 12 of 1000: Train Loss = 0.214440 | Val Loss = 0.196090 | Eta = 0.000626\n",
      "\n",
      "Epoch 13 of 1000: Train Loss = 0.210041 | Val Loss = 0.192290 | Eta = 0.000584\n",
      "\n",
      "Epoch 14 of 1000: Train Loss = 0.210978 | Val Loss = 0.190059 | Eta = 0.000547\n",
      "\n",
      "Epoch 15 of 1000: Train Loss = 0.199392 | Val Loss = 0.195360 | Eta = 0.000515\n",
      "\n",
      "Epoch 16 of 1000: Train Loss = 0.201663 | Val Loss = 0.196836 | Eta = 0.000486\n",
      "\n",
      "Epoch 17 of 1000: Train Loss = 0.213134 | Val Loss = 0.198333 | Eta = 0.000460\n",
      "\n",
      "Epoch 18 of 1000: Train Loss = 0.213323 | Val Loss = 0.193647 | Eta = 0.000437\n",
      "\n",
      "Epoch 19 of 1000: Train Loss = 0.221823 | Val Loss = 0.191909 | Eta = 0.000416\n",
      "\n",
      "Epoch 20 of 1000: Train Loss = 0.185363 | Val Loss = 0.193928 | Eta = 0.000397\n",
      "\n",
      "Epoch 21 of 1000: Train Loss = 0.197643 | Val Loss = 0.188620 | Eta = 0.000380\n",
      "\n",
      "Epoch 22 of 1000: Train Loss = 0.201878 | Val Loss = 0.190238 | Eta = 0.000364\n",
      "\n",
      "Epoch 23 of 1000: Train Loss = 0.202019 | Val Loss = 0.186179 | Eta = 0.000349\n",
      "\n",
      "Epoch 24 of 1000: Train Loss = 0.212648 | Val Loss = 0.193558 | Eta = 0.000336\n",
      "\n",
      "Epoch 25 of 1000: Train Loss = 0.216003 | Val Loss = 0.188781 | Eta = 0.000323\n",
      "\n",
      "Epoch 26 of 1000: Train Loss = 0.199050 | Val Loss = 0.185938 | Eta = 0.000311\n",
      "\n",
      "Epoch 27 of 1000: Train Loss = 0.196366 | Val Loss = 0.184330 | Eta = 0.000301\n",
      "\n",
      "Epoch 28 of 1000: Train Loss = 0.201635 | Val Loss = 0.189918 | Eta = 0.000291\n",
      "\n",
      "Epoch 29 of 1000: Train Loss = 0.216153 | Val Loss = 0.186604 | Eta = 0.000281\n",
      "\n",
      "Epoch 30 of 1000: Train Loss = 0.211710 | Val Loss = 0.188972 | Eta = 0.000272\n",
      "\n",
      "Epoch 31 of 1000: Train Loss = 0.214625 | Val Loss = 0.186250 | Eta = 0.000264\n",
      "\n",
      "Epoch 32 of 1000: Train Loss = 0.205026 | Val Loss = 0.185158 | Eta = 0.000256\n",
      "\n",
      "Epoch 33 of 1000: Train Loss = 0.206583 | Val Loss = 0.182280 | Eta = 0.000249\n",
      "\n",
      "Epoch 34 of 1000: Train Loss = 0.198218 | Val Loss = 0.187578 | Eta = 0.000242\n",
      "\n",
      "Epoch 35 of 1000: Train Loss = 0.198480 | Val Loss = 0.186530 | Eta = 0.000235\n",
      "\n",
      "Epoch 36 of 1000: Train Loss = 0.201648 | Val Loss = 0.186097 | Eta = 0.000229\n",
      "\n",
      "Epoch 37 of 1000: Train Loss = 0.204186 | Val Loss = 0.184797 | Eta = 0.000223\n",
      "\n",
      "Epoch 38 of 1000: Train Loss = 0.227609 | Val Loss = 0.187720 | Eta = 0.000218\n",
      "\n",
      "Epoch 39 of 1000: Train Loss = 0.198425 | Val Loss = 0.186570 | Eta = 0.000212\n",
      "\n",
      "Epoch 40 of 1000: Train Loss = 0.202582 | Val Loss = 0.183872 | Eta = 0.000207\n",
      "\n",
      "Epoch 41 of 1000: Train Loss = 0.201649 | Val Loss = 0.186441 | Eta = 0.000202\n",
      "\n",
      "Epoch 42 of 1000: Train Loss = 0.202541 | Val Loss = 0.185668 | Eta = 0.000198\n",
      "\n",
      "Epoch 43 of 1000: Train Loss = 0.198753 | Val Loss = 0.185926 | Eta = 0.000193\n",
      "\n",
      "Epoch 44 of 1000: Train Loss = 0.209062 | Val Loss = 0.187566 | Eta = 0.000189\n",
      "\n",
      "Epoch 45 of 1000: Train Loss = 0.204767 | Val Loss = 0.186947 | Eta = 0.000185\n",
      "\n",
      "Epoch 46 of 1000: Train Loss = 0.208902 | Val Loss = 0.189466 | Eta = 0.000181\n",
      "\n",
      "Epoch 47 of 1000: Train Loss = 0.221597 | Val Loss = 0.185310 | Eta = 0.000178\n",
      "\n",
      "Epoch 48 of 1000: Train Loss = 0.207785 | Val Loss = 0.189900 | Eta = 0.000174\n",
      "\n",
      "Epoch 49 of 1000: Train Loss = 0.194669 | Val Loss = 0.186040 | Eta = 0.000171\n",
      "\n",
      "Epoch 50 of 1000: Train Loss = 0.200991 | Val Loss = 0.186298 | Eta = 0.000167\n",
      "\n",
      "Epoch 51 of 1000: Train Loss = 0.205450 | Val Loss = 0.185058 | Eta = 0.000164\n",
      "\n",
      "Epoch 52 of 1000: Train Loss = 0.199183 | Val Loss = 0.189212 | Eta = 0.000161\n",
      "\n",
      "Epoch 53 of 1000: Train Loss = 0.214225 | Val Loss = 0.183979 | Eta = 0.000158\n",
      "\n",
      "Epoch 54 of 1000: Train Loss = 0.211810 | Val Loss = 0.183586 | Eta = 0.000155\n",
      "\n",
      "Epoch 55 of 1000: Train Loss = 0.179175 | Val Loss = 0.184536 | Eta = 0.000153\n",
      "\n",
      "Epoch 56 of 1000: Train Loss = 0.214060 | Val Loss = 0.183458 | Eta = 0.000150\n",
      "\n",
      "Epoch 57 of 1000: Train Loss = 0.212406 | Val Loss = 0.185155 | Eta = 0.000147\n",
      "\n",
      "Epoch 58 of 1000: Train Loss = 0.198247 | Val Loss = 0.185460 | Eta = 0.000145\n",
      "\n",
      "Epoch 59 of 1000: Train Loss = 0.198570 | Val Loss = 0.186283 | Eta = 0.000143\n",
      "\n",
      "Epoch 60 of 1000: Train Loss = 0.197904 | Val Loss = 0.185824 | Eta = 0.000140\n",
      "\n",
      "Epoch 61 of 1000: Train Loss = 0.187003 | Val Loss = 0.183704 | Eta = 0.000138\n",
      "\n",
      "Epoch 62 of 1000: Train Loss = 0.206608 | Val Loss = 0.186941 | Eta = 0.000136\n",
      "\n",
      "Epoch 63 of 1000: Train Loss = 0.198460 | Val Loss = 0.186197 | Eta = 0.000134\n",
      "\n",
      "Epoch 64 of 1000: Train Loss = 0.197161 | Val Loss = 0.186684 | Eta = 0.000132\n",
      "\n",
      "Epoch 65 of 1000: Train Loss = 0.206644 | Val Loss = 0.187666 | Eta = 0.000130\n",
      "\n",
      "Epoch 66 of 1000: Train Loss = 0.216249 | Val Loss = 0.186847 | Eta = 0.000128\n",
      "\n",
      "Epoch 67 of 1000: Train Loss = 0.192757 | Val Loss = 0.184684 | Eta = 0.000126\n",
      "\n",
      "Epoch 68 of 1000: Train Loss = 0.191896 | Val Loss = 0.188447 | Eta = 0.000124\n",
      "\n",
      "Epoch 69 of 1000: Train Loss = 0.187005 | Val Loss = 0.184348 | Eta = 0.000122\n",
      "\n",
      "Epoch 70 of 1000: Train Loss = 0.185909 | Val Loss = 0.184540 | Eta = 0.000121\n",
      "\n",
      "Epoch 71 of 1000: Train Loss = 0.194300 | Val Loss = 0.186410 | Eta = 0.000119\n",
      "\n",
      "Epoch 72 of 1000: Train Loss = 0.214289 | Val Loss = 0.185338 | Eta = 0.000118\n",
      "\n",
      "Epoch 73 of 1000: Train Loss = 0.207823 | Val Loss = 0.186256 | Eta = 0.000116\n",
      "\n",
      "Epoch 74 of 1000: Train Loss = 0.198611 | Val Loss = 0.186369 | Eta = 0.000114\n",
      "\n",
      "Epoch 75 of 1000: Train Loss = 0.194872 | Val Loss = 0.188439 | Eta = 0.000113\n",
      "\n",
      "Epoch 76 of 1000: Train Loss = 0.203047 | Val Loss = 0.185735 | Eta = 0.000111\n",
      "\n",
      "Epoch 77 of 1000: Train Loss = 0.221082 | Val Loss = 0.186602 | Eta = 0.000110\n",
      "\n",
      "Epoch 78 of 1000: Train Loss = 0.218298 | Val Loss = 0.187866 | Eta = 0.000109\n",
      "\n",
      "Epoch 79 of 1000: Train Loss = 0.218617 | Val Loss = 0.186774 | Eta = 0.000107\n",
      "\n",
      "Epoch 80 of 1000: Train Loss = 0.206343 | Val Loss = 0.185165 | Eta = 0.000106\n",
      "\n",
      "Epoch 81 of 1000: Train Loss = 0.212049 | Val Loss = 0.184742 | Eta = 0.000105\n",
      "\n",
      "Epoch 82 of 1000: Train Loss = 0.214179 | Val Loss = 0.187291 | Eta = 0.000104\n",
      "\n",
      "Epoch 83 of 1000: Train Loss = 0.210478 | Val Loss = 0.184583 | Eta = 0.000102\n",
      "\n",
      "Epoch 84 of 1000: Train Loss = 0.211685 | Val Loss = 0.183794 | Eta = 0.000101\n",
      "\n",
      "Epoch 85 of 1000: Train Loss = 0.197835 | Val Loss = 0.185615 | Eta = 0.000100\n",
      "\n",
      "Epoch 86 of 1000: Train Loss = 0.193825 | Val Loss = 0.184986 | Eta = 0.000099\n",
      "\n",
      "Epoch 87 of 1000: Train Loss = 0.192004 | Val Loss = 0.186055 | Eta = 0.000098\n",
      "\n",
      "Epoch 88 of 1000: Train Loss = 0.203212 | Val Loss = 0.185392 | Eta = 0.000097\n",
      "\n",
      "Epoch 89 of 1000: Train Loss = 0.209959 | Val Loss = 0.185766 | Eta = 0.000096\n",
      "\n",
      "Epoch 90 of 1000: Train Loss = 0.210069 | Val Loss = 0.182064 | Eta = 0.000094\n",
      "\n",
      "Epoch 91 of 1000: Train Loss = 0.199663 | Val Loss = 0.182899 | Eta = 0.000093\n",
      "\n",
      "Epoch 92 of 1000: Train Loss = 0.190153 | Val Loss = 0.184665 | Eta = 0.000092\n",
      "\n",
      "Epoch 93 of 1000: Train Loss = 0.212400 | Val Loss = 0.184257 | Eta = 0.000092\n",
      "\n",
      "Epoch 94 of 1000: Train Loss = 0.208727 | Val Loss = 0.184224 | Eta = 0.000091\n",
      "\n",
      "Epoch 95 of 1000: Train Loss = 0.193904 | Val Loss = 0.185513 | Eta = 0.000090\n",
      "\n",
      "Epoch 96 of 1000: Train Loss = 0.215567 | Val Loss = 0.184133 | Eta = 0.000089\n",
      "\n",
      "Epoch 97 of 1000: Train Loss = 0.194807 | Val Loss = 0.184328 | Eta = 0.000088\n",
      "\n",
      "Epoch 98 of 1000: Train Loss = 0.193834 | Val Loss = 0.184032 | Eta = 0.000087\n",
      "\n",
      "Epoch 99 of 1000: Train Loss = 0.208173 | Val Loss = 0.184134 | Eta = 0.000086\n",
      "\n",
      "Epoch 100 of 1000: Train Loss = 0.209688 | Val Loss = 0.183605 | Eta = 0.000085\n",
      "\n",
      "Epoch 101 of 1000: Train Loss = 0.195217 | Val Loss = 0.184424 | Eta = 0.000084\n",
      "\n",
      "Epoch 102 of 1000: Train Loss = 0.228446 | Val Loss = 0.184168 | Eta = 0.000084\n",
      "\n",
      "Epoch 103 of 1000: Train Loss = 0.215234 | Val Loss = 0.183303 | Eta = 0.000083\n",
      "\n",
      "Epoch 104 of 1000: Train Loss = 0.200506 | Val Loss = 0.182565 | Eta = 0.000082\n"
     ]
    },
    {
     "name": "stdout",
     "output_type": "stream",
     "text": [
      "\n",
      "Epoch 105 of 1000: Train Loss = 0.196622 | Val Loss = 0.184021 | Eta = 0.000081\n",
      "\n",
      "Epoch 106 of 1000: Train Loss = 0.202427 | Val Loss = 0.183888 | Eta = 0.000080\n",
      "\n",
      "Epoch 107 of 1000: Train Loss = 0.192231 | Val Loss = 0.184459 | Eta = 0.000080\n",
      "\n",
      "Epoch 108 of 1000: Train Loss = 0.212814 | Val Loss = 0.182692 | Eta = 0.000079\n",
      "\n",
      "Epoch 109 of 1000: Train Loss = 0.208989 | Val Loss = 0.181601 | Eta = 0.000078\n",
      "\n",
      "Epoch 110 of 1000: Train Loss = 0.185947 | Val Loss = 0.185109 | Eta = 0.000078\n",
      "\n",
      "Epoch 111 of 1000: Train Loss = 0.210520 | Val Loss = 0.183993 | Eta = 0.000077\n",
      "\n",
      "Epoch 112 of 1000: Train Loss = 0.225236 | Val Loss = 0.182629 | Eta = 0.000076\n",
      "\n",
      "Epoch 113 of 1000: Train Loss = 0.205437 | Val Loss = 0.181615 | Eta = 0.000076\n",
      "\n",
      "Epoch 114 of 1000: Train Loss = 0.193911 | Val Loss = 0.182211 | Eta = 0.000075\n",
      "\n",
      "Epoch 115 of 1000: Train Loss = 0.207580 | Val Loss = 0.181544 | Eta = 0.000074\n",
      "\n",
      "Epoch 116 of 1000: Train Loss = 0.209943 | Val Loss = 0.181170 | Eta = 0.000074\n",
      "\n",
      "Epoch 117 of 1000: Train Loss = 0.211536 | Val Loss = 0.182312 | Eta = 0.000073\n",
      "\n",
      "Epoch 118 of 1000: Train Loss = 0.204402 | Val Loss = 0.182068 | Eta = 0.000072\n",
      "\n",
      "Epoch 119 of 1000: Train Loss = 0.205380 | Val Loss = 0.182575 | Eta = 0.000072\n",
      "\n",
      "Epoch 120 of 1000: Train Loss = 0.186359 | Val Loss = 0.181433 | Eta = 0.000071\n",
      "\n",
      "Epoch 121 of 1000: Train Loss = 0.211468 | Val Loss = 0.183701 | Eta = 0.000071\n",
      "\n",
      "Epoch 122 of 1000: Train Loss = 0.211614 | Val Loss = 0.183696 | Eta = 0.000070\n",
      "\n",
      "Epoch 123 of 1000: Train Loss = 0.195501 | Val Loss = 0.181712 | Eta = 0.000070\n",
      "\n",
      "Epoch 124 of 1000: Train Loss = 0.199953 | Val Loss = 0.182096 | Eta = 0.000069\n",
      "\n",
      "Epoch 125 of 1000: Train Loss = 0.206422 | Val Loss = 0.183388 | Eta = 0.000068\n",
      "\n",
      "Epoch 126 of 1000: Train Loss = 0.192749 | Val Loss = 0.182625 | Eta = 0.000068\n",
      "\n",
      "Epoch 127 of 1000: Train Loss = 0.200878 | Val Loss = 0.182488 | Eta = 0.000067\n",
      "\n",
      "Epoch 128 of 1000: Train Loss = 0.208784 | Val Loss = 0.181846 | Eta = 0.000067\n",
      "\n",
      "Epoch 129 of 1000: Train Loss = 0.183957 | Val Loss = 0.181221 | Eta = 0.000066\n",
      "\n",
      "Epoch 130 of 1000: Train Loss = 0.190600 | Val Loss = 0.181566 | Eta = 0.000066\n",
      "\n",
      "Epoch 131 of 1000: Train Loss = 0.198776 | Val Loss = 0.181847 | Eta = 0.000065\n",
      "\n",
      "Epoch 132 of 1000: Train Loss = 0.202852 | Val Loss = 0.181298 | Eta = 0.000065\n",
      "\n",
      "Epoch 133 of 1000: Train Loss = 0.214399 | Val Loss = 0.181614 | Eta = 0.000064\n",
      "\n",
      "Epoch 134 of 1000: Train Loss = 0.189228 | Val Loss = 0.182170 | Eta = 0.000064\n",
      "\n",
      "Epoch 135 of 1000: Train Loss = 0.201160 | Val Loss = 0.182435 | Eta = 0.000063\n",
      "\n",
      "Epoch 136 of 1000: Train Loss = 0.202357 | Val Loss = 0.182158 | Eta = 0.000063\n",
      "\n",
      "Epoch 137 of 1000: Train Loss = 0.220144 | Val Loss = 0.182314 | Eta = 0.000063\n",
      "\n",
      "Epoch 138 of 1000: Train Loss = 0.193769 | Val Loss = 0.182035 | Eta = 0.000062\n",
      "\n",
      "Epoch 139 of 1000: Train Loss = 0.194337 | Val Loss = 0.183477 | Eta = 0.000062\n",
      "\n",
      "Epoch 140 of 1000: Train Loss = 0.188033 | Val Loss = 0.183048 | Eta = 0.000061\n",
      "\n",
      "Epoch 141 of 1000: Train Loss = 0.202502 | Val Loss = 0.183455 | Eta = 0.000061\n",
      "\n",
      "Epoch 142 of 1000: Train Loss = 0.198419 | Val Loss = 0.182844 | Eta = 0.000060\n",
      "\n",
      "Early Stopping because the validation loss change between two consecutive epochs is less than 0.001000 over the last 20 iterations\n"
     ]
    }
   ],
   "source": [
    "m2.fit(Xr_train, yr_train, validation_fraction=0.1, max_iter=1000, verbose=True)"
   ]
  },
  {
   "cell_type": "code",
   "execution_count": 109,
   "metadata": {},
   "outputs": [
    {
     "data": {
      "image/png": "[encoded data removed]",
      "text/plain": [
       "<Figure size 960x720 with 1 Axes>"
      ]
     },
     "metadata": {
      "needs_background": "light"
     },
     "output_type": "display_data"
    }
   ],
   "source": [
    "m2.plotLearningCurve()"
   ]
  },
  {
   "cell_type": "code",
   "execution_count": 110,
   "metadata": {},
   "outputs": [
    {
     "data": {
      "text/plain": [
       "0.2001722249356165"
      ]
     },
     "execution_count": 110,
     "metadata": {},
     "output_type": "execute_result"
    }
   ],
   "source": [
    "y_pred=m2.predict(Xr_test)\n",
    "MSE(yr_test,y_pred)"
   ]
  }
 ],
 "metadata": {
  "kernelspec": {
   "display_name": "Python 3",
   "language": "python",
   "name": "python3"
  },
  "language_info": {
   "codemirror_mode": {
    "name": "ipython",
    "version": 3
   },
   "file_extension": ".py",
   "mimetype": "text/x-python",
   "name": "python",
   "nbconvert_exporter": "python",
   "pygments_lexer": "ipython3",
   "version": "3.8.5"
  }
 },
 "nbformat": 4,
 "nbformat_minor": 4
}
