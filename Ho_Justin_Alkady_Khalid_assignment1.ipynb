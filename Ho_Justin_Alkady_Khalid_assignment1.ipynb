{
 "cells": [
  {
   "cell_type": "markdown",
   "metadata": {},
   "source": [
    "# K-Nearest Neighbour Model for Binary Classification\n",
    "This notebook is the implementation of K-Nearest Neighbour for Binary Classification and this has 3 main parts\n",
    "1. **Part A:** Model Code\n",
    "1. **Part B:** Data Processing\n",
    "1. **Part C:** Model Evaluation\n",
    "A written report would also be included on the data and the KNN Classifier"
   ]
  },
  {
   "cell_type": "code",
   "execution_count": 1,
   "metadata": {},
   "outputs": [],
   "source": [
    "import numpy as np\n",
    "import pandas as pd\n",
    "import matplotlib.pyplot as plt"
   ]
  },
  {
   "cell_type": "code",
   "execution_count": 2,
   "metadata": {},
   "outputs": [],
   "source": [
    "from scipy.spatial import distance"
   ]
  },
  {
   "cell_type": "markdown",
   "metadata": {},
   "source": [
    "## Part A"
   ]
  },
  {
   "cell_type": "markdown",
   "metadata": {},
   "source": [
    "### 1. Write a function to calculate and return the Euclidean distance of two vectors."
   ]
  },
  {
   "cell_type": "code",
   "execution_count": 3,
   "metadata": {},
   "outputs": [],
   "source": [
    "\"\"\"\n",
    "Calculation of Euclidean Distance with Matrix Notation\n",
    "Input:\n",
    "    x,y: 1D array_like types (will be converted to ndarray)\n",
    "    dist: Euclidean Distance of x and y\n",
    "\"\"\"\n",
    "def euclidean_dist(x, y):\n",
    "    x = np.array(x)\n",
    "    y = np.array(y)\n",
    "    diff = x - y\n",
    "    dist = np.sqrt(np.dot(diff,diff))\n",
    "    return dist"
   ]
  },
  {
   "cell_type": "code",
   "execution_count": 4,
   "metadata": {},
   "outputs": [],
   "source": [
    "# 2 Khalid"
   ]
  },
  {
   "cell_type": "markdown",
   "metadata": {},
   "source": [
    "### 3. Write a function to calculate and return the accuracy and generalization error of two vectors. This function takes two one-dimensional arrays as input: one containing the true labels and one containing the predicted labels."
   ]
  },
  {
   "cell_type": "code",
   "execution_count": 5,
   "metadata": {},
   "outputs": [],
   "source": [
    "\"\"\"\n",
    "Calculates the accuracy between the true and predicted labels\n",
    "Input: \n",
    "    true: array_like type vector of true labels\n",
    "    pred: array_like type vector of predicted labels\n",
    "Output:\n",
    "    accuracy: accuracy expressed in decimal\n",
    "\"\"\"\n",
    "def accuracy(true, pred):\n",
    "    match = map(lambda x,y: x == y, list(true), list(pred))\n",
    "    match = map(lambda x: 1 if x else 0, list(match))\n",
    "    accuracy = np.mean(list(match))\n",
    "    return accuracy"
   ]
  },
  {
   "cell_type": "code",
   "execution_count": 6,
   "metadata": {},
   "outputs": [],
   "source": [
    "# 4 Khalid"
   ]
  },
  {
   "cell_type": "markdown",
   "metadata": {},
   "source": [
    "### 5. Write a function to compute the confusion matrix of two vectors. This function takes two one-dimensional arrays as input: one containing the true labels and one containing the predicted labels.\n"
   ]
  },
  {
   "cell_type": "code",
   "execution_count": 7,
   "metadata": {},
   "outputs": [],
   "source": [
    "'''\n",
    "Produces confusion matrix (assuming binary classification) given predicted\n",
    "and true labels\n",
    "Input: \n",
    "    true: array_like type vector of true labels\n",
    "    pred: array_like type vector of predicted labels\n",
    "Output:\n",
    "    Confusion Matrix: 2D ndarray of the following format (same as sklearn)\n",
    "    array([[tn, fp],\n",
    "           [fn, tp]])\n",
    "'''\n",
    "def confusion_matrix(true, pred):\n",
    "    tp = map(lambda x,y: 1 if (x == 1 and y == 1) else 0, list(true), list(pred))\n",
    "    tp = np.sum(list(tp))\n",
    "    \n",
    "    tn = map(lambda x,y: 1 if (x == 0 and y == 0) else 0, list(true), list(pred))\n",
    "    tn = np.sum(list(tn))\n",
    "    \n",
    "    fp = map(lambda x,y: 1 if (x == 0 and y == 1) else 0, list(true), list(pred))\n",
    "    fp = np.sum(list(fp))\n",
    "    \n",
    "    fn = map(lambda x,y: 1 if (x == 1 and y == 0) else 0, list(true), list(pred))\n",
    "    fn = np.sum(list(fn))\n",
    "    \n",
    "    return np.array([[tn, fp], [fn, tp]])"
   ]
  },
  {
   "cell_type": "markdown",
   "metadata": {},
   "source": [
    "### 6. Write a function to generate the Receiver Operating Characteristic (ROC) curve. This function takes the following 3 input: a one-dimensional array containing the true labels, a one-dimensional array containing the probability estimates of the positive class, and a one-dimensional array containing a set of threshold values between 0 and 1. It should return the True Positive Rate (TPR) and False Positive Rate (FPR) as two one-dimensional arrays, as well as draw the ROC curve by using TPR, FPR, and the threshold values."
   ]
  },
  {
   "cell_type": "code",
   "execution_count": 8,
   "metadata": {},
   "outputs": [],
   "source": [
    "'''\n",
    "Takes true label, probability of positive class and threshold and produce the ROC\n",
    "Curve and returns the true positive rates and false positive rates associated \n",
    "with the threshold\n",
    "\n",
    "Input:\n",
    "    true: 1D array_like vector of true labels with values 0 or 1\n",
    "    probability: 1D array_like vector of probability of having positive label in range(0,1)\n",
    "    threshold: 1D array_like vector in range(0,1)\n",
    "Output:\n",
    "    true_positive_rates, false_positive_rates: tpr and fpr rates corresponding to threshold\n",
    "    ROC Curve Plot\n",
    "'''\n",
    "def roc_curve(true, probability, threshold, plot = True):\n",
    "    true_positive_rates = []\n",
    "    false_positive_rates = []\n",
    "    \n",
    "    for t in threshold:\n",
    "        pred = list(map(lambda x: 1 if x >= t else 0, list(probability)))\n",
    "\n",
    "        tn,fp,fn,tp = confusion_matrix(true, pred).ravel()\n",
    "        \n",
    "        tpr = tp/(tp + fn)\n",
    "        fpr = fp/(fp + tn)\n",
    "        \n",
    "        true_positive_rates.append(tpr)\n",
    "        false_positive_rates.append(fpr)\n",
    "        \n",
    "    if plot:\n",
    "        plt.figure()\n",
    "        plt.plot(true_positive_rates, false_positive_rates)\n",
    "        plt.xlabel(\"True Positive Rate\")\n",
    "        plt.ylabel(\"False Positive Rate\")\n",
    "        plt.xlim([0,1.0])\n",
    "        plt.ylim([0,1.0])\n",
    "        plt.title('Receiver Operating Characteristic Curve')\n",
    "        \n",
    "    return true_positive_rates, false_positive_rates"
   ]
  },
  {
   "cell_type": "markdown",
   "metadata": {},
   "source": [
    "Testing"
   ]
  },
  {
   "cell_type": "code",
   "execution_count": 9,
   "metadata": {},
   "outputs": [
    {
     "data": {
      "text/plain": [
       "([1.0, 1.0, 1.0, 0.75, 0.5, 0.5, 0.25, 0.0, 0.0],\n",
       " [1.0, 1.0, 0.6, 0.4, 0.2, 0.2, 0.2, 0.0, 0.0])"
      ]
     },
     "execution_count": 9,
     "metadata": {},
     "output_type": "execute_result"
    },
    {
     "data": {
      "image/png": "[encoded data removed]",
      "text/plain": [
       "<Figure size 432x288 with 1 Axes>"
      ]
     },
     "metadata": {
      "needs_background": "light"
     },
     "output_type": "display_data"
    }
   ],
   "source": [
    "true = [1,1,0,0,1,1,0,0,0]\n",
    "probability = [0.6,0.7,0.1,0.2,0.4,0.3,0.4,0.3,0.7]\n",
    "threshold = [0,0.1,0.21,0.31,0.41,0.51,0.61,0.71,1]\n",
    "roc_curve(true, probability, threshold)"
   ]
  },
  {
   "cell_type": "markdown",
   "metadata": {},
   "source": [
    "### 7. Write a function to compute area under curve (AUC) for the ROC curve. This function takes the following 2 input: a one-dimensional array containing the true labels and a one-dimensional array containing the probability estimates of the positive class. For integration along the given axis required to compute the AUC score, you may use the numpy.trapz() function.\n"
   ]
  },
  {
   "cell_type": "code",
   "execution_count": 10,
   "metadata": {},
   "outputs": [],
   "source": [
    "'''\n",
    "Given true labels and probability of positive labels, returns the area under the curve of the ROC\n",
    "Input:\n",
    "    true: 1D array_like vector of true labels with values 0 or 1\n",
    "    probability: 1D array_like vector of probability of having positive label in range(0,1)\n",
    "Output:\n",
    "    Area Under the Curve, range(0,1)\n",
    "'''\n",
    "def area_under_curve(true, probability):\n",
    "    threshold = [x/100 for x in range(0,101)]\n",
    "    \n",
    "    tpr, fpr = roc_curve(true, probability, threshold, plot = False)\n",
    "    \n",
    "    return abs(np.trapz(fpr,tpr))"
   ]
  },
  {
   "cell_type": "code",
   "execution_count": 11,
   "metadata": {},
   "outputs": [
    {
     "data": {
      "text/plain": [
       "0.275"
      ]
     },
     "execution_count": 11,
     "metadata": {},
     "output_type": "execute_result"
    }
   ],
   "source": [
    "area_under_curve(true, probability)"
   ]
  },
  {
   "cell_type": "code",
   "execution_count": 12,
   "metadata": {},
   "outputs": [],
   "source": [
    "# 8 Khalid"
   ]
  },
  {
   "cell_type": "code",
   "execution_count": 13,
   "metadata": {},
   "outputs": [],
   "source": [
    "# 9 Some time later"
   ]
  },
  {
   "cell_type": "markdown",
   "metadata": {},
   "source": [
    "## Part B"
   ]
  },
  {
   "cell_type": "code",
   "execution_count": 14,
   "metadata": {},
   "outputs": [],
   "source": [
    "# 10-14 Khalid"
   ]
  },
  {
   "cell_type": "code",
   "execution_count": 15,
   "metadata": {},
   "outputs": [],
   "source": [
    "# 15&16 Justin"
   ]
  },
  {
   "cell_type": "markdown",
   "metadata": {},
   "source": [
    "## Part C"
   ]
  },
  {
   "cell_type": "code",
   "execution_count": 16,
   "metadata": {},
   "outputs": [],
   "source": [
    "# TO DO LATER"
   ]
  }
 ],
 "metadata": {
  "kernelspec": {
   "display_name": "Python 3",
   "language": "python",
   "name": "python3"
  },
  "language_info": {
   "codemirror_mode": {
    "name": "ipython",
    "version": 3
   },
   "file_extension": ".py",
   "mimetype": "text/x-python",
   "name": "python",
   "nbconvert_exporter": "python",
   "pygments_lexer": "ipython3",
   "version": "3.8.5"
  }
 },
 "nbformat": 4,
 "nbformat_minor": 4
}
