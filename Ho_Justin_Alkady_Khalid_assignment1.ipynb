{
 "cells": [
  {
   "cell_type": "markdown",
   "metadata": {},
   "source": [
    "# K-Nearest Neighbour Model for Binary Classification\n",
    "This notebook is the implementation of K-Nearest Neighbour for Binary Classification and this has 3 main parts\n",
    "1. **Part A:** Model Code\n",
    "1. **Part B:** Data Processing\n",
    "1. **Part C:** Model Evaluation\n",
    "A written report would also be included on the data and the KNN Classifier"
   ]
  },
  {
   "cell_type": "code",
   "execution_count": null,
   "metadata": {},
   "outputs": [],
   "source": []
  }
 ],
 "metadata": {
  "kernelspec": {
   "display_name": "Python 3",
   "language": "python",
   "name": "python3"
  },
  "language_info": {
   "codemirror_mode": {
    "name": "ipython",
    "version": 3
   },
   "file_extension": ".py",
   "mimetype": "text/x-python",
   "name": "python",
   "nbconvert_exporter": "python",
   "pygments_lexer": "ipython3",
   "version": "3.8.5"
  }
 },
 "nbformat": 4,
 "nbformat_minor": 4
}
